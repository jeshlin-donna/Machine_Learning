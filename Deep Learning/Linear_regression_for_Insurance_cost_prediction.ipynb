{
  "nbformat": 4,
  "nbformat_minor": 0,
  "metadata": {
    "colab": {
      "name": "Linear regression for Insurance cost prediction ",
      "provenance": []
    },
    "kernelspec": {
      "display_name": "Python 3",
      "language": "python",
      "name": "python3"
    },
    "language_info": {
      "codemirror_mode": {
        "name": "ipython",
        "version": 3
      },
      "file_extension": ".py",
      "mimetype": "text/x-python",
      "name": "python",
      "nbconvert_exporter": "python",
      "pygments_lexer": "ipython3",
      "version": "3.8.5"
    },
    "widgets": {
      "application/vnd.jupyter.widget-state+json": {
        "5a7795ab57e1476eb93f158c83c1152b": {
          "model_module": "@jupyter-widgets/controls",
          "model_name": "HBoxModel",
          "state": {
            "_dom_classes": [],
            "_model_module": "@jupyter-widgets/controls",
            "_model_module_version": "1.5.0",
            "_model_name": "HBoxModel",
            "_view_count": null,
            "_view_module": "@jupyter-widgets/controls",
            "_view_module_version": "1.5.0",
            "_view_name": "HBoxView",
            "box_style": "",
            "children": [
              "IPY_MODEL_8352839f974147bfaa313948db40170a",
              "IPY_MODEL_c5ded42c6b434be58a701243eb2fb697"
            ],
            "layout": "IPY_MODEL_cc0724a86b6246ec831222caa84101a2"
          }
        },
        "8352839f974147bfaa313948db40170a": {
          "model_module": "@jupyter-widgets/controls",
          "model_name": "FloatProgressModel",
          "state": {
            "_dom_classes": [],
            "_model_module": "@jupyter-widgets/controls",
            "_model_module_version": "1.5.0",
            "_model_name": "FloatProgressModel",
            "_view_count": null,
            "_view_module": "@jupyter-widgets/controls",
            "_view_module_version": "1.5.0",
            "_view_name": "ProgressView",
            "bar_style": "info",
            "description": "",
            "description_tooltip": null,
            "layout": "IPY_MODEL_9682b70d5dcd40a0aabc981b93e92347",
            "max": 1,
            "min": 0,
            "orientation": "horizontal",
            "style": "IPY_MODEL_446b757b34504452bd90531d028823c6",
            "value": 1
          }
        },
        "c5ded42c6b434be58a701243eb2fb697": {
          "model_module": "@jupyter-widgets/controls",
          "model_name": "HTMLModel",
          "state": {
            "_dom_classes": [],
            "_model_module": "@jupyter-widgets/controls",
            "_model_module_version": "1.5.0",
            "_model_name": "HTMLModel",
            "_view_count": null,
            "_view_module": "@jupyter-widgets/controls",
            "_view_module_version": "1.5.0",
            "_view_name": "HTMLView",
            "description": "",
            "description_tooltip": null,
            "layout": "IPY_MODEL_a903aafc572c4a0bad0eb388f8a9ad5e",
            "placeholder": "​",
            "style": "IPY_MODEL_07dd1fe1f1cb42cd98748b78677a6a61",
            "value": " 57344/? [00:20&lt;00:00, 131416.91it/s]"
          }
        },
        "cc0724a86b6246ec831222caa84101a2": {
          "model_module": "@jupyter-widgets/base",
          "model_name": "LayoutModel",
          "state": {
            "_model_module": "@jupyter-widgets/base",
            "_model_module_version": "1.2.0",
            "_model_name": "LayoutModel",
            "_view_count": null,
            "_view_module": "@jupyter-widgets/base",
            "_view_module_version": "1.2.0",
            "_view_name": "LayoutView",
            "align_content": null,
            "align_items": null,
            "align_self": null,
            "border": null,
            "bottom": null,
            "display": null,
            "flex": null,
            "flex_flow": null,
            "grid_area": null,
            "grid_auto_columns": null,
            "grid_auto_flow": null,
            "grid_auto_rows": null,
            "grid_column": null,
            "grid_gap": null,
            "grid_row": null,
            "grid_template_areas": null,
            "grid_template_columns": null,
            "grid_template_rows": null,
            "height": null,
            "justify_content": null,
            "justify_items": null,
            "left": null,
            "margin": null,
            "max_height": null,
            "max_width": null,
            "min_height": null,
            "min_width": null,
            "object_fit": null,
            "object_position": null,
            "order": null,
            "overflow": null,
            "overflow_x": null,
            "overflow_y": null,
            "padding": null,
            "right": null,
            "top": null,
            "visibility": null,
            "width": null
          }
        },
        "9682b70d5dcd40a0aabc981b93e92347": {
          "model_module": "@jupyter-widgets/base",
          "model_name": "LayoutModel",
          "state": {
            "_model_module": "@jupyter-widgets/base",
            "_model_module_version": "1.2.0",
            "_model_name": "LayoutModel",
            "_view_count": null,
            "_view_module": "@jupyter-widgets/base",
            "_view_module_version": "1.2.0",
            "_view_name": "LayoutView",
            "align_content": null,
            "align_items": null,
            "align_self": null,
            "border": null,
            "bottom": null,
            "display": null,
            "flex": null,
            "flex_flow": null,
            "grid_area": null,
            "grid_auto_columns": null,
            "grid_auto_flow": null,
            "grid_auto_rows": null,
            "grid_column": null,
            "grid_gap": null,
            "grid_row": null,
            "grid_template_areas": null,
            "grid_template_columns": null,
            "grid_template_rows": null,
            "height": null,
            "justify_content": null,
            "justify_items": null,
            "left": null,
            "margin": null,
            "max_height": null,
            "max_width": null,
            "min_height": null,
            "min_width": null,
            "object_fit": null,
            "object_position": null,
            "order": null,
            "overflow": null,
            "overflow_x": null,
            "overflow_y": null,
            "padding": null,
            "right": null,
            "top": null,
            "visibility": null,
            "width": null
          }
        },
        "446b757b34504452bd90531d028823c6": {
          "model_module": "@jupyter-widgets/controls",
          "model_name": "ProgressStyleModel",
          "state": {
            "_model_module": "@jupyter-widgets/controls",
            "_model_module_version": "1.5.0",
            "_model_name": "ProgressStyleModel",
            "_view_count": null,
            "_view_module": "@jupyter-widgets/base",
            "_view_module_version": "1.2.0",
            "_view_name": "StyleView",
            "bar_color": null,
            "description_width": "initial"
          }
        },
        "a903aafc572c4a0bad0eb388f8a9ad5e": {
          "model_module": "@jupyter-widgets/base",
          "model_name": "LayoutModel",
          "state": {
            "_model_module": "@jupyter-widgets/base",
            "_model_module_version": "1.2.0",
            "_model_name": "LayoutModel",
            "_view_count": null,
            "_view_module": "@jupyter-widgets/base",
            "_view_module_version": "1.2.0",
            "_view_name": "LayoutView",
            "align_content": null,
            "align_items": null,
            "align_self": null,
            "border": null,
            "bottom": null,
            "display": null,
            "flex": null,
            "flex_flow": null,
            "grid_area": null,
            "grid_auto_columns": null,
            "grid_auto_flow": null,
            "grid_auto_rows": null,
            "grid_column": null,
            "grid_gap": null,
            "grid_row": null,
            "grid_template_areas": null,
            "grid_template_columns": null,
            "grid_template_rows": null,
            "height": null,
            "justify_content": null,
            "justify_items": null,
            "left": null,
            "margin": null,
            "max_height": null,
            "max_width": null,
            "min_height": null,
            "min_width": null,
            "object_fit": null,
            "object_position": null,
            "order": null,
            "overflow": null,
            "overflow_x": null,
            "overflow_y": null,
            "padding": null,
            "right": null,
            "top": null,
            "visibility": null,
            "width": null
          }
        },
        "07dd1fe1f1cb42cd98748b78677a6a61": {
          "model_module": "@jupyter-widgets/controls",
          "model_name": "DescriptionStyleModel",
          "state": {
            "_model_module": "@jupyter-widgets/controls",
            "_model_module_version": "1.5.0",
            "_model_name": "DescriptionStyleModel",
            "_view_count": null,
            "_view_module": "@jupyter-widgets/base",
            "_view_module_version": "1.2.0",
            "_view_name": "StyleView",
            "description_width": ""
          }
        }
      }
    }
  },
  "cells": [
    {
      "cell_type": "markdown",
      "metadata": {
        "id": "j4XyYSiNmp33"
      },
      "source": [
        "# Insurance cost prediction using linear regression\n",
        "\n",
        "\n",
        "We're going to use information like a person's age, sex, BMI, no. of children and smoking habit to predict the price of yearly medical bills. This kind of model is useful for insurance companies to determine the yearly insurance premium for a person. The dataset for this problem is taken from [Kaggle](https://www.kaggle.com/mirichoi0218/insurance).\n",
        "\n",
        "\n",
        "We will create a model with the following steps:\n",
        "1. Download and explore the dataset\n",
        "2. Prepare the dataset for training\n",
        "3. Create a linear regression model\n",
        "4. Train the model to fit the data\n",
        "5. Make predictions using the trained model\n",
        "\n",
        "\n"
      ]
    },
    {
      "cell_type": "code",
      "metadata": {
        "id": "liSiuDZEmp4F"
      },
      "source": [
        "# Uncomment and run the appropriate command for your operating system, if required\n",
        " \n",
        "# Linux / Binder\n",
        "# !pip install numpy matplotlib pandas torch==1.7.0+cpu torchvision==0.8.1+cpu torchaudio==0.7.0 -f https://download.pytorch.org/whl/torch_stable.html\n",
        " \n",
        "# Windows\n",
        "# !pip install numpy matplotlib pandas torch==1.7.0+cpu torchvision==0.8.1+cpu torchaudio==0.7.0 -f https://download.pytorch.org/whl/torch_stable.html\n",
        " \n",
        "# MacOS\n",
        "# !pip install numpy matplotlib pandas torch torchvision torchaudio"
      ],
      "execution_count": null,
      "outputs": []
    },
    {
      "cell_type": "code",
      "metadata": {
        "id": "MpFQfjImmp4M"
      },
      "source": [
        "import torch\n",
        "import jovian\n",
        "import torchvision\n",
        "import torch.nn as nn\n",
        "import pandas as pd\n",
        "import matplotlib.pyplot as plt\n",
        "import torch.nn.functional as F\n",
        "from torchvision.datasets.utils import download_url\n",
        "from torch.utils.data import DataLoader, TensorDataset, random_split"
      ],
      "execution_count": null,
      "outputs": []
    },
    {
      "cell_type": "markdown",
      "metadata": {
        "id": "846u8TxNmp4W"
      },
      "source": [
        "## Step 1: Download and explore the data\n",
        "\n",
        "Let us begin by downloading the data. We'll use the `download_url` function from PyTorch to get the data as a CSV (comma-separated values) file. "
      ]
    },
    {
      "cell_type": "code",
      "metadata": {
        "colab": {
          "base_uri": "https://localhost:8080/",
          "height": 182,
          "referenced_widgets": [
            "5a7795ab57e1476eb93f158c83c1152b",
            "8352839f974147bfaa313948db40170a",
            "c5ded42c6b434be58a701243eb2fb697",
            "cc0724a86b6246ec831222caa84101a2",
            "9682b70d5dcd40a0aabc981b93e92347",
            "446b757b34504452bd90531d028823c6",
            "a903aafc572c4a0bad0eb388f8a9ad5e",
            "07dd1fe1f1cb42cd98748b78677a6a61"
          ]
        },
        "id": "d_AmWZAcmp4c",
        "outputId": "3cdd02e5-251f-4cd7-860d-aaa0c3bce0dd"
      },
      "source": [
        "DATASET_URL = \"https://hub.jovian.ml/wp-content/uploads/2020/05/insurance.csv\"\n",
        "DATA_FILENAME = \"insurance.csv\"\n",
        "download_url(DATASET_URL, '.')"
      ],
      "execution_count": null,
      "outputs": [
        {
          "output_type": "stream",
          "text": [
            "Downloading https://hub.jovian.ml/wp-content/uploads/2020/05/insurance.csv to ./insurance.csv\n"
          ],
          "name": "stdout"
        },
        {
          "output_type": "display_data",
          "data": {
            "application/vnd.jupyter.widget-view+json": {
              "model_id": "5a7795ab57e1476eb93f158c83c1152b",
              "version_major": 2,
              "version_minor": 0
            },
            "text/plain": [
              "HBox(children=(FloatProgress(value=1.0, bar_style='info', max=1.0), HTML(value='')))"
            ]
          },
          "metadata": {
            "tags": []
          }
        }
      ]
    },
    {
      "cell_type": "markdown",
      "metadata": {
        "id": "rPoEfQ8Kmp4q"
      },
      "source": [
        "To load the dataset into memory, we'll use the `read_csv` function from the `pandas` library. The data will be loaded as a Pandas dataframe. See this short tutorial to learn more: https://data36.com/pandas-tutorial-1-basics-reading-data-files-dataframes-data-selection/"
      ]
    },
    {
      "cell_type": "code",
      "metadata": {
        "colab": {
          "base_uri": "https://localhost:8080/",
          "height": 244
        },
        "id": "2zNcyOOlmp4w",
        "outputId": "b9b1af7d-d99a-4b78-c50b-f20f070aac96"
      },
      "source": [
        "dataframe_raw = pd.read_csv(DATA_FILENAME)\n",
        "dataframe_raw.head()"
      ],
      "execution_count": null,
      "outputs": [
        {
          "output_type": "execute_result",
          "data": {
            "text/html": [
              "<div>\n",
              "<style scoped>\n",
              "    .dataframe tbody tr th:only-of-type {\n",
              "        vertical-align: middle;\n",
              "    }\n",
              "\n",
              "    .dataframe tbody tr th {\n",
              "        vertical-align: top;\n",
              "    }\n",
              "\n",
              "    .dataframe thead th {\n",
              "        text-align: right;\n",
              "    }\n",
              "</style>\n",
              "<table border=\"1\" class=\"dataframe\">\n",
              "  <thead>\n",
              "    <tr style=\"text-align: right;\">\n",
              "      <th></th>\n",
              "      <th>age</th>\n",
              "      <th>sex</th>\n",
              "      <th>bmi</th>\n",
              "      <th>children</th>\n",
              "      <th>smoker</th>\n",
              "      <th>region</th>\n",
              "      <th>charges</th>\n",
              "    </tr>\n",
              "  </thead>\n",
              "  <tbody>\n",
              "    <tr>\n",
              "      <th>0</th>\n",
              "      <td>19</td>\n",
              "      <td>female</td>\n",
              "      <td>27.900</td>\n",
              "      <td>0</td>\n",
              "      <td>yes</td>\n",
              "      <td>southwest</td>\n",
              "      <td>16884.92400</td>\n",
              "    </tr>\n",
              "    <tr>\n",
              "      <th>1</th>\n",
              "      <td>18</td>\n",
              "      <td>male</td>\n",
              "      <td>33.770</td>\n",
              "      <td>1</td>\n",
              "      <td>no</td>\n",
              "      <td>southeast</td>\n",
              "      <td>1725.55230</td>\n",
              "    </tr>\n",
              "    <tr>\n",
              "      <th>2</th>\n",
              "      <td>28</td>\n",
              "      <td>male</td>\n",
              "      <td>33.000</td>\n",
              "      <td>3</td>\n",
              "      <td>no</td>\n",
              "      <td>southeast</td>\n",
              "      <td>4449.46200</td>\n",
              "    </tr>\n",
              "    <tr>\n",
              "      <th>3</th>\n",
              "      <td>33</td>\n",
              "      <td>male</td>\n",
              "      <td>22.705</td>\n",
              "      <td>0</td>\n",
              "      <td>no</td>\n",
              "      <td>northwest</td>\n",
              "      <td>21984.47061</td>\n",
              "    </tr>\n",
              "    <tr>\n",
              "      <th>4</th>\n",
              "      <td>32</td>\n",
              "      <td>male</td>\n",
              "      <td>28.880</td>\n",
              "      <td>0</td>\n",
              "      <td>no</td>\n",
              "      <td>northwest</td>\n",
              "      <td>3866.85520</td>\n",
              "    </tr>\n",
              "  </tbody>\n",
              "</table>\n",
              "</div>"
            ],
            "text/plain": [
              "   age     sex     bmi  children smoker     region      charges\n",
              "0   19  female  27.900         0    yes  southwest  16884.92400\n",
              "1   18    male  33.770         1     no  southeast   1725.55230\n",
              "2   28    male  33.000         3     no  southeast   4449.46200\n",
              "3   33    male  22.705         0     no  northwest  21984.47061\n",
              "4   32    male  28.880         0     no  northwest   3866.85520"
            ]
          },
          "metadata": {
            "tags": []
          },
          "execution_count": 8
        }
      ]
    },
    {
      "cell_type": "markdown",
      "metadata": {
        "id": "9rwKB7H3mp41"
      },
      "source": [
        "We're going to do a slight customization of the data, so that you every participant receives a slightly different version of the dataset. Fill in your name below as a string (enter at least 5 characters)"
      ]
    },
    {
      "cell_type": "code",
      "metadata": {
        "id": "l0jsPS42mp45"
      },
      "source": [
        "your_name = 'jeshlindonna' # at least 5 characters"
      ],
      "execution_count": null,
      "outputs": []
    },
    {
      "cell_type": "markdown",
      "metadata": {
        "id": "WLD_0RbDmp47"
      },
      "source": [
        "The `customize_dataset` function will customize the dataset slightly using your name as a source of random numbers."
      ]
    },
    {
      "cell_type": "code",
      "metadata": {
        "id": "UnQ9nPbemp4-"
      },
      "source": [
        "def customize_dataset(dataframe_raw, rand_str):\n",
        "    dataframe = dataframe_raw.copy(deep=True)\n",
        "    # drop some rows\n",
        "    dataframe = dataframe.sample(int(0.95*len(dataframe)), random_state=int(ord(rand_str[0])))\n",
        "    # scale input\n",
        "    dataframe.bmi = dataframe.bmi * ord(rand_str[1])/100.\n",
        "    # scale target\n",
        "    dataframe.charges = dataframe.charges * ord(rand_str[2])/100.\n",
        "    # drop column\n",
        "    if ord(rand_str[3]) % 2 == 1:\n",
        "        dataframe = dataframe.drop(['region'], axis=1)\n",
        "    return dataframe"
      ],
      "execution_count": null,
      "outputs": []
    },
    {
      "cell_type": "code",
      "metadata": {
        "colab": {
          "base_uri": "https://localhost:8080/",
          "height": 244
        },
        "id": "aiUTZbGQmp5C",
        "outputId": "1e7c4a2b-5465-4b1e-aa37-cf2d4fc685cd"
      },
      "source": [
        "dataframe = customize_dataset(dataframe_raw, your_name)\n",
        "dataframe.head()"
      ],
      "execution_count": null,
      "outputs": [
        {
          "output_type": "execute_result",
          "data": {
            "text/html": [
              "<div>\n",
              "<style scoped>\n",
              "    .dataframe tbody tr th:only-of-type {\n",
              "        vertical-align: middle;\n",
              "    }\n",
              "\n",
              "    .dataframe tbody tr th {\n",
              "        vertical-align: top;\n",
              "    }\n",
              "\n",
              "    .dataframe thead th {\n",
              "        text-align: right;\n",
              "    }\n",
              "</style>\n",
              "<table border=\"1\" class=\"dataframe\">\n",
              "  <thead>\n",
              "    <tr style=\"text-align: right;\">\n",
              "      <th></th>\n",
              "      <th>age</th>\n",
              "      <th>sex</th>\n",
              "      <th>bmi</th>\n",
              "      <th>children</th>\n",
              "      <th>smoker</th>\n",
              "      <th>region</th>\n",
              "      <th>charges</th>\n",
              "    </tr>\n",
              "  </thead>\n",
              "  <tbody>\n",
              "    <tr>\n",
              "      <th>619</th>\n",
              "      <td>55</td>\n",
              "      <td>female</td>\n",
              "      <td>37.47100</td>\n",
              "      <td>0</td>\n",
              "      <td>no</td>\n",
              "      <td>southwest</td>\n",
              "      <td>12320.690600</td>\n",
              "    </tr>\n",
              "    <tr>\n",
              "      <th>319</th>\n",
              "      <td>32</td>\n",
              "      <td>male</td>\n",
              "      <td>37.70835</td>\n",
              "      <td>1</td>\n",
              "      <td>no</td>\n",
              "      <td>northeast</td>\n",
              "      <td>5367.748797</td>\n",
              "    </tr>\n",
              "    <tr>\n",
              "      <th>34</th>\n",
              "      <td>28</td>\n",
              "      <td>male</td>\n",
              "      <td>36.76400</td>\n",
              "      <td>1</td>\n",
              "      <td>yes</td>\n",
              "      <td>southwest</td>\n",
              "      <td>58873.743011</td>\n",
              "    </tr>\n",
              "    <tr>\n",
              "      <th>403</th>\n",
              "      <td>49</td>\n",
              "      <td>male</td>\n",
              "      <td>32.62300</td>\n",
              "      <td>3</td>\n",
              "      <td>no</td>\n",
              "      <td>northwest</td>\n",
              "      <td>11809.879000</td>\n",
              "    </tr>\n",
              "    <tr>\n",
              "      <th>113</th>\n",
              "      <td>21</td>\n",
              "      <td>female</td>\n",
              "      <td>36.07720</td>\n",
              "      <td>0</td>\n",
              "      <td>no</td>\n",
              "      <td>northwest</td>\n",
              "      <td>2765.443870</td>\n",
              "    </tr>\n",
              "  </tbody>\n",
              "</table>\n",
              "</div>"
            ],
            "text/plain": [
              "     age     sex       bmi  children smoker     region       charges\n",
              "619   55  female  37.47100         0     no  southwest  12320.690600\n",
              "319   32    male  37.70835         1     no  northeast   5367.748797\n",
              "34    28    male  36.76400         1    yes  southwest  58873.743011\n",
              "403   49    male  32.62300         3     no  northwest  11809.879000\n",
              "113   21  female  36.07720         0     no  northwest   2765.443870"
            ]
          },
          "metadata": {
            "tags": []
          },
          "execution_count": 13
        }
      ]
    },
    {
      "cell_type": "markdown",
      "metadata": {
        "id": "tlsPBShvmp5E"
      },
      "source": [
        "Let us answer some basic questions about the dataset. \n",
        "\n",
        "\n",
        "**Q: How many rows does the dataset have?**"
      ]
    },
    {
      "cell_type": "code",
      "metadata": {
        "colab": {
          "base_uri": "https://localhost:8080/"
        },
        "id": "SwDX8uMxmp5H",
        "outputId": "fc7663e7-eeb0-4ff6-b318-64353e8b8207"
      },
      "source": [
        "num_rows = 5\n",
        "print(num_rows)"
      ],
      "execution_count": null,
      "outputs": [
        {
          "output_type": "stream",
          "text": [
            "5\n"
          ],
          "name": "stdout"
        }
      ]
    },
    {
      "cell_type": "markdown",
      "metadata": {
        "id": "LK6E8Qbfmp5K"
      },
      "source": [
        "**Q: How many columns doe the dataset have**"
      ]
    },
    {
      "cell_type": "code",
      "metadata": {
        "colab": {
          "base_uri": "https://localhost:8080/"
        },
        "id": "wB7zR9Thmp5M",
        "outputId": "24009ec2-fceb-4d3b-c41b-414dd0002b3c"
      },
      "source": [
        "num_cols = 7\n",
        "print(num_cols)"
      ],
      "execution_count": null,
      "outputs": [
        {
          "output_type": "stream",
          "text": [
            "7\n"
          ],
          "name": "stdout"
        }
      ]
    },
    {
      "cell_type": "markdown",
      "metadata": {
        "id": "-VYQE04Smp5P"
      },
      "source": [
        "**Q: What are the column titles of the input variables?**"
      ]
    },
    {
      "cell_type": "code",
      "metadata": {
        "id": "vcQKwhl_mp5R"
      },
      "source": [
        "input_cols = ['age' , 'sex' , 'bmi', 'children' , 'smoker', 'region']"
      ],
      "execution_count": null,
      "outputs": []
    },
    {
      "cell_type": "markdown",
      "metadata": {
        "id": "NE0qnSJVmp5T"
      },
      "source": [
        "**Q: Which of the input columns are non-numeric or categorial variables ?**\n",
        "\n",
        "Hint: `sex` is one of them. List the columns that are not numbers."
      ]
    },
    {
      "cell_type": "code",
      "metadata": {
        "id": "kdjTCPH-mp5W"
      },
      "source": [
        "categorical_cols = ['sex', 'smoker', 'region']"
      ],
      "execution_count": null,
      "outputs": []
    },
    {
      "cell_type": "markdown",
      "metadata": {
        "id": "6Kn5ubBwmp5Y"
      },
      "source": [
        "**Q: What are the column titles of output/target variable(s)?**"
      ]
    },
    {
      "cell_type": "code",
      "metadata": {
        "id": "vehIs64Rmp5a"
      },
      "source": [
        "output_cols = ['charges']"
      ],
      "execution_count": null,
      "outputs": []
    },
    {
      "cell_type": "markdown",
      "metadata": {
        "id": "0CakgXHrmp5j"
      },
      "source": [
        "Remember to commit your notebook to Jovian after every step, so that you don't lose your work."
      ]
    },
    {
      "cell_type": "code",
      "metadata": {
        "id": "6gl4A-vYmp5k"
      },
      "source": [
        "!pip install jovian --upgrade -q"
      ],
      "execution_count": null,
      "outputs": []
    },
    {
      "cell_type": "code",
      "metadata": {
        "id": "sg9ziBSVmp5n"
      },
      "source": [
        "import jovian"
      ],
      "execution_count": null,
      "outputs": []
    },
    {
      "cell_type": "code",
      "metadata": {
        "colab": {
          "base_uri": "https://localhost:8080/",
          "height": 195
        },
        "id": "fIB6OKULmp5q",
        "outputId": "1e1895ab-42c8-4b80-f77a-fb9d9628c07d"
      },
      "source": [
        "jovian.commit(project='my-project')"
      ],
      "execution_count": null,
      "outputs": [
        {
          "output_type": "stream",
          "text": [
            "[jovian] Detected Colab notebook...\u001b[0m\n",
            "[jovian] Please enter your API key ( from https://jovian.ai/ ):\u001b[0m\n",
            "API KEY: ··········\n",
            "[jovian] Uploading colab notebook to Jovian...\u001b[0m\n",
            "[jovian] Capturing environment..\u001b[0m\n",
            "[jovian] Committed successfully! https://jovian.ai/mm20b029/my-project\u001b[0m\n"
          ],
          "name": "stdout"
        },
        {
          "output_type": "execute_result",
          "data": {
            "application/vnd.google.colaboratory.intrinsic+json": {
              "type": "string"
            },
            "text/plain": [
              "'https://jovian.ai/mm20b029/my-project'"
            ]
          },
          "metadata": {
            "tags": []
          },
          "execution_count": 26
        }
      ]
    },
    {
      "cell_type": "markdown",
      "metadata": {
        "id": "cbEh3wwbmp5u"
      },
      "source": [
        "## Step 2: Prepare the dataset for training\n",
        "\n",
        "We need to convert the data from the Pandas dataframe into a PyTorch tensors for training. To do this, the first step is to convert it numpy arrays. If you've filled out `input_cols`, `categorial_cols` and `output_cols` correctly, this following function will perform the conversion to numpy arrays."
      ]
    },
    {
      "cell_type": "code",
      "metadata": {
        "id": "AZBpXZFPmp5x"
      },
      "source": [
        "def dataframe_to_arrays(dataframe):\n",
        "    # Make a copy of the original dataframe\n",
        "    dataframe1 = dataframe.copy(deep=True)\n",
        "    # Convert non-numeric categorical columns to numbers\n",
        "    for col in categorical_cols:\n",
        "        dataframe1[col] = dataframe1[col].astype('category').cat.codes\n",
        "    # Extract input & outupts as numpy arrays\n",
        "    inputs_array = dataframe1[input_cols].to_numpy()\n",
        "    targets_array = dataframe1[output_cols].to_numpy()\n",
        "    return inputs_array, targets_array"
      ],
      "execution_count": null,
      "outputs": []
    },
    {
      "cell_type": "markdown",
      "metadata": {
        "id": "wWA-JwKjmp51"
      },
      "source": [
        "Read through the [Pandas documentation](https://pandas.pydata.org/pandas-docs/stable/user_guide/categorical.html) to understand how we're converting categorical variables into numbers."
      ]
    },
    {
      "cell_type": "code",
      "metadata": {
        "colab": {
          "base_uri": "https://localhost:8080/"
        },
        "id": "fGpNbZqNmp55",
        "outputId": "9d7e7f77-8551-40ef-ad8f-3eb86177e869"
      },
      "source": [
        "inputs_array, targets_array = dataframe_to_arrays(dataframe)\n",
        "inputs_array, targets_array"
      ],
      "execution_count": null,
      "outputs": [
        {
          "output_type": "execute_result",
          "data": {
            "text/plain": [
              "(array([[55.     ,  0.     , 37.471  ,  0.     ,  0.     ,  3.     ],\n",
              "        [32.     ,  1.     , 37.70835,  1.     ,  0.     ,  0.     ],\n",
              "        [28.     ,  1.     , 36.764  ,  1.     ,  1.     ,  3.     ],\n",
              "        ...,\n",
              "        [54.     ,  1.     , 29.492  ,  1.     ,  0.     ,  3.     ],\n",
              "        [18.     ,  1.     , 27.6336 ,  1.     ,  1.     ,  0.     ],\n",
              "        [22.     ,  1.     , 37.4407 ,  2.     ,  1.     ,  2.     ]]),\n",
              " array([[12320.6906   ],\n",
              "        [ 5367.7487975],\n",
              "        [58873.743011 ],\n",
              "        ...,\n",
              "        [12001.5104   ],\n",
              "        [19755.48476  ],\n",
              "        [43107.116695 ]]))"
            ]
          },
          "metadata": {
            "tags": []
          },
          "execution_count": 28
        }
      ]
    },
    {
      "cell_type": "markdown",
      "metadata": {
        "id": "FkzI7JG3mp58"
      },
      "source": [
        "**Q: Convert the numpy arrays `inputs_array` and `targets_array` into PyTorch tensors. Make sure that the data type is `torch.float32`.**"
      ]
    },
    {
      "cell_type": "code",
      "metadata": {
        "id": "I3ArdB-Cmp5_"
      },
      "source": [
        "import numpy as np\n",
        "inputs_array=inputs_array.astype(np.float32)\n",
        "inputs = torch.from_numpy(inputs_array)\n",
        "targets_array=targets_array.astype(np.float32)\n",
        "targets = torch.from_numpy(targets_array)"
      ],
      "execution_count": null,
      "outputs": []
    },
    {
      "cell_type": "code",
      "metadata": {
        "colab": {
          "base_uri": "https://localhost:8080/"
        },
        "id": "hv9-FKRhmp6C",
        "outputId": "82b74162-58de-4f0f-c8e3-28baa03886b3"
      },
      "source": [
        "inputs.dtype, targets.dtype"
      ],
      "execution_count": null,
      "outputs": [
        {
          "output_type": "execute_result",
          "data": {
            "text/plain": [
              "(torch.float32, torch.float32)"
            ]
          },
          "metadata": {
            "tags": []
          },
          "execution_count": 38
        }
      ]
    },
    {
      "cell_type": "markdown",
      "metadata": {
        "id": "k1KC491Qmp6F"
      },
      "source": [
        "Next, we need to create PyTorch datasets & data loaders for training & validation. We'll start by creating a `TensorDataset`."
      ]
    },
    {
      "cell_type": "code",
      "metadata": {
        "colab": {
          "base_uri": "https://localhost:8080/"
        },
        "id": "slfI2ziWmp6I",
        "outputId": "3e295e9a-7408-4453-8e23-426b31c57730"
      },
      "source": [
        "dataset = TensorDataset(inputs, targets)\n",
        "len(dataset)"
      ],
      "execution_count": null,
      "outputs": [
        {
          "output_type": "execute_result",
          "data": {
            "text/plain": [
              "1271"
            ]
          },
          "metadata": {
            "tags": []
          },
          "execution_count": 44
        }
      ]
    },
    {
      "cell_type": "markdown",
      "metadata": {
        "id": "5aWfGWVrmp6L"
      },
      "source": [
        "**Q: Pick a number between `0.1` and `0.2` to determine the fraction of data that will be used for creating the validation set. Then use `random_split` to create training & validation datasets.**"
      ]
    },
    {
      "cell_type": "code",
      "metadata": {
        "id": "FqPMg3Szmp6P"
      },
      "source": [
        "val_percent = 0.15 # between 0.1 and 0.2\n",
        "val_size = int(num_rows * val_percent)\n",
        "train_size = num_rows - val_size\n",
        " \n",
        " \n",
        "train_ds, val_ds = random_split(dataset,(1000,271)) # Use the random_split function to split dataset into 2 parts of the desired length"
      ],
      "execution_count": null,
      "outputs": []
    },
    {
      "cell_type": "markdown",
      "metadata": {
        "id": "9i_gGqdDmp6R"
      },
      "source": [
        "Finally, we can create data loaders for training & validation.\n",
        "\n",
        "**Q: Pick a batch size for the data loader.**"
      ]
    },
    {
      "cell_type": "code",
      "metadata": {
        "id": "B3RRKSm8mp6Y"
      },
      "source": [
        "batch_size = 100"
      ],
      "execution_count": null,
      "outputs": []
    },
    {
      "cell_type": "code",
      "metadata": {
        "id": "amnFXHU_mp6c"
      },
      "source": [
        "train_loader = DataLoader(train_ds, batch_size, shuffle=True)\n",
        "val_loader = DataLoader(val_ds, batch_size)"
      ],
      "execution_count": null,
      "outputs": []
    },
    {
      "cell_type": "markdown",
      "metadata": {
        "id": "glhL9_2vmp6f"
      },
      "source": [
        "Let's look at a batch of data to verify everything is working fine so far."
      ]
    },
    {
      "cell_type": "code",
      "metadata": {
        "colab": {
          "base_uri": "https://localhost:8080/"
        },
        "id": "TrYgkMjMmp6i",
        "outputId": "d33338b2-fdf4-4b84-e50a-50685cbfcd72"
      },
      "source": [
        "for xb, yb in train_loader:\n",
        "    print(\"inputs:\", xb)\n",
        "    print(\"targets:\", yb)\n",
        "    break"
      ],
      "execution_count": null,
      "outputs": [
        {
          "output_type": "stream",
          "text": [
            "inputs: tensor([[18.0000,  0.0000, 37.2185,  0.0000,  1.0000,  2.0000],\n",
            "        [18.0000,  0.0000, 21.8766,  0.0000,  1.0000,  0.0000],\n",
            "        [51.0000,  1.0000, 40.0970,  1.0000,  0.0000,  3.0000],\n",
            "        [32.0000,  0.0000, 31.8554,  1.0000,  0.0000,  0.0000],\n",
            "        [56.0000,  0.0000, 26.8660,  1.0000,  0.0000,  1.0000],\n",
            "        [61.0000,  0.0000, 44.4400,  0.0000,  0.0000,  3.0000],\n",
            "        [34.0000,  1.0000, 25.5227,  1.0000,  0.0000,  1.0000],\n",
            "        [30.0000,  0.0000, 20.1495,  3.0000,  0.0000,  1.0000],\n",
            "        [26.0000,  0.0000, 42.8240,  1.0000,  0.0000,  3.0000],\n",
            "        [53.0000,  1.0000, 34.4460,  0.0000,  1.0000,  0.0000],\n",
            "        [50.0000,  1.0000, 32.1432,  0.0000,  1.0000,  0.0000],\n",
            "        [60.0000,  0.0000, 30.8050,  0.0000,  0.0000,  3.0000],\n",
            "        [41.0000,  1.0000, 31.0878,  3.0000,  1.0000,  0.0000],\n",
            "        [33.0000,  1.0000, 36.1075,  1.0000,  1.0000,  2.0000],\n",
            "        [57.0000,  0.0000, 22.4523,  0.0000,  0.0000,  0.0000],\n",
            "        [24.0000,  0.0000, 34.3299,  0.0000,  0.0000,  2.0000],\n",
            "        [39.0000,  0.0000, 34.6632,  5.0000,  0.0000,  2.0000],\n",
            "        [35.0000,  0.0000, 27.9770,  3.0000,  0.0000,  3.0000],\n",
            "        [49.0000,  0.0000, 32.2190,  5.0000,  0.0000,  3.0000],\n",
            "        [54.0000,  1.0000, 39.9960,  1.0000,  0.0000,  3.0000],\n",
            "        [34.0000,  1.0000, 36.1731,  0.0000,  0.0000,  1.0000],\n",
            "        [48.0000,  0.0000, 36.9408,  0.0000,  0.0000,  1.0000],\n",
            "        [20.0000,  0.0000, 29.2647,  0.0000,  0.0000,  1.0000],\n",
            "        [21.0000,  1.0000, 22.5230,  1.0000,  0.0000,  3.0000],\n",
            "        [29.0000,  1.0000, 22.7402,  3.0000,  0.0000,  0.0000],\n",
            "        [18.0000,  1.0000, 30.4414,  0.0000,  0.0000,  2.0000],\n",
            "        [32.0000,  1.0000, 29.1688,  0.0000,  0.0000,  1.0000],\n",
            "        [42.0000,  1.0000, 26.3862,  2.0000,  0.0000,  0.0000],\n",
            "        [60.0000,  1.0000, 28.8810,  0.0000,  0.0000,  0.0000],\n",
            "        [39.0000,  1.0000, 24.7551,  2.0000,  0.0000,  1.0000],\n",
            "        [29.0000,  0.0000, 26.1590,  0.0000,  0.0000,  3.0000],\n",
            "        [45.0000,  1.0000, 24.5531,  5.0000,  0.0000,  2.0000],\n",
            "        [60.0000,  0.0000, 26.0984,  0.0000,  0.0000,  1.0000],\n",
            "        [48.0000,  0.0000, 36.2691,  1.0000,  0.0000,  0.0000],\n",
            "        [34.0000,  1.0000, 43.3290,  1.0000,  0.0000,  3.0000],\n",
            "        [55.0000,  1.0000, 34.2188,  3.0000,  0.0000,  2.0000],\n",
            "        [26.0000,  1.0000, 31.1838,  2.0000,  0.0000,  1.0000],\n",
            "        [46.0000,  0.0000, 20.1495,  2.0000,  0.0000,  1.0000],\n",
            "        [62.0000,  1.0000, 30.3202,  0.0000,  0.0000,  1.0000],\n",
            "        [35.0000,  0.0000, 31.3100,  1.0000,  0.0000,  3.0000],\n",
            "        [48.0000,  1.0000, 40.5515,  0.0000,  0.0000,  2.0000],\n",
            "        [24.0000,  1.0000, 29.5930,  0.0000,  0.0000,  3.0000],\n",
            "        [52.0000,  0.0000, 38.7638,  2.0000,  0.0000,  0.0000],\n",
            "        [36.0000,  0.0000, 26.0984,  0.0000,  0.0000,  1.0000],\n",
            "        [23.0000,  0.0000, 28.2800,  0.0000,  0.0000,  3.0000],\n",
            "        [63.0000,  0.0000, 32.1180,  0.0000,  0.0000,  3.0000],\n",
            "        [40.0000,  1.0000, 26.5781,  1.0000,  0.0000,  1.0000],\n",
            "        [41.0000,  1.0000, 34.5420,  2.0000,  0.0000,  1.0000],\n",
            "        [50.0000,  1.0000, 32.6230,  2.0000,  0.0000,  3.0000],\n",
            "        [51.0000,  0.0000, 20.8060,  0.0000,  0.0000,  3.0000],\n",
            "        [29.0000,  1.0000, 32.0473,  2.0000,  0.0000,  1.0000],\n",
            "        [21.0000,  0.0000, 22.0685,  1.0000,  1.0000,  0.0000],\n",
            "        [46.0000,  1.0000, 26.8862,  1.0000,  0.0000,  2.0000],\n",
            "        [44.0000,  1.0000, 22.3563,  2.0000,  0.0000,  0.0000],\n",
            "        [19.0000,  0.0000, 20.8060,  0.0000,  0.0000,  3.0000],\n",
            "        [61.0000,  0.0000, 25.3308,  0.0000,  0.0000,  2.0000],\n",
            "        [27.0000,  0.0000, 30.7040,  3.0000,  0.0000,  1.0000],\n",
            "        [27.0000,  0.0000, 31.7140,  0.0000,  1.0000,  3.0000],\n",
            "        [31.0000,  1.0000, 27.1539,  1.0000,  0.0000,  0.0000],\n",
            "        [41.0000,  1.0000, 29.9364,  5.0000,  0.0000,  0.0000],\n",
            "        [19.0000,  0.0000, 32.1432,  1.0000,  0.0000,  1.0000],\n",
            "        [21.0000,  1.0000, 35.8853,  0.0000,  0.0000,  2.0000],\n",
            "        [56.0000,  1.0000, 33.9966,  4.0000,  0.0000,  2.0000],\n",
            "        [57.0000,  1.0000, 28.3810,  0.0000,  0.0000,  3.0000],\n",
            "        [43.0000,  1.0000, 35.3096,  1.0000,  1.0000,  0.0000],\n",
            "        [24.0000,  0.0000, 33.6785,  0.0000,  0.0000,  1.0000],\n",
            "        [52.0000,  0.0000, 45.1470,  3.0000,  0.0000,  3.0000],\n",
            "        [36.0000,  0.0000, 30.2192,  0.0000,  0.0000,  2.0000],\n",
            "        [19.0000,  0.0000, 37.8043,  0.0000,  0.0000,  1.0000],\n",
            "        [62.0000,  1.0000, 31.1838,  3.0000,  1.0000,  1.0000],\n",
            "        [35.0000,  0.0000, 34.5521,  1.0000,  0.0000,  2.0000],\n",
            "        [55.0000,  1.0000, 30.9918,  0.0000,  1.0000,  0.0000],\n",
            "        [54.0000,  0.0000, 27.9214,  1.0000,  0.0000,  1.0000],\n",
            "        [52.0000,  1.0000, 37.1326,  2.0000,  0.0000,  1.0000],\n",
            "        [52.0000,  1.0000, 32.5271,  3.0000,  0.0000,  0.0000],\n",
            "        [23.0000,  1.0000, 50.8838,  1.0000,  0.0000,  2.0000],\n",
            "        [21.0000,  1.0000, 37.2185,  0.0000,  0.0000,  2.0000],\n",
            "        [62.0000,  1.0000, 40.3293,  0.0000,  0.0000,  2.0000],\n",
            "        [34.0000,  1.0000, 31.1080,  0.0000,  1.0000,  3.0000],\n",
            "        [24.0000,  0.0000, 27.9972,  0.0000,  0.0000,  2.0000],\n",
            "        [47.0000,  1.0000, 39.3294,  2.0000,  1.0000,  2.0000],\n",
            "        [20.0000,  1.0000, 30.0324,  0.0000,  0.0000,  1.0000],\n",
            "        [56.0000,  0.0000, 34.1582,  2.0000,  0.0000,  1.0000],\n",
            "        [19.0000,  1.0000, 35.2490,  0.0000,  1.0000,  3.0000],\n",
            "        [50.0000,  0.0000, 23.7754,  2.0000,  0.0000,  2.0000],\n",
            "        [20.0000,  1.0000, 35.9813,  3.0000,  1.0000,  1.0000],\n",
            "        [34.0000,  0.0000, 33.5825,  1.0000,  0.0000,  0.0000],\n",
            "        [33.0000,  1.0000, 42.8846,  1.0000,  0.0000,  2.0000],\n",
            "        [39.0000,  0.0000, 18.4830,  5.0000,  1.0000,  3.0000],\n",
            "        [25.0000,  1.0000, 24.1390,  5.0000,  0.0000,  3.0000],\n",
            "        [61.0000,  0.0000, 29.3607,  0.0000,  1.0000,  1.0000],\n",
            "        [51.0000,  1.0000, 43.3290,  2.0000,  1.0000,  2.0000],\n",
            "        [42.0000,  1.0000, 25.1086,  0.0000,  0.0000,  2.0000],\n",
            "        [28.0000,  1.0000, 33.3300,  3.0000,  0.0000,  2.0000],\n",
            "        [34.0000,  0.0000, 37.7084,  2.0000,  0.0000,  1.0000],\n",
            "        [25.0000,  1.0000, 35.9813,  0.0000,  0.0000,  1.0000],\n",
            "        [44.0000,  0.0000, 38.4406,  0.0000,  1.0000,  2.0000],\n",
            "        [27.0000,  1.0000, 32.9109,  3.0000,  0.0000,  0.0000],\n",
            "        [54.0000,  0.0000, 21.6847,  3.0000,  0.0000,  1.0000],\n",
            "        [42.0000,  0.0000, 36.5569,  1.0000,  0.0000,  1.0000]])\n",
            "targets: tensor([[41571.9062],\n",
            "        [16425.9785],\n",
            "        [10800.0479],\n",
            "        [ 5920.8354],\n",
            "        [13850.9932],\n",
            "        [15023.4658],\n",
            "        [ 5628.9663],\n",
            "        [ 6547.4453],\n",
            "        [ 3921.8726],\n",
            "        [49742.5820],\n",
            "        [47261.7344],\n",
            "        [14533.9238],\n",
            "        [45537.0195],\n",
            "        [44025.1602],\n",
            "        [13833.6797],\n",
            "        [ 2844.3342],\n",
            "        [ 9886.3516],\n",
            "        [ 7376.3047],\n",
            "        [13285.8398],\n",
            "        [12018.1348],\n",
            "        [ 4968.4727],\n",
            "        [ 9971.8701],\n",
            "        [ 2596.0964],\n",
            "        [ 2418.5420],\n",
            "        [ 5991.0156],\n",
            "        [ 1301.2325],\n",
            "        [ 4446.8833],\n",
            "        [ 8889.0928],\n",
            "        [34798.9961],\n",
            "        [ 7716.7207],\n",
            "        [ 3856.2766],\n",
            "        [11257.1953],\n",
            "        [33261.6094],\n",
            "        [30351.0996],\n",
            "        [ 5216.6978],\n",
            "        [13785.2432],\n",
            "        [ 4458.8999],\n",
            "        [10572.9141],\n",
            "        [15354.9150],\n",
            "        [ 6026.8799],\n",
            "        [ 8974.7842],\n",
            "        [ 2274.4873],\n",
            "        [13106.4355],\n",
            "        [ 6056.3203],\n",
            "        [15095.6787],\n",
            "        [15963.0918],\n",
            "        [ 7347.7847],\n",
            "        [ 8351.0020],\n",
            "        [11074.9570],\n",
            "        [10654.5166],\n",
            "        [ 5098.3960],\n",
            "        [17662.9707],\n",
            "        [ 8903.4268],\n",
            "        [ 9547.9160],\n",
            "        [ 1991.4286],\n",
            "        [28190.0547],\n",
            "        [21625.4648],\n",
            "        [40064.7031],\n",
            "        [ 5107.3950],\n",
            "        [10605.7627],\n",
            "        [ 3127.1716],\n",
            "        [ 1762.3402],\n",
            "        [14891.5283],\n",
            "        [12610.2627],\n",
            "        [47189.3555],\n",
            "        [ 3283.7532],\n",
            "        [13123.4375],\n",
            "        [ 5622.3921],\n",
            "        [ 2458.7812],\n",
            "        [53725.8867],\n",
            "        [ 6032.0107],\n",
            "        [48649.2461],\n",
            "        [13001.8252],\n",
            "        [30437.1621],\n",
            "        [13211.5645],\n",
            "        [ 2803.7634],\n",
            "        [ 1764.4502],\n",
            "        [14930.3057],\n",
            "        [40815.3867],\n",
            "        [ 2834.3115],\n",
            "        [50833.0508],\n",
            "        [ 2034.9614],\n",
            "        [14539.8848],\n",
            "        [40052.9531],\n",
            "        [11623.3037],\n",
            "        [43085.1445],\n",
            "        [ 6434.0723],\n",
            "        [13025.7217],\n",
            "        [21876.7480],\n",
            "        [ 5842.1104],\n",
            "        [33512.5625],\n",
            "        [54582.3281],\n",
            "        [ 6861.9204],\n",
            "        [ 5116.8813],\n",
            "        [ 6887.9521],\n",
            "        [ 2914.5527],\n",
            "        [56217.9062],\n",
            "        [ 5573.9580],\n",
            "        [14346.6543],\n",
            "        [ 8560.1895]])\n"
          ],
          "name": "stdout"
        }
      ]
    },
    {
      "cell_type": "markdown",
      "metadata": {
        "id": "qPb5qA-6mp6n"
      },
      "source": [
        "Let's save our work by committing to Jovian."
      ]
    },
    {
      "cell_type": "code",
      "metadata": {
        "colab": {
          "base_uri": "https://localhost:8080/",
          "height": 144
        },
        "id": "PW34iXTCmp6s",
        "outputId": "9bbb9467-b87d-481a-9ad6-6f7f3c68ac52"
      },
      "source": [
        "jovian.commit(project=project_name, environment=None)"
      ],
      "execution_count": null,
      "outputs": [
        {
          "output_type": "stream",
          "text": [
            "[jovian] Detected Colab notebook...\u001b[0m\n",
            "[jovian] Uploading colab notebook to Jovian...\u001b[0m\n",
            "[jovian] Committed successfully! https://jovian.ai/mm20b029/02-insurance-linear-regression\u001b[0m\n"
          ],
          "name": "stdout"
        },
        {
          "output_type": "execute_result",
          "data": {
            "application/vnd.google.colaboratory.intrinsic+json": {
              "type": "string"
            },
            "text/plain": [
              "'https://jovian.ai/mm20b029/02-insurance-linear-regression'"
            ]
          },
          "metadata": {
            "tags": []
          },
          "execution_count": 49
        }
      ]
    },
    {
      "cell_type": "markdown",
      "metadata": {
        "id": "ZfSFUyT0mp6u"
      },
      "source": [
        "## Step 3: Create a Linear Regression Model\n",
        "\n",
        "Our model itself is a fairly straightforward linear regression (we'll build more complex models in the next assignment). \n"
      ]
    },
    {
      "cell_type": "code",
      "metadata": {
        "id": "qBvhwqYcmp6x"
      },
      "source": [
        "input_size = len(input_cols)\n",
        "output_size = len(output_cols)"
      ],
      "execution_count": null,
      "outputs": []
    },
    {
      "cell_type": "markdown",
      "metadata": {
        "id": "V57LcUJqmp6z"
      },
      "source": [
        "**Q: Complete the class definition below by filling out the constructor (`__init__`), `forward`, `training_step` and `validation_step` methods.**\n",
        "\n",
        "Hint: Think carefully about picking a good loss fuction (it's not cross entropy). Maybe try 2-3 of them and see which one works best. See https://pytorch.org/docs/stable/nn.functional.html#loss-functions"
      ]
    },
    {
      "cell_type": "code",
      "metadata": {
        "id": "xFBfT8SVmp62"
      },
      "source": [
        " import torch.nn.functional as F \n",
        "class InsuranceModel(nn.Module):\n",
        "    def __init__(self):\n",
        "        super().__init__()\n",
        "        self.linear = nn.Linear(input_size,output_size)                 # fill this (hint: use input_size & output_size defined above)\n",
        "        \n",
        "    def forward(self, xb):\n",
        "       \n",
        "        out = self.linear(xb)                        # fill this\n",
        "        return out\n",
        "    \n",
        "    def training_step(self, batch):\n",
        "        inputs, targets = batch \n",
        "        # Generate predictions\n",
        "        out = self(inputs)          \n",
        "        # Calcuate loss\n",
        "         \n",
        "        loss_fn=F.mse_loss\n",
        "        loss=loss_fn(model(inputs),targets)                     # fill this\n",
        "        return loss\n",
        "    \n",
        "    def validation_step(self, batch):\n",
        "        inputs, targets = batch\n",
        "        # Generate predictions\n",
        "        out = self(inputs)\n",
        "        # Calculate loss\n",
        "        loss_fn=F.mse_loss\n",
        "        loss=loss_fn(model(inputs),targets)                      # fill this    \n",
        "        return {'val_loss': loss.detach()}\n",
        "        \n",
        "    def validation_epoch_end(self, outputs):\n",
        "        batch_losses = [x['val_loss'] for x in outputs]\n",
        "        epoch_loss = torch.stack(batch_losses).mean()   # Combine losses\n",
        "        return {'val_loss': epoch_loss.item()}\n",
        "    \n",
        "    def epoch_end(self, epoch, result, num_epochs):\n",
        "        # Print result every 20th epoch\n",
        "        if (epoch+1) % 20 == 0 or epoch == num_epochs-1:\n",
        "            print(\"Epoch [{}], val_loss: {:.4f}\".format(epoch+1, result['val_loss']))"
      ],
      "execution_count": null,
      "outputs": []
    },
    {
      "cell_type": "markdown",
      "metadata": {
        "id": "c9AY64vfmp67"
      },
      "source": [
        "Let us create a model using the `InsuranceModel` class. You may need to come back later and re-run the next cell to reinitialize the model, in case the loss becomes `nan` or `infinity`."
      ]
    },
    {
      "cell_type": "code",
      "metadata": {
        "id": "4UFnnVBTmp7A"
      },
      "source": [
        "model = InsuranceModel()"
      ],
      "execution_count": null,
      "outputs": []
    },
    {
      "cell_type": "markdown",
      "metadata": {
        "id": "T_-ttEOzmp7D"
      },
      "source": [
        "Let's check out the weights and biases of the model using `model.parameters`."
      ]
    },
    {
      "cell_type": "code",
      "metadata": {
        "colab": {
          "base_uri": "https://localhost:8080/"
        },
        "id": "NYrpZKXYmp7F",
        "outputId": "f3c42f6a-795a-4af7-d629-71c95ee88537"
      },
      "source": [
        "list(model.parameters())"
      ],
      "execution_count": null,
      "outputs": [
        {
          "output_type": "execute_result",
          "data": {
            "text/plain": [
              "[Parameter containing:\n",
              " tensor([[ 0.2416,  0.3834, -0.3133,  0.3621,  0.0868, -0.1043]],\n",
              "        requires_grad=True), Parameter containing:\n",
              " tensor([-0.2827], requires_grad=True)]"
            ]
          },
          "metadata": {
            "tags": []
          },
          "execution_count": 74
        }
      ]
    },
    {
      "cell_type": "markdown",
      "metadata": {
        "id": "8hQ-A4rDmp7J"
      },
      "source": [
        "One final commit before we train the model."
      ]
    },
    {
      "cell_type": "code",
      "metadata": {
        "colab": {
          "base_uri": "https://localhost:8080/",
          "height": 144
        },
        "id": "tdxQy4E4mp7O",
        "outputId": "8f7756d2-b1f6-4cba-c22a-e7e9fc7d5ee3"
      },
      "source": [
        "jovian.commit(project=project_name, environment=None)"
      ],
      "execution_count": null,
      "outputs": [
        {
          "output_type": "stream",
          "text": [
            "[jovian] Detected Colab notebook...\u001b[0m\n",
            "[jovian] Uploading colab notebook to Jovian...\u001b[0m\n",
            "[jovian] Committed successfully! https://jovian.ai/mm20b029/02-insurance-linear-regression\u001b[0m\n"
          ],
          "name": "stdout"
        },
        {
          "output_type": "execute_result",
          "data": {
            "application/vnd.google.colaboratory.intrinsic+json": {
              "type": "string"
            },
            "text/plain": [
              "'https://jovian.ai/mm20b029/02-insurance-linear-regression'"
            ]
          },
          "metadata": {
            "tags": []
          },
          "execution_count": 75
        }
      ]
    },
    {
      "cell_type": "markdown",
      "metadata": {
        "id": "IL5Z66elmp7R"
      },
      "source": [
        "## Step 4: Train the model to fit the data\n",
        "\n",
        "To train our model, we'll use the same `fit` function explained in the lecture. That's the benefit of defining a generic training loop - you can use it for any problem."
      ]
    },
    {
      "cell_type": "code",
      "metadata": {
        "id": "5E23I7zymp7T"
      },
      "source": [
        "def evaluate(model, val_loader):\n",
        "    outputs = [model.validation_step(batch) for batch in val_loader]\n",
        "    return model.validation_epoch_end(outputs)\n",
        " \n",
        "def fit(epochs, lr, model, train_loader, val_loader, opt_func=torch.optim.SGD):\n",
        "    history = []\n",
        "    optimizer = opt_func(model.parameters(), lr)\n",
        "    for epoch in range(epochs):\n",
        "        # Training Phase \n",
        "        for batch in train_loader:\n",
        "            loss = model.training_step(batch)\n",
        "            loss.backward()\n",
        "            optimizer.step()\n",
        "            optimizer.zero_grad()\n",
        "        # Validation phase\n",
        "        result = evaluate(model, val_loader)\n",
        "        model.epoch_end(epoch, result, epochs)\n",
        "        history.append(result)\n",
        "    return history"
      ],
      "execution_count": null,
      "outputs": []
    },
    {
      "cell_type": "markdown",
      "metadata": {
        "id": "iqvuZ1QNmp7W"
      },
      "source": [
        "**Q: Use the `evaluate` function to calculate the loss on the validation set before training.**"
      ]
    },
    {
      "cell_type": "code",
      "metadata": {
        "colab": {
          "base_uri": "https://localhost:8080/"
        },
        "id": "TfvjsfCnmp7a",
        "outputId": "6e3113c3-b399-4259-91b3-a10cff7b7b31"
      },
      "source": [
        "result =   evaluate(model, val_loader)     # Use the the evaluate function\n",
        "print(result)"
      ],
      "execution_count": null,
      "outputs": [
        {
          "output_type": "stream",
          "text": [
            "{'val_loss': 393058432.0}\n"
          ],
          "name": "stdout"
        }
      ]
    },
    {
      "cell_type": "markdown",
      "metadata": {
        "id": "bnoMJETfmp7d"
      },
      "source": [
        "\n",
        "We are now ready to train the model. You may need to run the training loop many times, for different number of epochs and with different learning rates, to get a good result. Also, if your loss becomes too large (or `nan`), you may have to re-initialize the model by running the cell `model = InsuranceModel()`. Experiment with this for a while, and try to get to as low a loss as possible."
      ]
    },
    {
      "cell_type": "markdown",
      "metadata": {
        "id": "Z69NC57Rmp7h"
      },
      "source": [
        "**Q: Train the model 4-5 times with different learning rates & for different number of epochs.**\n",
        "\n",
        "Hint: Vary learning rates by orders of 10 (e.g. `1e-2`, `1e-3`, `1e-4`, `1e-5`, `1e-6`) to figure out what works."
      ]
    },
    {
      "cell_type": "code",
      "metadata": {
        "colab": {
          "base_uri": "https://localhost:8080/"
        },
        "id": "dMlYPHsUmp7l",
        "outputId": "d1ba82b5-810f-42a1-c7ac-c89451cb8cec"
      },
      "source": [
        "epochs = 25\n",
        "lr = 0.00001\n",
        "history1 = fit(epochs, lr, model, train_loader, val_loader)"
      ],
      "execution_count": null,
      "outputs": [
        {
          "output_type": "stream",
          "text": [
            "Epoch [20], val_loss: 169009088.0000\n",
            "Epoch [25], val_loss: 168999504.0000\n"
          ],
          "name": "stdout"
        }
      ]
    },
    {
      "cell_type": "code",
      "metadata": {
        "colab": {
          "base_uri": "https://localhost:8080/"
        },
        "id": "KNlnmuBomp7n",
        "outputId": "43f1ec30-3e46-431d-dfe1-f68d30987234"
      },
      "source": [
        "epochs = 41\n",
        "lr = 0.00001\n",
        "history2 = fit(epochs, lr, model, train_loader, val_loader)"
      ],
      "execution_count": null,
      "outputs": [
        {
          "output_type": "stream",
          "text": [
            "Epoch [20], val_loss: 89679144.0000\n",
            "Epoch [40], val_loss: 89629096.0000\n",
            "Epoch [41], val_loss: 89644296.0000\n"
          ],
          "name": "stdout"
        }
      ]
    },
    {
      "cell_type": "code",
      "metadata": {
        "colab": {
          "base_uri": "https://localhost:8080/"
        },
        "id": "cyIrLfHCmp7q",
        "outputId": "fdd1632b-4481-4fe2-91c2-faac732ffc66"
      },
      "source": [
        "epochs = 900\n",
        "lr = 0.00018\n",
        "history3 = fit(epochs, lr, model, train_loader, val_loader)"
      ],
      "execution_count": null,
      "outputs": [
        {
          "output_type": "stream",
          "text": [
            "Epoch [20], val_loss: 93303640.0000\n",
            "Epoch [40], val_loss: 89543960.0000\n",
            "Epoch [60], val_loss: 87552360.0000\n",
            "Epoch [80], val_loss: 86391944.0000\n",
            "Epoch [100], val_loss: 85331216.0000\n",
            "Epoch [120], val_loss: 84575728.0000\n",
            "Epoch [140], val_loss: 85133000.0000\n",
            "Epoch [160], val_loss: 83200168.0000\n",
            "Epoch [180], val_loss: 82345752.0000\n",
            "Epoch [200], val_loss: 81870344.0000\n",
            "Epoch [220], val_loss: 80883248.0000\n",
            "Epoch [240], val_loss: 80643808.0000\n",
            "Epoch [260], val_loss: 79528552.0000\n",
            "Epoch [280], val_loss: 78877080.0000\n",
            "Epoch [300], val_loss: 78298040.0000\n",
            "Epoch [320], val_loss: 78973864.0000\n",
            "Epoch [340], val_loss: 78865704.0000\n",
            "Epoch [360], val_loss: 77043944.0000\n",
            "Epoch [380], val_loss: 76100088.0000\n",
            "Epoch [400], val_loss: 75299736.0000\n",
            "Epoch [420], val_loss: 76239352.0000\n",
            "Epoch [440], val_loss: 74573920.0000\n",
            "Epoch [460], val_loss: 74024144.0000\n",
            "Epoch [480], val_loss: 73067704.0000\n",
            "Epoch [500], val_loss: 72813784.0000\n",
            "Epoch [520], val_loss: 72685112.0000\n",
            "Epoch [540], val_loss: 71521240.0000\n",
            "Epoch [560], val_loss: 72013960.0000\n",
            "Epoch [580], val_loss: 70592432.0000\n",
            "Epoch [600], val_loss: 70079784.0000\n",
            "Epoch [620], val_loss: 70203344.0000\n",
            "Epoch [640], val_loss: 71084960.0000\n",
            "Epoch [660], val_loss: 69204992.0000\n",
            "Epoch [680], val_loss: 69148984.0000\n",
            "Epoch [700], val_loss: 70280480.0000\n",
            "Epoch [720], val_loss: 68472312.0000\n",
            "Epoch [740], val_loss: 69397816.0000\n",
            "Epoch [760], val_loss: 67719968.0000\n",
            "Epoch [780], val_loss: 66472864.0000\n",
            "Epoch [800], val_loss: 66217376.0000\n",
            "Epoch [820], val_loss: 65555008.0000\n",
            "Epoch [840], val_loss: 65261596.0000\n",
            "Epoch [860], val_loss: 65889504.0000\n",
            "Epoch [880], val_loss: 64826732.0000\n",
            "Epoch [900], val_loss: 65906352.0000\n"
          ],
          "name": "stdout"
        }
      ]
    },
    {
      "cell_type": "code",
      "metadata": {
        "colab": {
          "base_uri": "https://localhost:8080/"
        },
        "id": "Z7Hlg5ZKmp7r",
        "outputId": "a4a9b2bc-4248-4897-ae0b-03b78a43d704"
      },
      "source": [
        "epochs = 69\n",
        "lr = 0.00018\n",
        "history4 = fit(epochs, lr, model, train_loader, val_loader)"
      ],
      "execution_count": null,
      "outputs": [
        {
          "output_type": "stream",
          "text": [
            "Epoch [20], val_loss: 63841184.0000\n",
            "Epoch [40], val_loss: 65398048.0000\n",
            "Epoch [60], val_loss: 63129468.0000\n",
            "Epoch [69], val_loss: 62947508.0000\n"
          ],
          "name": "stdout"
        }
      ]
    },
    {
      "cell_type": "code",
      "metadata": {
        "colab": {
          "base_uri": "https://localhost:8080/"
        },
        "id": "iykgpS-zmp7v",
        "outputId": "2d140979-bed6-4ae3-8408-df0512ac5a15"
      },
      "source": [
        "epochs = 3825\n",
        "lr = 0.00018\n",
        "history5 = fit(epochs, lr, model, train_loader, val_loader)"
      ],
      "execution_count": null,
      "outputs": [
        {
          "output_type": "stream",
          "text": [
            "Epoch [20], val_loss: 46824960.0000\n",
            "Epoch [40], val_loss: 48063444.0000\n",
            "Epoch [60], val_loss: 47299884.0000\n",
            "Epoch [80], val_loss: 46972544.0000\n",
            "Epoch [100], val_loss: 46916764.0000\n",
            "Epoch [120], val_loss: 47079740.0000\n",
            "Epoch [140], val_loss: 46534708.0000\n",
            "Epoch [160], val_loss: 47061776.0000\n",
            "Epoch [180], val_loss: 46551552.0000\n",
            "Epoch [200], val_loss: 47671340.0000\n",
            "Epoch [220], val_loss: 46977844.0000\n",
            "Epoch [240], val_loss: 46362924.0000\n",
            "Epoch [260], val_loss: 46520244.0000\n",
            "Epoch [280], val_loss: 47078016.0000\n",
            "Epoch [300], val_loss: 46314444.0000\n",
            "Epoch [320], val_loss: 46668892.0000\n",
            "Epoch [340], val_loss: 46194708.0000\n",
            "Epoch [360], val_loss: 48610004.0000\n",
            "Epoch [380], val_loss: 46543232.0000\n",
            "Epoch [400], val_loss: 47217136.0000\n",
            "Epoch [420], val_loss: 46231216.0000\n",
            "Epoch [440], val_loss: 46105908.0000\n",
            "Epoch [460], val_loss: 46915700.0000\n",
            "Epoch [480], val_loss: 46158860.0000\n",
            "Epoch [500], val_loss: 46850512.0000\n",
            "Epoch [520], val_loss: 46331788.0000\n",
            "Epoch [540], val_loss: 45895980.0000\n",
            "Epoch [560], val_loss: 46303664.0000\n",
            "Epoch [580], val_loss: 45830324.0000\n",
            "Epoch [600], val_loss: 46889748.0000\n",
            "Epoch [620], val_loss: 46290060.0000\n",
            "Epoch [640], val_loss: 45773396.0000\n",
            "Epoch [660], val_loss: 45720512.0000\n",
            "Epoch [680], val_loss: 47465236.0000\n",
            "Epoch [700], val_loss: 46315884.0000\n",
            "Epoch [720], val_loss: 45630804.0000\n",
            "Epoch [740], val_loss: 46001168.0000\n",
            "Epoch [760], val_loss: 45608512.0000\n",
            "Epoch [780], val_loss: 46382628.0000\n",
            "Epoch [800], val_loss: 45859104.0000\n",
            "Epoch [820], val_loss: 46125652.0000\n",
            "Epoch [840], val_loss: 46777236.0000\n",
            "Epoch [860], val_loss: 45728844.0000\n",
            "Epoch [880], val_loss: 45519308.0000\n",
            "Epoch [900], val_loss: 45849060.0000\n",
            "Epoch [920], val_loss: 46172720.0000\n",
            "Epoch [940], val_loss: 45401136.0000\n",
            "Epoch [960], val_loss: 45353028.0000\n",
            "Epoch [980], val_loss: 45375616.0000\n",
            "Epoch [1000], val_loss: 45492428.0000\n",
            "Epoch [1020], val_loss: 46357428.0000\n",
            "Epoch [1040], val_loss: 45433252.0000\n",
            "Epoch [1060], val_loss: 48119236.0000\n",
            "Epoch [1080], val_loss: 45280876.0000\n",
            "Epoch [1100], val_loss: 45412512.0000\n",
            "Epoch [1120], val_loss: 45848020.0000\n",
            "Epoch [1140], val_loss: 45361300.0000\n",
            "Epoch [1160], val_loss: 45235356.0000\n",
            "Epoch [1180], val_loss: 45191696.0000\n",
            "Epoch [1200], val_loss: 46265952.0000\n",
            "Epoch [1220], val_loss: 48171152.0000\n",
            "Epoch [1240], val_loss: 46029716.0000\n",
            "Epoch [1260], val_loss: 45365772.0000\n",
            "Epoch [1280], val_loss: 48409828.0000\n",
            "Epoch [1300], val_loss: 45364284.0000\n",
            "Epoch [1320], val_loss: 46822388.0000\n",
            "Epoch [1340], val_loss: 45156180.0000\n",
            "Epoch [1360], val_loss: 45090064.0000\n",
            "Epoch [1380], val_loss: 45531308.0000\n",
            "Epoch [1400], val_loss: 46936356.0000\n",
            "Epoch [1420], val_loss: 45062076.0000\n",
            "Epoch [1440], val_loss: 45357388.0000\n",
            "Epoch [1460], val_loss: 44917696.0000\n",
            "Epoch [1480], val_loss: 44883036.0000\n",
            "Epoch [1500], val_loss: 44961088.0000\n",
            "Epoch [1520], val_loss: 44811232.0000\n",
            "Epoch [1540], val_loss: 44986016.0000\n",
            "Epoch [1560], val_loss: 44788340.0000\n",
            "Epoch [1580], val_loss: 46372224.0000\n",
            "Epoch [1600], val_loss: 44885776.0000\n",
            "Epoch [1620], val_loss: 44859136.0000\n",
            "Epoch [1640], val_loss: 44744988.0000\n",
            "Epoch [1660], val_loss: 44733300.0000\n",
            "Epoch [1680], val_loss: 44714536.0000\n",
            "Epoch [1700], val_loss: 44847516.0000\n",
            "Epoch [1720], val_loss: 46012960.0000\n",
            "Epoch [1740], val_loss: 44763876.0000\n",
            "Epoch [1760], val_loss: 44707216.0000\n",
            "Epoch [1780], val_loss: 45752724.0000\n",
            "Epoch [1800], val_loss: 44593276.0000\n",
            "Epoch [1820], val_loss: 44605904.0000\n",
            "Epoch [1840], val_loss: 45069376.0000\n",
            "Epoch [1860], val_loss: 44824944.0000\n",
            "Epoch [1880], val_loss: 46722176.0000\n",
            "Epoch [1900], val_loss: 45278172.0000\n",
            "Epoch [1920], val_loss: 44591548.0000\n",
            "Epoch [1940], val_loss: 46509364.0000\n",
            "Epoch [1960], val_loss: 46469984.0000\n",
            "Epoch [1980], val_loss: 44843716.0000\n",
            "Epoch [2000], val_loss: 46790628.0000\n",
            "Epoch [2020], val_loss: 45391812.0000\n",
            "Epoch [2040], val_loss: 44540348.0000\n",
            "Epoch [2060], val_loss: 44971012.0000\n",
            "Epoch [2080], val_loss: 44384964.0000\n",
            "Epoch [2100], val_loss: 44397788.0000\n",
            "Epoch [2120], val_loss: 44368772.0000\n",
            "Epoch [2140], val_loss: 44585428.0000\n",
            "Epoch [2160], val_loss: 44445328.0000\n",
            "Epoch [2180], val_loss: 44322260.0000\n",
            "Epoch [2200], val_loss: 44420908.0000\n",
            "Epoch [2220], val_loss: 44881236.0000\n",
            "Epoch [2240], val_loss: 44384844.0000\n",
            "Epoch [2260], val_loss: 44284764.0000\n",
            "Epoch [2280], val_loss: 44661408.0000\n",
            "Epoch [2300], val_loss: 44640964.0000\n",
            "Epoch [2320], val_loss: 44296464.0000\n",
            "Epoch [2340], val_loss: 46233492.0000\n",
            "Epoch [2360], val_loss: 45358028.0000\n",
            "Epoch [2380], val_loss: 44213456.0000\n",
            "Epoch [2400], val_loss: 44202160.0000\n",
            "Epoch [2420], val_loss: 45133184.0000\n",
            "Epoch [2440], val_loss: 45899488.0000\n",
            "Epoch [2460], val_loss: 44149436.0000\n",
            "Epoch [2480], val_loss: 45040676.0000\n",
            "Epoch [2500], val_loss: 44317748.0000\n",
            "Epoch [2520], val_loss: 44394816.0000\n",
            "Epoch [2540], val_loss: 44123636.0000\n",
            "Epoch [2560], val_loss: 44674752.0000\n",
            "Epoch [2580], val_loss: 44142284.0000\n",
            "Epoch [2600], val_loss: 44956908.0000\n",
            "Epoch [2620], val_loss: 44148596.0000\n",
            "Epoch [2640], val_loss: 44071624.0000\n",
            "Epoch [2660], val_loss: 44062292.0000\n",
            "Epoch [2680], val_loss: 44053892.0000\n",
            "Epoch [2700], val_loss: 44081608.0000\n",
            "Epoch [2720], val_loss: 44203408.0000\n",
            "Epoch [2740], val_loss: 44305248.0000\n",
            "Epoch [2760], val_loss: 46020340.0000\n",
            "Epoch [2780], val_loss: 45578612.0000\n",
            "Epoch [2800], val_loss: 44306068.0000\n",
            "Epoch [2820], val_loss: 44914844.0000\n",
            "Epoch [2840], val_loss: 44326136.0000\n",
            "Epoch [2860], val_loss: 43949220.0000\n",
            "Epoch [2880], val_loss: 43945484.0000\n",
            "Epoch [2900], val_loss: 43962356.0000\n",
            "Epoch [2920], val_loss: 44846592.0000\n",
            "Epoch [2940], val_loss: 43904308.0000\n",
            "Epoch [2960], val_loss: 43879556.0000\n",
            "Epoch [2980], val_loss: 44004796.0000\n",
            "Epoch [3000], val_loss: 43967292.0000\n",
            "Epoch [3020], val_loss: 43829116.0000\n",
            "Epoch [3040], val_loss: 44020876.0000\n",
            "Epoch [3060], val_loss: 44184300.0000\n",
            "Epoch [3080], val_loss: 43871164.0000\n",
            "Epoch [3100], val_loss: 44030960.0000\n",
            "Epoch [3120], val_loss: 43875452.0000\n",
            "Epoch [3140], val_loss: 43830268.0000\n",
            "Epoch [3160], val_loss: 44194736.0000\n",
            "Epoch [3180], val_loss: 43871300.0000\n",
            "Epoch [3200], val_loss: 43901648.0000\n",
            "Epoch [3220], val_loss: 43802068.0000\n",
            "Epoch [3240], val_loss: 43754316.0000\n",
            "Epoch [3260], val_loss: 43784156.0000\n",
            "Epoch [3280], val_loss: 44239196.0000\n",
            "Epoch [3300], val_loss: 43733304.0000\n",
            "Epoch [3320], val_loss: 45158736.0000\n",
            "Epoch [3340], val_loss: 43709532.0000\n",
            "Epoch [3360], val_loss: 44756524.0000\n",
            "Epoch [3380], val_loss: 44679108.0000\n",
            "Epoch [3400], val_loss: 43664916.0000\n",
            "Epoch [3420], val_loss: 43795500.0000\n",
            "Epoch [3440], val_loss: 43932116.0000\n",
            "Epoch [3460], val_loss: 44222176.0000\n",
            "Epoch [3480], val_loss: 45236492.0000\n",
            "Epoch [3500], val_loss: 46217964.0000\n",
            "Epoch [3520], val_loss: 43673588.0000\n",
            "Epoch [3540], val_loss: 43820844.0000\n",
            "Epoch [3560], val_loss: 43939716.0000\n",
            "Epoch [3580], val_loss: 43634396.0000\n",
            "Epoch [3600], val_loss: 43650236.0000\n",
            "Epoch [3620], val_loss: 43783596.0000\n",
            "Epoch [3640], val_loss: 44253568.0000\n",
            "Epoch [3660], val_loss: 44164876.0000\n",
            "Epoch [3680], val_loss: 46401760.0000\n",
            "Epoch [3700], val_loss: 43686084.0000\n",
            "Epoch [3720], val_loss: 44310772.0000\n",
            "Epoch [3740], val_loss: 44441748.0000\n",
            "Epoch [3760], val_loss: 44440420.0000\n",
            "Epoch [3780], val_loss: 44164496.0000\n",
            "Epoch [3800], val_loss: 43958864.0000\n",
            "Epoch [3820], val_loss: 43499420.0000\n",
            "Epoch [3825], val_loss: 43749332.0000\n"
          ],
          "name": "stdout"
        }
      ]
    },
    {
      "cell_type": "markdown",
      "metadata": {
        "id": "Y0Uhkw5Fmp7x"
      },
      "source": [
        "**Q: What is the final validation loss of your model?**"
      ]
    },
    {
      "cell_type": "code",
      "metadata": {
        "id": "I2IuWdZ9mp7z"
      },
      "source": [
        "val_loss = 43749332.0000"
      ],
      "execution_count": null,
      "outputs": []
    },
    {
      "cell_type": "markdown",
      "metadata": {
        "id": "rxo1ASZlmp72"
      },
      "source": [
        "Let's log the final validation loss to Jovian and commit the notebook"
      ]
    },
    {
      "cell_type": "code",
      "metadata": {
        "colab": {
          "base_uri": "https://localhost:8080/"
        },
        "id": "1tqk8In7mp74",
        "outputId": "c6cc817e-ebbe-4e4f-cb97-bc534535be66"
      },
      "source": [
        "jovian.log_metrics(val_loss=val_loss)"
      ],
      "execution_count": null,
      "outputs": [
        {
          "output_type": "stream",
          "text": [
            "[jovian] Metrics logged.\u001b[0m\n"
          ],
          "name": "stdout"
        }
      ]
    },
    {
      "cell_type": "code",
      "metadata": {
        "colab": {
          "base_uri": "https://localhost:8080/",
          "height": 161
        },
        "id": "loi3DUyNmp77",
        "outputId": "b91481d5-ba16-47af-9047-79cdace97c5b"
      },
      "source": [
        "jovian.commit(project=project_name, environment=None)"
      ],
      "execution_count": null,
      "outputs": [
        {
          "output_type": "stream",
          "text": [
            "[jovian] Detected Colab notebook...\u001b[0m\n",
            "[jovian] Uploading colab notebook to Jovian...\u001b[0m\n",
            "[jovian] Attaching records (metrics, hyperparameters, dataset etc.)\u001b[0m\n",
            "[jovian] Committed successfully! https://jovian.ai/mm20b029/02-insurance-linear-regression\u001b[0m\n"
          ],
          "name": "stdout"
        },
        {
          "output_type": "execute_result",
          "data": {
            "application/vnd.google.colaboratory.intrinsic+json": {
              "type": "string"
            },
            "text/plain": [
              "'https://jovian.ai/mm20b029/02-insurance-linear-regression'"
            ]
          },
          "metadata": {
            "tags": []
          },
          "execution_count": 51
        }
      ]
    },
    {
      "cell_type": "markdown",
      "metadata": {
        "id": "MQFKHbYAmp79"
      },
      "source": [
        "Now scroll back up, re-initialize the model, and try different set of values for batch size, number of epochs, learning rate etc. Commit each experiment and use the \"Compare\" and \"View Diff\" options on Jovian to compare the different results."
      ]
    },
    {
      "cell_type": "markdown",
      "metadata": {
        "id": "zWAo1njvmp7_"
      },
      "source": [
        "## Step 5: Make predictions using the trained model\n",
        "\n",
        "**Q: Complete the following function definition to make predictions on a single input**"
      ]
    },
    {
      "cell_type": "code",
      "metadata": {
        "id": "it-cWwvPmp8C"
      },
      "source": [
        " def predict_single(input, target, model):\n",
        "    inputs = input.unsqueeze(0)\n",
        "    predictions = model(xb)              # fill this\n",
        "    prediction = predictions[0].detach()\n",
        "    print(\"Input:\", input)\n",
        "    print(\"Target:\", target)\n",
        "    print(\"Prediction:\", prediction)"
      ],
      "execution_count": null,
      "outputs": []
    },
    {
      "cell_type": "code",
      "metadata": {
        "colab": {
          "base_uri": "https://localhost:8080/"
        },
        "id": "30jFBIOjmp8E",
        "outputId": "88b15065-c3dc-4609-f51f-d034f5d1758f"
      },
      "source": [
        "input, target = val_ds[0]\n",
        "predict_single(input, target, model)"
      ],
      "execution_count": null,
      "outputs": [
        {
          "output_type": "stream",
          "text": [
            "Input: tensor([60.0000,  1.0000, 25.9974,  0.0000,  0.0000,  2.0000])\n",
            "Target: tensor([13963.9658])\n",
            "Prediction: tensor([5102.5928])\n"
          ],
          "name": "stdout"
        }
      ]
    },
    {
      "cell_type": "code",
      "metadata": {
        "colab": {
          "base_uri": "https://localhost:8080/"
        },
        "id": "BHDNrbmXmp8I",
        "outputId": "426ca09f-97f1-42a6-d01c-8968505811dd"
      },
      "source": [
        "input, target = val_ds[10]\n",
        "predict_single(input, target, model)"
      ],
      "execution_count": null,
      "outputs": [
        {
          "output_type": "stream",
          "text": [
            "Input: tensor([42.0000,  1.0000, 26.3307,  1.0000,  1.0000,  2.0000])\n",
            "Target: tensor([43982.4336])\n",
            "Prediction: tensor([5102.5928])\n"
          ],
          "name": "stdout"
        }
      ]
    },
    {
      "cell_type": "code",
      "metadata": {
        "colab": {
          "base_uri": "https://localhost:8080/"
        },
        "id": "w7TPRuAzmp8K",
        "outputId": "35743ef9-7a12-4018-9080-0a9d3ca6e48e"
      },
      "source": [
        "input, target = val_ds[23]\n",
        "predict_single(input, target, model)"
      ],
      "execution_count": null,
      "outputs": [
        {
          "output_type": "stream",
          "text": [
            "Input: tensor([60.0000,  1.0000, 33.1280,  0.0000,  1.0000,  3.0000])\n",
            "Target: tensor([60479.4531])\n",
            "Prediction: tensor([5102.5928])\n"
          ],
          "name": "stdout"
        }
      ]
    }
  ]
}