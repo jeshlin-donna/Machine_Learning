{
  "cells": [
    {
      "cell_type": "code",
      "metadata": {
        "id": "dz907NVoTcok",
        "colab": {
          "base_uri": "https://localhost:8080/"
        },
        "outputId": "d29265d9-d2d8-4149-83c8-b19d408d8a71"
      },
      "source": [
        "# !sudo add-apt-repository ppa:openjdk-r/ppa\n",
        "!sudo apt-get install openjdk-11-jdk\n",
        "# To Install Oracke JDK varsion 8\n",
        "# !sudo add-apt-repository ppa:webupd8team/java\n",
        "# !sudo apt-get install oracle-java8-installer"
      ],
      "execution_count": 1,
      "outputs": [
        {
          "output_type": "stream",
          "name": "stdout",
          "text": [
            "Reading package lists... Done\n",
            "Building dependency tree       \n",
            "Reading state information... Done\n",
            "openjdk-11-jdk is already the newest version (11.0.14.1+1-0ubuntu1~18.04).\n",
            "0 upgraded, 0 newly installed, 0 to remove and 39 not upgraded.\n"
          ]
        }
      ]
    },
    {
      "cell_type": "code",
      "source": [
        "# !wget -q https://downloads.apache.org/spark/spark-3.1.1/spark-3.1.1-bin-hadoop3.2.tgz\n",
        "# !tar xvzf spark-3.1.1-bin-hadoop3.2.tgz\n",
        "!pip install pyspark\n",
        "!pip install -q findspark\n",
        "!pip install pyarrow\n",
        "try:\n",
        "  # %tensorflow_version only exists in Colab.\n",
        "  !pip install  tf-estimator-nightly==2.8.0.dev2021122109\n",
        "except Exception:\n",
        "  pass"
      ],
      "metadata": {
        "colab": {
          "base_uri": "https://localhost:8080/"
        },
        "id": "GHCE-bUl_5YT",
        "outputId": "4ddb1dba-8089-43ff-ef30-7ca25fc4f41c"
      },
      "execution_count": 2,
      "outputs": [
        {
          "output_type": "stream",
          "name": "stdout",
          "text": [
            "Requirement already satisfied: pyspark in /usr/local/lib/python3.7/dist-packages (3.2.1)\n",
            "Requirement already satisfied: py4j==0.10.9.3 in /usr/local/lib/python3.7/dist-packages (from pyspark) (0.10.9.3)\n",
            "Requirement already satisfied: pyarrow in /usr/local/lib/python3.7/dist-packages (6.0.1)\n",
            "Requirement already satisfied: numpy>=1.16.6 in /usr/local/lib/python3.7/dist-packages (from pyarrow) (1.21.5)\n",
            "Requirement already satisfied: tf-estimator-nightly==2.8.0.dev2021122109 in /usr/local/lib/python3.7/dist-packages (2.8.0.dev2021122109)\n"
          ]
        }
      ]
    },
    {
      "cell_type": "code",
      "metadata": {
        "id": "PyFhdHcmFlQg"
      },
      "source": [
        "import os\n",
        "os.environ[\"JAVA_HOME\"] = \"/usr/lib/jvm/java-11-openjdk-amd64\"\n",
        "# os.environ[\"SPARK_HOME\"] = \"/content/spark-3.2.1\"\n"
      ],
      "execution_count": 3,
      "outputs": []
    },
    {
      "cell_type": "code",
      "metadata": {
        "id": "pAscPuPNjOvd"
      },
      "source": [
        "from pyspark.sql.functions import col, pandas_udf, regexp_extract\n",
        "import io\n",
        "\n",
        "from tensorflow.keras.applications.imagenet_utils import decode_predictions\n",
        "import pandas as pd\n",
        "from pyspark.sql.functions import col, pandas_udf, PandasUDFType\n",
        "\n",
        "import torch\n",
        "from torch.utils.data import Dataset, DataLoader\n",
        "from torchvision import models, transforms\n",
        "from PIL import Image\n",
        "\n",
        "from __future__ import absolute_import, division, print_function, unicode_literals\n",
        "import tensorflow as tf\n",
        "import pathlib\n",
        "import findspark\n",
        "from pyspark.sql import SparkSession\n",
        "import matplotlib.pyplot as plt \n",
        "\n",
        "\n",
        "findspark.init()\n",
        "spark = SparkSession.builder.master(\"local[*]\").getOrCreate()"
      ],
      "execution_count": 4,
      "outputs": []
    },
    {
      "cell_type": "markdown",
      "metadata": {
        "id": "awpe5S2ExkQu"
      },
      "source": [
        "# Dataformatting"
      ]
    },
    {
      "cell_type": "code",
      "execution_count": 5,
      "metadata": {
        "colab": {
          "base_uri": "https://localhost:8080/"
        },
        "id": "KLPSwjYB_wni",
        "outputId": "bc1e7f64-a253-4ea7-ab63-64071855b89a"
      },
      "outputs": [
        {
          "output_type": "stream",
          "name": "stdout",
          "text": [
            "--2022-04-16 04:07:26--  https://www.cs.toronto.edu/%7Ekriz/cifar-10-python.tar.gz\n",
            "Resolving www.cs.toronto.edu (www.cs.toronto.edu)... 128.100.3.30\n",
            "Connecting to www.cs.toronto.edu (www.cs.toronto.edu)|128.100.3.30|:443... connected.\n",
            "HTTP request sent, awaiting response... 200 OK\n",
            "Length: 170498071 (163M) [application/x-gzip]\n",
            "Saving to: ‘cifar-10-python.tar.gz’\n",
            "\n",
            "cifar-10-python.tar 100%[===================>] 162.60M  16.5MB/s    in 11s     \n",
            "\n",
            "2022-04-16 04:07:38 (14.9 MB/s) - ‘cifar-10-python.tar.gz’ saved [170498071/170498071]\n",
            "\n"
          ]
        }
      ],
      "source": [
        "!wget https://www.cs.toronto.edu/%7Ekriz/cifar-10-python.tar.gz"
      ]
    },
    {
      "cell_type": "code",
      "execution_count": 6,
      "metadata": {
        "colab": {
          "base_uri": "https://localhost:8080/"
        },
        "id": "3G0ijz-s-697",
        "outputId": "e7613f20-6299-41f2-d057-ee41535ea71d"
      },
      "outputs": [
        {
          "output_type": "stream",
          "name": "stdout",
          "text": [
            "cifar-10-batches-py/\n",
            "cifar-10-batches-py/data_batch_4\n",
            "cifar-10-batches-py/readme.html\n",
            "cifar-10-batches-py/test_batch\n",
            "cifar-10-batches-py/data_batch_3\n",
            "cifar-10-batches-py/batches.meta\n",
            "cifar-10-batches-py/data_batch_2\n",
            "cifar-10-batches-py/data_batch_5\n",
            "cifar-10-batches-py/data_batch_1\n"
          ]
        }
      ],
      "source": [
        "!tar xvf cifar-10-python.tar.gz"
      ]
    },
    {
      "cell_type": "code",
      "execution_count": 7,
      "metadata": {
        "colab": {
          "base_uri": "https://localhost:8080/"
        },
        "id": "WPU1bQjX_CMy",
        "outputId": "f3c0e0c2-f9a3-47ac-e12a-196c119f6512"
      },
      "outputs": [
        {
          "output_type": "stream",
          "name": "stdout",
          "text": [
            "batches.meta  data_batch_2  data_batch_4  readme.html\n",
            "data_batch_1  data_batch_3  data_batch_5  test_batch\n"
          ]
        }
      ],
      "source": [
        "!ls cifar-10-batches-py/"
      ]
    },
    {
      "cell_type": "code",
      "execution_count": 8,
      "metadata": {
        "id": "J5Nhx3hkEjry"
      },
      "outputs": [],
      "source": [
        "def load_cifar10_batch(cifar10_dataset_folder_path, batch_id):\n",
        "  import pickle\n",
        "  with open(cifar10_dataset_folder_path + '/data_batch_' + str(batch_id), mode='rb') as file:\n",
        "      # note the encoding type is 'latin1'\n",
        "      batch = pickle.load(file, encoding='latin1')\n",
        "      \n",
        "  features = batch['data'].reshape((len(batch['data']), 3, 32, 32)).transpose(0, 2, 3, 1)\n",
        "  labels = batch['labels']\n",
        "      \n",
        "  return features, labels\n",
        "\n",
        "def load_label_names():\n",
        "  return ['airplane', 'automobile', 'bird', 'cat', 'deer', 'dog', 'frog', 'horse', 'ship', 'truck']"
      ]
    },
    {
      "cell_type": "code",
      "execution_count": 9,
      "metadata": {
        "id": "-yA9ywTTEnuh"
      },
      "outputs": [],
      "source": [
        "import numpy as np\n",
        "\n",
        "features_p = np.array([])\n",
        "labels_p = np.array([])\n",
        "\n",
        "for batch_id in range(1,6):\n",
        "  features, labels = load_cifar10_batch('./cifar-10-batches-py', batch_id)\n",
        "  labels = np.expand_dims(np.squeeze(labels),1)\n",
        "  if batch_id-1:\n",
        "    features_acc = np.vstack([features_p, features])\n",
        "    labels_acc = np.vstack([labels_p, labels])\n",
        "    features_p = features_acc\n",
        "    labels_p = labels_acc\n",
        "  else:\n",
        "    features_p = features\n",
        "    labels_p = labels"
      ]
    },
    {
      "cell_type": "code",
      "execution_count": 10,
      "metadata": {
        "id": "tfTPQPj0Ft00"
      },
      "outputs": [],
      "source": [
        "label_names = load_label_names()"
      ]
    },
    {
      "cell_type": "code",
      "execution_count": 12,
      "metadata": {
        "id": "0OVUZ1IeFtha"
      },
      "outputs": [],
      "source": [
        "from PIL import Image as im\n",
        "import os\n",
        "import shutil\n",
        "from tqdm.notebook import tqdm\n",
        "\n",
        "def write_imagenet_format(features_acc, labels_acc, data_path):\n",
        "  label_names = load_label_names()\n",
        "\n",
        "  if not os.path.exists(data_path):\n",
        "    os.makedirs(data_path)\n",
        "\n",
        "  for label in label_names:\n",
        "    sub_fold = os.path.join(data_path,label)\n",
        "    if not os.path.exists(sub_fold):\n",
        "      os.mkdir(sub_fold)\n",
        "\n",
        "  for i in tqdm(range(features_acc.shape[0])):\n",
        "    samp = features_acc[i]\n",
        "    label = np.squeeze(labels_acc[i])\n",
        "    data = im.fromarray(samp, 'RGB')\n",
        "    data_save_path = os.path.join(data_path,label_names[label],str(i)+'.jpg')\n",
        "    data.save(data_save_path)"
      ]
    },
    {
      "cell_type": "code",
      "execution_count": 13,
      "metadata": {
        "colab": {
          "base_uri": "https://localhost:8080/",
          "height": 48,
          "referenced_widgets": [
            "a9e42887b79f4986895e9384794940de",
            "b946b54cace348ab9554cbf1bf8d3ba9",
            "3709680ec762461dad47b9fa97b6d7bc",
            "214d26f41c85468dbd614a58471d4775",
            "3345859824c34dc2a6e66607cc9cb002",
            "44f5accd219946e298aee4025f638086",
            "af47c15070f44389a155265a01eaf428",
            "548d73d2f9af41769742ebb14b8fd7be",
            "f0df7d650c6340978d7c1617185edc1f",
            "77e4a38072a64c58a05c79164f08836a",
            "6f1143d7f5724a318df76c53ea86fe04"
          ]
        },
        "id": "E7QERqAMgaQs",
        "outputId": "b9636aa0-1685-47da-eabe-aaa999674fcf"
      },
      "outputs": [
        {
          "output_type": "display_data",
          "data": {
            "text/plain": [
              "  0%|          | 0/50000 [00:00<?, ?it/s]"
            ],
            "application/vnd.jupyter.widget-view+json": {
              "version_major": 2,
              "version_minor": 0,
              "model_id": "a9e42887b79f4986895e9384794940de"
            }
          },
          "metadata": {}
        }
      ],
      "source": [
        "train_path = 'c10_data/train_data'\n",
        "write_imagenet_format(features_acc, labels_acc, train_path)"
      ]
    },
    {
      "cell_type": "code",
      "execution_count": 14,
      "metadata": {
        "id": "iwjfBa3EScPM"
      },
      "outputs": [],
      "source": [
        "import pickle\n",
        "with open('./cifar-10-batches-py/test_batch', mode='rb') as file:\n",
        "    batch = pickle.load(file, encoding='latin1')\n",
        "test_features = batch['data'].reshape((len(batch['data']), 3, 32, 32)).transpose(0, 2, 3, 1)\n",
        "test_labels = batch['labels']"
      ]
    },
    {
      "cell_type": "code",
      "execution_count": 15,
      "metadata": {
        "colab": {
          "base_uri": "https://localhost:8080/",
          "height": 48,
          "referenced_widgets": [
            "d0b6872a16e94ad0a2aa5f9c2ababfd5",
            "1baadfd58bb9482d9fc03f1f8978e8f7",
            "bb0a40090b604c96be757487f8b823f8",
            "584d191404c74a1c9a70ee2c587c90c0",
            "b83db9eb4d2340f9863ce02ece7160d3",
            "877c7f54dbd9433f861914081dd75557",
            "ad27c20634e146e2b9e0acfda813d3f2",
            "d46c4164559f4ca5a49fc22a8f7d9039",
            "ba3f7722cc5745f3940b5cc19c4bd444",
            "90841401f5f74c6686a1516ff9998e91",
            "dc43c1219a7b423a800498ca57aca72b"
          ]
        },
        "id": "15ADeZwtgtf7",
        "outputId": "67cf03cc-12c3-4c20-bed9-5d9d2895754f"
      },
      "outputs": [
        {
          "output_type": "display_data",
          "data": {
            "text/plain": [
              "  0%|          | 0/10000 [00:00<?, ?it/s]"
            ],
            "application/vnd.jupyter.widget-view+json": {
              "version_major": 2,
              "version_minor": 0,
              "model_id": "d0b6872a16e94ad0a2aa5f9c2ababfd5"
            }
          },
          "metadata": {}
        }
      ],
      "source": [
        "test_path = 'c10_data/test_data'\n",
        "write_imagenet_format(test_features, test_labels, test_path)"
      ]
    },
    {
      "cell_type": "markdown",
      "metadata": {
        "id": "VeeGfYuVg7U5"
      },
      "source": [
        "# Read to SPARK"
      ]
    },
    {
      "cell_type": "code",
      "execution_count": 16,
      "metadata": {
        "id": "jioY2FlRnh5r"
      },
      "outputs": [],
      "source": [
        "import io\n",
        "\n",
        "from tensorflow.keras.applications.imagenet_utils import decode_predictions\n",
        "import pandas as pd\n",
        "from pyspark.sql.functions import col, pandas_udf, PandasUDFType\n",
        "from pyspark.sql.functions import col, pandas_udf, regexp_extract\n",
        "import pyspark.sql.functions as sqlf\n",
        "import torch\n",
        "from torch.utils.data import Dataset, DataLoader\n",
        "from torchvision import models, transforms\n",
        "from PIL import Image"
      ]
    },
    {
      "cell_type": "code",
      "execution_count": 17,
      "metadata": {
        "id": "8-Jh-li0V3al"
      },
      "outputs": [],
      "source": [
        "images = spark.read.format(\"binaryFile\").option(\"recursiveFileLookup\", \"true\").option(\"pathGlobFilter\", \"*.jpg\").load('./c10_data/train_data')"
      ]
    },
    {
      "cell_type": "code",
      "execution_count": 18,
      "metadata": {
        "id": "ekKZzpVPha5M"
      },
      "outputs": [],
      "source": [
        "\n",
        "def extract_label(path_col):\n",
        "  \"\"\"Extract label from file path using built-in SQL functions.\"\"\"\n",
        "  return regexp_extract(path_col, \"./c10_data/train_data/([^/]+)\", 1)\n",
        "\n",
        "def extract_size(content):\n",
        "  \"\"\"Extract image size from its raw content.\"\"\"\n",
        "  image = Image.open(io.BytesIO(content))\n",
        "  return image.size\n",
        "\n",
        "@pandas_udf(\"width: int, height: int\")\n",
        "def extract_size_udf(content_series):\n",
        "  sizes = content_series.apply(extract_size)\n",
        "  return pd.DataFrame(list(sizes))\n",
        "\n",
        "df = images.select(\n",
        "  col(\"path\"),\n",
        "  col(\"modificationTime\"),\n",
        "  extract_label(col(\"path\")).alias(\"label\"),\n",
        "  extract_size_udf(col(\"content\")).alias(\"size\"),\n",
        "  col(\"content\"))\n"
      ]
    },
    {
      "cell_type": "code",
      "execution_count": 19,
      "metadata": {
        "id": "jrDuJgc-oO8z"
      },
      "outputs": [],
      "source": [
        "class ImageNetDataset(Dataset):\n",
        "  \"\"\"\n",
        "  Converts image contents into a PyTorch Dataset with standard ImageNet preprocessing.\n",
        "  \"\"\"\n",
        "  def __init__(self, contents):\n",
        "    self.contents = contents\n",
        "\n",
        "  def __len__(self):\n",
        "    return len(self.contents)\n",
        "\n",
        "  def __getitem__(self, index):\n",
        "    return self._preprocess(self.contents[index])\n",
        "\n",
        "  def _preprocess(self, content):\n",
        "    \"\"\"\n",
        "    Preprocesses the input image content using standard ImageNet normalization.\n",
        "    \n",
        "    See https://pytorch.org/docs/stable/torchvision/models.html.\n",
        "    \"\"\"\n",
        "    image = Image.open(io.BytesIO(content))\n",
        "    transform = transforms.Compose([\n",
        "      transforms.Resize(256),\n",
        "      transforms.CenterCrop(224),\n",
        "      transforms.ToTensor(),\n",
        "      transforms.Normalize(mean=[0.485, 0.456, 0.406], std=[0.229, 0.224, 0.225]),\n",
        "    ])\n",
        "    return transform(image)"
      ]
    },
    {
      "cell_type": "code",
      "execution_count": 20,
      "metadata": {
        "id": "kvHGxWr-oVDC"
      },
      "outputs": [],
      "source": [
        "def imagenet_model_udf():\n",
        "  \"\"\"\n",
        "  Wraps an ImageNet model into a Pandas UDF that makes predictions.\n",
        "  \n",
        "  You might consider the following customizations for your own use case:\n",
        "    - Tune DataLoader's batch_size and num_workers for better performance.\n",
        "    - Use GPU for acceleration.\n",
        "    - Change prediction types.\n",
        "  \"\"\"\n",
        "  model = models.mobilenet_v2(pretrained=True)\n",
        "  model.eval()\n",
        "  def predict(content_series_iter):\n",
        "\n",
        "    for content_series in content_series_iter:\n",
        "      dataset = ImageNetDataset(list(content_series))\n",
        "      loader = DataLoader(dataset, batch_size=64)\n",
        "      with torch.no_grad():\n",
        "        for image_batch in loader:\n",
        "          predictions = model(image_batch).numpy()\n",
        "          predicted_labels = [x[0] for x in decode_predictions(predictions, top=1)]\n",
        "          yield pd.DataFrame(predicted_labels)\n",
        "  return_type = \"class: string, desc: string\"\n",
        "  return pandas_udf(return_type, PandasUDFType.SCALAR_ITER)(predict)"
      ]
    },
    {
      "cell_type": "code",
      "execution_count": 21,
      "metadata": {
        "colab": {
          "base_uri": "https://localhost:8080/"
        },
        "id": "4CQXmwXKykd9",
        "outputId": "49814640-67ed-4f3a-8620-5c21881fb9a7"
      },
      "outputs": [
        {
          "output_type": "stream",
          "name": "stderr",
          "text": [
            "/usr/local/lib/python3.7/dist-packages/pyspark/sql/pandas/functions.py:392: UserWarning: In Python 3.6+ and Spark 3.0+, it is preferred to specify type hints for pandas UDF instead of specifying pandas UDF type which will be deprecated in the future releases. See SPARK-28264 for more details.\n",
            "  \"in the future releases. See SPARK-28264 for more details.\", UserWarning)\n"
          ]
        },
        {
          "output_type": "stream",
          "name": "stdout",
          "text": [
            "+----------+----------------------+\n",
            "|label     |mobilenetv2 prediction|\n",
            "+----------+----------------------+\n",
            "|frog      |rock_python           |\n",
            "|bird      |pinwheel              |\n",
            "|truck     |bearskin              |\n",
            "|automobile|mousetrap             |\n",
            "|truck     |oil_filter            |\n",
            "|truck     |thresher              |\n",
            "|frog      |jaguar                |\n",
            "|truck     |moving_van            |\n",
            "|airplane  |waffle_iron           |\n",
            "|automobile|panpipe               |\n",
            "|frog      |sidewinder            |\n",
            "|truck     |airliner              |\n",
            "|automobile|maraca                |\n",
            "|truck     |thresher              |\n",
            "|frog      |clog                  |\n",
            "|truck     |thresher              |\n",
            "|truck     |moving_van            |\n",
            "|frog      |jersey                |\n",
            "|truck     |thresher              |\n",
            "|truck     |thresher              |\n",
            "|cat       |fire_screen           |\n",
            "|truck     |moving_van            |\n",
            "|frog      |sidewinder            |\n",
            "|truck     |tobacco_shop          |\n",
            "|bird      |howler_monkey         |\n",
            "+----------+----------------------+\n",
            "only showing top 25 rows\n",
            "\n"
          ]
        }
      ],
      "source": [
        "mobilenet_v2_udf = imagenet_model_udf()\n",
        "predictions = df.withColumn(\"prediction\", mobilenet_v2_udf(col(\"content\")))\n",
        "prediction_mobil = predictions.select(col(\"label\"),col(\"prediction.desc\").alias(\"mobilenetv2 prediction\"))\n",
        "prediction_mobil.show(25,False)"
      ]
    },
    {
      "cell_type": "code",
      "execution_count": 22,
      "metadata": {
        "id": "R0TRmKrFfwkp"
      },
      "outputs": [],
      "source": [
        "prediction_mobil_ser = prediction_mobil.limit(2500).toPandas()"
      ]
    },
    {
      "cell_type": "code",
      "execution_count": 23,
      "metadata": {
        "id": "_uaaU9CZR-wG",
        "colab": {
          "base_uri": "https://localhost:8080/"
        },
        "outputId": "fcd129bc-5f9b-4957-a7f7-2e4562a9827d"
      },
      "outputs": [
        {
          "output_type": "stream",
          "name": "stdout",
          "text": [
            "\n",
            "\n",
            " ####### Top 5 predictions for class airplane #######\n",
            "               counts\n",
            "moving_van          7\n",
            "rock_beauty         4\n",
            "thresher            4\n",
            "assault_rifle       4\n",
            "chain_saw           4\n",
            "\n",
            "\n",
            " ####### Top 5 predictions for class automobile #######\n",
            "                 counts\n",
            "moving_van          244\n",
            "thresher             47\n",
            "chain_saw            41\n",
            "amphibian            25\n",
            "cassette_player      15\n",
            "\n",
            "\n",
            " ####### Top 5 predictions for class bird #######\n",
            "                  counts\n",
            "fox_squirrel          10\n",
            "three-toed_sloth       8\n",
            "rock_beauty            5\n",
            "platypus               3\n",
            "lesser_panda           3\n",
            "\n",
            "\n",
            " ####### Top 5 predictions for class cat #######\n",
            "                  counts\n",
            "EntleBucher            9\n",
            "fox_squirrel           7\n",
            "Japanese_spaniel       5\n",
            "bearskin               5\n",
            "Windsor_tie            4\n",
            "\n",
            "\n",
            " ####### Top 5 predictions for class deer #######\n",
            "                  counts\n",
            "fox_squirrel          13\n",
            "sorrel                 5\n",
            "barn_spider            5\n",
            "cardoon                4\n",
            "Japanese_spaniel       3\n",
            "\n",
            "\n",
            " ####### Top 5 predictions for class dog #######\n",
            "                  counts\n",
            "Japanese_spaniel      33\n",
            "Dandie_Dinmont        11\n",
            "English_foxhound       9\n",
            "EntleBucher            6\n",
            "otterhound             6\n",
            "\n",
            "\n",
            " ####### Top 5 predictions for class frog #######\n",
            "              counts\n",
            "fox_squirrel      51\n",
            "sidewinder        35\n",
            "rock_python       30\n",
            "cardoon           24\n",
            "rock_beauty       17\n",
            "\n",
            "\n",
            " ####### Top 5 predictions for class horse #######\n",
            "                             counts\n",
            "sorrel                           88\n",
            "thresher                         17\n",
            "hartebeest                       14\n",
            "black-and-tan_coonhound          10\n",
            "German_short-haired_pointer       9\n",
            "\n",
            "\n",
            " ####### Top 5 predictions for class ship #######\n",
            "                counts\n",
            "speedboat            8\n",
            "moving_van           5\n",
            "yawl                 4\n",
            "Madagascar_cat       2\n",
            "amphibian            2\n",
            "\n",
            "\n",
            " ####### Top 5 predictions for class truck #######\n",
            "              counts\n",
            "moving_van       332\n",
            "thresher         133\n",
            "chain_saw         25\n",
            "paddlewheel       19\n",
            "tobacco_shop      16\n"
          ]
        }
      ],
      "source": [
        "top_num = 5\n",
        "for label_name in label_names:\n",
        "  filt_rows = prediction_mobil_ser.loc[prediction_mobil_ser['label'] == label_name]\n",
        "  print(f\"\\n\\n ####### Top {top_num} predictions for class {label_name} #######\")\n",
        "  final_rows = filt_rows['mobilenetv2 prediction'].value_counts().nlargest(top_num).to_frame('counts')\n",
        "  print(final_rows)"
      ]
    },
    {
      "cell_type": "code",
      "execution_count": null,
      "metadata": {
        "id": "KAKtM8h5BRGG"
      },
      "outputs": [],
      "source": [
        ""
      ]
    }
  ],
  "metadata": {
    "colab": {
      "collapsed_sections": [],
      "name": "DL_CIFAR10.ipynb",
      "provenance": []
    },
    "kernelspec": {
      "display_name": "Python 3",
      "name": "python3"
    },
    "widgets": {
      "application/vnd.jupyter.widget-state+json": {
        "a9e42887b79f4986895e9384794940de": {
          "model_module": "@jupyter-widgets/controls",
          "model_name": "HBoxModel",
          "model_module_version": "1.5.0",
          "state": {
            "_dom_classes": [],
            "_model_module": "@jupyter-widgets/controls",
            "_model_module_version": "1.5.0",
            "_model_name": "HBoxModel",
            "_view_count": null,
            "_view_module": "@jupyter-widgets/controls",
            "_view_module_version": "1.5.0",
            "_view_name": "HBoxView",
            "box_style": "",
            "children": [
              "IPY_MODEL_b946b54cace348ab9554cbf1bf8d3ba9",
              "IPY_MODEL_3709680ec762461dad47b9fa97b6d7bc",
              "IPY_MODEL_214d26f41c85468dbd614a58471d4775"
            ],
            "layout": "IPY_MODEL_3345859824c34dc2a6e66607cc9cb002"
          }
        },
        "b946b54cace348ab9554cbf1bf8d3ba9": {
          "model_module": "@jupyter-widgets/controls",
          "model_name": "HTMLModel",
          "model_module_version": "1.5.0",
          "state": {
            "_dom_classes": [],
            "_model_module": "@jupyter-widgets/controls",
            "_model_module_version": "1.5.0",
            "_model_name": "HTMLModel",
            "_view_count": null,
            "_view_module": "@jupyter-widgets/controls",
            "_view_module_version": "1.5.0",
            "_view_name": "HTMLView",
            "description": "",
            "description_tooltip": null,
            "layout": "IPY_MODEL_44f5accd219946e298aee4025f638086",
            "placeholder": "​",
            "style": "IPY_MODEL_af47c15070f44389a155265a01eaf428",
            "value": "100%"
          }
        },
        "3709680ec762461dad47b9fa97b6d7bc": {
          "model_module": "@jupyter-widgets/controls",
          "model_name": "FloatProgressModel",
          "model_module_version": "1.5.0",
          "state": {
            "_dom_classes": [],
            "_model_module": "@jupyter-widgets/controls",
            "_model_module_version": "1.5.0",
            "_model_name": "FloatProgressModel",
            "_view_count": null,
            "_view_module": "@jupyter-widgets/controls",
            "_view_module_version": "1.5.0",
            "_view_name": "ProgressView",
            "bar_style": "success",
            "description": "",
            "description_tooltip": null,
            "layout": "IPY_MODEL_548d73d2f9af41769742ebb14b8fd7be",
            "max": 50000,
            "min": 0,
            "orientation": "horizontal",
            "style": "IPY_MODEL_f0df7d650c6340978d7c1617185edc1f",
            "value": 50000
          }
        },
        "214d26f41c85468dbd614a58471d4775": {
          "model_module": "@jupyter-widgets/controls",
          "model_name": "HTMLModel",
          "model_module_version": "1.5.0",
          "state": {
            "_dom_classes": [],
            "_model_module": "@jupyter-widgets/controls",
            "_model_module_version": "1.5.0",
            "_model_name": "HTMLModel",
            "_view_count": null,
            "_view_module": "@jupyter-widgets/controls",
            "_view_module_version": "1.5.0",
            "_view_name": "HTMLView",
            "description": "",
            "description_tooltip": null,
            "layout": "IPY_MODEL_77e4a38072a64c58a05c79164f08836a",
            "placeholder": "​",
            "style": "IPY_MODEL_6f1143d7f5724a318df76c53ea86fe04",
            "value": " 50000/50000 [00:14&lt;00:00, 3381.32it/s]"
          }
        },
        "3345859824c34dc2a6e66607cc9cb002": {
          "model_module": "@jupyter-widgets/base",
          "model_name": "LayoutModel",
          "model_module_version": "1.2.0",
          "state": {
            "_model_module": "@jupyter-widgets/base",
            "_model_module_version": "1.2.0",
            "_model_name": "LayoutModel",
            "_view_count": null,
            "_view_module": "@jupyter-widgets/base",
            "_view_module_version": "1.2.0",
            "_view_name": "LayoutView",
            "align_content": null,
            "align_items": null,
            "align_self": null,
            "border": null,
            "bottom": null,
            "display": null,
            "flex": null,
            "flex_flow": null,
            "grid_area": null,
            "grid_auto_columns": null,
            "grid_auto_flow": null,
            "grid_auto_rows": null,
            "grid_column": null,
            "grid_gap": null,
            "grid_row": null,
            "grid_template_areas": null,
            "grid_template_columns": null,
            "grid_template_rows": null,
            "height": null,
            "justify_content": null,
            "justify_items": null,
            "left": null,
            "margin": null,
            "max_height": null,
            "max_width": null,
            "min_height": null,
            "min_width": null,
            "object_fit": null,
            "object_position": null,
            "order": null,
            "overflow": null,
            "overflow_x": null,
            "overflow_y": null,
            "padding": null,
            "right": null,
            "top": null,
            "visibility": null,
            "width": null
          }
        },
        "44f5accd219946e298aee4025f638086": {
          "model_module": "@jupyter-widgets/base",
          "model_name": "LayoutModel",
          "model_module_version": "1.2.0",
          "state": {
            "_model_module": "@jupyter-widgets/base",
            "_model_module_version": "1.2.0",
            "_model_name": "LayoutModel",
            "_view_count": null,
            "_view_module": "@jupyter-widgets/base",
            "_view_module_version": "1.2.0",
            "_view_name": "LayoutView",
            "align_content": null,
            "align_items": null,
            "align_self": null,
            "border": null,
            "bottom": null,
            "display": null,
            "flex": null,
            "flex_flow": null,
            "grid_area": null,
            "grid_auto_columns": null,
            "grid_auto_flow": null,
            "grid_auto_rows": null,
            "grid_column": null,
            "grid_gap": null,
            "grid_row": null,
            "grid_template_areas": null,
            "grid_template_columns": null,
            "grid_template_rows": null,
            "height": null,
            "justify_content": null,
            "justify_items": null,
            "left": null,
            "margin": null,
            "max_height": null,
            "max_width": null,
            "min_height": null,
            "min_width": null,
            "object_fit": null,
            "object_position": null,
            "order": null,
            "overflow": null,
            "overflow_x": null,
            "overflow_y": null,
            "padding": null,
            "right": null,
            "top": null,
            "visibility": null,
            "width": null
          }
        },
        "af47c15070f44389a155265a01eaf428": {
          "model_module": "@jupyter-widgets/controls",
          "model_name": "DescriptionStyleModel",
          "model_module_version": "1.5.0",
          "state": {
            "_model_module": "@jupyter-widgets/controls",
            "_model_module_version": "1.5.0",
            "_model_name": "DescriptionStyleModel",
            "_view_count": null,
            "_view_module": "@jupyter-widgets/base",
            "_view_module_version": "1.2.0",
            "_view_name": "StyleView",
            "description_width": ""
          }
        },
        "548d73d2f9af41769742ebb14b8fd7be": {
          "model_module": "@jupyter-widgets/base",
          "model_name": "LayoutModel",
          "model_module_version": "1.2.0",
          "state": {
            "_model_module": "@jupyter-widgets/base",
            "_model_module_version": "1.2.0",
            "_model_name": "LayoutModel",
            "_view_count": null,
            "_view_module": "@jupyter-widgets/base",
            "_view_module_version": "1.2.0",
            "_view_name": "LayoutView",
            "align_content": null,
            "align_items": null,
            "align_self": null,
            "border": null,
            "bottom": null,
            "display": null,
            "flex": null,
            "flex_flow": null,
            "grid_area": null,
            "grid_auto_columns": null,
            "grid_auto_flow": null,
            "grid_auto_rows": null,
            "grid_column": null,
            "grid_gap": null,
            "grid_row": null,
            "grid_template_areas": null,
            "grid_template_columns": null,
            "grid_template_rows": null,
            "height": null,
            "justify_content": null,
            "justify_items": null,
            "left": null,
            "margin": null,
            "max_height": null,
            "max_width": null,
            "min_height": null,
            "min_width": null,
            "object_fit": null,
            "object_position": null,
            "order": null,
            "overflow": null,
            "overflow_x": null,
            "overflow_y": null,
            "padding": null,
            "right": null,
            "top": null,
            "visibility": null,
            "width": null
          }
        },
        "f0df7d650c6340978d7c1617185edc1f": {
          "model_module": "@jupyter-widgets/controls",
          "model_name": "ProgressStyleModel",
          "model_module_version": "1.5.0",
          "state": {
            "_model_module": "@jupyter-widgets/controls",
            "_model_module_version": "1.5.0",
            "_model_name": "ProgressStyleModel",
            "_view_count": null,
            "_view_module": "@jupyter-widgets/base",
            "_view_module_version": "1.2.0",
            "_view_name": "StyleView",
            "bar_color": null,
            "description_width": ""
          }
        },
        "77e4a38072a64c58a05c79164f08836a": {
          "model_module": "@jupyter-widgets/base",
          "model_name": "LayoutModel",
          "model_module_version": "1.2.0",
          "state": {
            "_model_module": "@jupyter-widgets/base",
            "_model_module_version": "1.2.0",
            "_model_name": "LayoutModel",
            "_view_count": null,
            "_view_module": "@jupyter-widgets/base",
            "_view_module_version": "1.2.0",
            "_view_name": "LayoutView",
            "align_content": null,
            "align_items": null,
            "align_self": null,
            "border": null,
            "bottom": null,
            "display": null,
            "flex": null,
            "flex_flow": null,
            "grid_area": null,
            "grid_auto_columns": null,
            "grid_auto_flow": null,
            "grid_auto_rows": null,
            "grid_column": null,
            "grid_gap": null,
            "grid_row": null,
            "grid_template_areas": null,
            "grid_template_columns": null,
            "grid_template_rows": null,
            "height": null,
            "justify_content": null,
            "justify_items": null,
            "left": null,
            "margin": null,
            "max_height": null,
            "max_width": null,
            "min_height": null,
            "min_width": null,
            "object_fit": null,
            "object_position": null,
            "order": null,
            "overflow": null,
            "overflow_x": null,
            "overflow_y": null,
            "padding": null,
            "right": null,
            "top": null,
            "visibility": null,
            "width": null
          }
        },
        "6f1143d7f5724a318df76c53ea86fe04": {
          "model_module": "@jupyter-widgets/controls",
          "model_name": "DescriptionStyleModel",
          "model_module_version": "1.5.0",
          "state": {
            "_model_module": "@jupyter-widgets/controls",
            "_model_module_version": "1.5.0",
            "_model_name": "DescriptionStyleModel",
            "_view_count": null,
            "_view_module": "@jupyter-widgets/base",
            "_view_module_version": "1.2.0",
            "_view_name": "StyleView",
            "description_width": ""
          }
        },
        "d0b6872a16e94ad0a2aa5f9c2ababfd5": {
          "model_module": "@jupyter-widgets/controls",
          "model_name": "HBoxModel",
          "model_module_version": "1.5.0",
          "state": {
            "_dom_classes": [],
            "_model_module": "@jupyter-widgets/controls",
            "_model_module_version": "1.5.0",
            "_model_name": "HBoxModel",
            "_view_count": null,
            "_view_module": "@jupyter-widgets/controls",
            "_view_module_version": "1.5.0",
            "_view_name": "HBoxView",
            "box_style": "",
            "children": [
              "IPY_MODEL_1baadfd58bb9482d9fc03f1f8978e8f7",
              "IPY_MODEL_bb0a40090b604c96be757487f8b823f8",
              "IPY_MODEL_584d191404c74a1c9a70ee2c587c90c0"
            ],
            "layout": "IPY_MODEL_b83db9eb4d2340f9863ce02ece7160d3"
          }
        },
        "1baadfd58bb9482d9fc03f1f8978e8f7": {
          "model_module": "@jupyter-widgets/controls",
          "model_name": "HTMLModel",
          "model_module_version": "1.5.0",
          "state": {
            "_dom_classes": [],
            "_model_module": "@jupyter-widgets/controls",
            "_model_module_version": "1.5.0",
            "_model_name": "HTMLModel",
            "_view_count": null,
            "_view_module": "@jupyter-widgets/controls",
            "_view_module_version": "1.5.0",
            "_view_name": "HTMLView",
            "description": "",
            "description_tooltip": null,
            "layout": "IPY_MODEL_877c7f54dbd9433f861914081dd75557",
            "placeholder": "​",
            "style": "IPY_MODEL_ad27c20634e146e2b9e0acfda813d3f2",
            "value": "100%"
          }
        },
        "bb0a40090b604c96be757487f8b823f8": {
          "model_module": "@jupyter-widgets/controls",
          "model_name": "FloatProgressModel",
          "model_module_version": "1.5.0",
          "state": {
            "_dom_classes": [],
            "_model_module": "@jupyter-widgets/controls",
            "_model_module_version": "1.5.0",
            "_model_name": "FloatProgressModel",
            "_view_count": null,
            "_view_module": "@jupyter-widgets/controls",
            "_view_module_version": "1.5.0",
            "_view_name": "ProgressView",
            "bar_style": "success",
            "description": "",
            "description_tooltip": null,
            "layout": "IPY_MODEL_d46c4164559f4ca5a49fc22a8f7d9039",
            "max": 10000,
            "min": 0,
            "orientation": "horizontal",
            "style": "IPY_MODEL_ba3f7722cc5745f3940b5cc19c4bd444",
            "value": 10000
          }
        },
        "584d191404c74a1c9a70ee2c587c90c0": {
          "model_module": "@jupyter-widgets/controls",
          "model_name": "HTMLModel",
          "model_module_version": "1.5.0",
          "state": {
            "_dom_classes": [],
            "_model_module": "@jupyter-widgets/controls",
            "_model_module_version": "1.5.0",
            "_model_name": "HTMLModel",
            "_view_count": null,
            "_view_module": "@jupyter-widgets/controls",
            "_view_module_version": "1.5.0",
            "_view_name": "HTMLView",
            "description": "",
            "description_tooltip": null,
            "layout": "IPY_MODEL_90841401f5f74c6686a1516ff9998e91",
            "placeholder": "​",
            "style": "IPY_MODEL_dc43c1219a7b423a800498ca57aca72b",
            "value": " 10000/10000 [00:02&lt;00:00, 3797.90it/s]"
          }
        },
        "b83db9eb4d2340f9863ce02ece7160d3": {
          "model_module": "@jupyter-widgets/base",
          "model_name": "LayoutModel",
          "model_module_version": "1.2.0",
          "state": {
            "_model_module": "@jupyter-widgets/base",
            "_model_module_version": "1.2.0",
            "_model_name": "LayoutModel",
            "_view_count": null,
            "_view_module": "@jupyter-widgets/base",
            "_view_module_version": "1.2.0",
            "_view_name": "LayoutView",
            "align_content": null,
            "align_items": null,
            "align_self": null,
            "border": null,
            "bottom": null,
            "display": null,
            "flex": null,
            "flex_flow": null,
            "grid_area": null,
            "grid_auto_columns": null,
            "grid_auto_flow": null,
            "grid_auto_rows": null,
            "grid_column": null,
            "grid_gap": null,
            "grid_row": null,
            "grid_template_areas": null,
            "grid_template_columns": null,
            "grid_template_rows": null,
            "height": null,
            "justify_content": null,
            "justify_items": null,
            "left": null,
            "margin": null,
            "max_height": null,
            "max_width": null,
            "min_height": null,
            "min_width": null,
            "object_fit": null,
            "object_position": null,
            "order": null,
            "overflow": null,
            "overflow_x": null,
            "overflow_y": null,
            "padding": null,
            "right": null,
            "top": null,
            "visibility": null,
            "width": null
          }
        },
        "877c7f54dbd9433f861914081dd75557": {
          "model_module": "@jupyter-widgets/base",
          "model_name": "LayoutModel",
          "model_module_version": "1.2.0",
          "state": {
            "_model_module": "@jupyter-widgets/base",
            "_model_module_version": "1.2.0",
            "_model_name": "LayoutModel",
            "_view_count": null,
            "_view_module": "@jupyter-widgets/base",
            "_view_module_version": "1.2.0",
            "_view_name": "LayoutView",
            "align_content": null,
            "align_items": null,
            "align_self": null,
            "border": null,
            "bottom": null,
            "display": null,
            "flex": null,
            "flex_flow": null,
            "grid_area": null,
            "grid_auto_columns": null,
            "grid_auto_flow": null,
            "grid_auto_rows": null,
            "grid_column": null,
            "grid_gap": null,
            "grid_row": null,
            "grid_template_areas": null,
            "grid_template_columns": null,
            "grid_template_rows": null,
            "height": null,
            "justify_content": null,
            "justify_items": null,
            "left": null,
            "margin": null,
            "max_height": null,
            "max_width": null,
            "min_height": null,
            "min_width": null,
            "object_fit": null,
            "object_position": null,
            "order": null,
            "overflow": null,
            "overflow_x": null,
            "overflow_y": null,
            "padding": null,
            "right": null,
            "top": null,
            "visibility": null,
            "width": null
          }
        },
        "ad27c20634e146e2b9e0acfda813d3f2": {
          "model_module": "@jupyter-widgets/controls",
          "model_name": "DescriptionStyleModel",
          "model_module_version": "1.5.0",
          "state": {
            "_model_module": "@jupyter-widgets/controls",
            "_model_module_version": "1.5.0",
            "_model_name": "DescriptionStyleModel",
            "_view_count": null,
            "_view_module": "@jupyter-widgets/base",
            "_view_module_version": "1.2.0",
            "_view_name": "StyleView",
            "description_width": ""
          }
        },
        "d46c4164559f4ca5a49fc22a8f7d9039": {
          "model_module": "@jupyter-widgets/base",
          "model_name": "LayoutModel",
          "model_module_version": "1.2.0",
          "state": {
            "_model_module": "@jupyter-widgets/base",
            "_model_module_version": "1.2.0",
            "_model_name": "LayoutModel",
            "_view_count": null,
            "_view_module": "@jupyter-widgets/base",
            "_view_module_version": "1.2.0",
            "_view_name": "LayoutView",
            "align_content": null,
            "align_items": null,
            "align_self": null,
            "border": null,
            "bottom": null,
            "display": null,
            "flex": null,
            "flex_flow": null,
            "grid_area": null,
            "grid_auto_columns": null,
            "grid_auto_flow": null,
            "grid_auto_rows": null,
            "grid_column": null,
            "grid_gap": null,
            "grid_row": null,
            "grid_template_areas": null,
            "grid_template_columns": null,
            "grid_template_rows": null,
            "height": null,
            "justify_content": null,
            "justify_items": null,
            "left": null,
            "margin": null,
            "max_height": null,
            "max_width": null,
            "min_height": null,
            "min_width": null,
            "object_fit": null,
            "object_position": null,
            "order": null,
            "overflow": null,
            "overflow_x": null,
            "overflow_y": null,
            "padding": null,
            "right": null,
            "top": null,
            "visibility": null,
            "width": null
          }
        },
        "ba3f7722cc5745f3940b5cc19c4bd444": {
          "model_module": "@jupyter-widgets/controls",
          "model_name": "ProgressStyleModel",
          "model_module_version": "1.5.0",
          "state": {
            "_model_module": "@jupyter-widgets/controls",
            "_model_module_version": "1.5.0",
            "_model_name": "ProgressStyleModel",
            "_view_count": null,
            "_view_module": "@jupyter-widgets/base",
            "_view_module_version": "1.2.0",
            "_view_name": "StyleView",
            "bar_color": null,
            "description_width": ""
          }
        },
        "90841401f5f74c6686a1516ff9998e91": {
          "model_module": "@jupyter-widgets/base",
          "model_name": "LayoutModel",
          "model_module_version": "1.2.0",
          "state": {
            "_model_module": "@jupyter-widgets/base",
            "_model_module_version": "1.2.0",
            "_model_name": "LayoutModel",
            "_view_count": null,
            "_view_module": "@jupyter-widgets/base",
            "_view_module_version": "1.2.0",
            "_view_name": "LayoutView",
            "align_content": null,
            "align_items": null,
            "align_self": null,
            "border": null,
            "bottom": null,
            "display": null,
            "flex": null,
            "flex_flow": null,
            "grid_area": null,
            "grid_auto_columns": null,
            "grid_auto_flow": null,
            "grid_auto_rows": null,
            "grid_column": null,
            "grid_gap": null,
            "grid_row": null,
            "grid_template_areas": null,
            "grid_template_columns": null,
            "grid_template_rows": null,
            "height": null,
            "justify_content": null,
            "justify_items": null,
            "left": null,
            "margin": null,
            "max_height": null,
            "max_width": null,
            "min_height": null,
            "min_width": null,
            "object_fit": null,
            "object_position": null,
            "order": null,
            "overflow": null,
            "overflow_x": null,
            "overflow_y": null,
            "padding": null,
            "right": null,
            "top": null,
            "visibility": null,
            "width": null
          }
        },
        "dc43c1219a7b423a800498ca57aca72b": {
          "model_module": "@jupyter-widgets/controls",
          "model_name": "DescriptionStyleModel",
          "model_module_version": "1.5.0",
          "state": {
            "_model_module": "@jupyter-widgets/controls",
            "_model_module_version": "1.5.0",
            "_model_name": "DescriptionStyleModel",
            "_view_count": null,
            "_view_module": "@jupyter-widgets/base",
            "_view_module_version": "1.2.0",
            "_view_name": "StyleView",
            "description_width": ""
          }
        }
      }
    }
  },
  "nbformat": 4,
  "nbformat_minor": 0
}