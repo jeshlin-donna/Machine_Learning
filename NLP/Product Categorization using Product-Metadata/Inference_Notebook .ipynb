{
  "nbformat": 4,
  "nbformat_minor": 5,
  "metadata": {
    "kernelspec": {
      "display_name": "Python 3",
      "language": "python",
      "name": "python3"
    },
    "language_info": {
      "codemirror_mode": {
        "name": "ipython",
        "version": 3
      },
      "file_extension": ".py",
      "mimetype": "text/x-python",
      "name": "python",
      "nbconvert_exporter": "python",
      "pygments_lexer": "ipython3",
      "version": "3.8.10"
    },
    "toc": {
      "base_numbering": 1,
      "nav_menu": {},
      "number_sections": true,
      "sideBar": true,
      "skip_h1_title": false,
      "title_cell": "Table of Contents",
      "title_sidebar": "Contents",
      "toc_cell": false,
      "toc_position": {},
      "toc_section_display": true,
      "toc_window_display": false
    },
    "varInspector": {
      "cols": {
        "lenName": 16,
        "lenType": 16,
        "lenVar": 40
      },
      "kernels_config": {
        "python": {
          "delete_cmd_postfix": "",
          "delete_cmd_prefix": "del ",
          "library": "var_list.py",
          "varRefreshCmd": "print(var_dic_list())"
        },
        "r": {
          "delete_cmd_postfix": ") ",
          "delete_cmd_prefix": "rm(",
          "library": "var_list.r",
          "varRefreshCmd": "cat(var_dic_list()) "
        }
      },
      "types_to_exclude": [
        "module",
        "function",
        "builtin_function_or_method",
        "instance",
        "_Feature"
      ],
      "window_display": false
    },
    "colab": {
      "name": "Inference Notebook_MM20B029.ipynb",
      "provenance": [],
      "collapsed_sections": []
    },
    "accelerator": "GPU"
  },
  "cells": [
    {
      "cell_type": "code",
      "metadata": {
        "ExecuteTime": {
          "end_time": "2021-11-08T05:00:37.379865Z",
          "start_time": "2021-11-08T05:00:37.373668Z"
        },
        "id": "municipal-parcel",
        "colab": {
          "base_uri": "https://localhost:8080/"
        },
        "outputId": "4ef7838b-4bd7-445f-d341-baf5ff49f566"
      },
      "source": [
        "# import required libraries\n",
        "import pandas as pd\n",
        "import pickle\n",
        "import nltk\n",
        "nltk.download('stopwords')\n",
        "from nltk.corpus import stopwords\n",
        "import re\n",
        "from bs4 import BeautifulSoup\n",
        "from nltk.stem.porter import PorterStemmer\n",
        "\n",
        "#required function definitions\n",
        "\n",
        "stemmer = PorterStemmer()\n",
        "\n",
        "def stem_words(text):\n",
        "   return \" \".join([stemmer.stem(word) for word in text.split()])\n",
        "\n",
        "STOPWORDS = set(stopwords.words('english'))\n",
        "\n",
        "def clean_text(text):\n",
        "    text = BeautifulSoup(text, \"lxml\").text # HTML decoding\n",
        "    text = text.lower() # lowercase text\n",
        "    text = ' '.join(word for word in text.split() if word not in STOPWORDS) # delete stopwords from text\n",
        "    return text"
      ],
      "id": "municipal-parcel",
      "execution_count": null,
      "outputs": [
        {
          "output_type": "stream",
          "name": "stdout",
          "text": [
            "[nltk_data] Downloading package stopwords to /root/nltk_data...\n",
            "[nltk_data]   Unzipping corpora/stopwords.zip.\n"
          ]
        }
      ]
    },
    {
      "cell_type": "code",
      "metadata": {
        "ExecuteTime": {
          "end_time": "2021-11-08T05:00:49.945209Z",
          "start_time": "2021-11-08T05:00:49.938733Z"
        },
        "id": "higher-consensus",
        "colab": {
          "base_uri": "https://localhost:8080/"
        },
        "outputId": "d259a488-1cc6-46e2-8860-52af20c9a470"
      },
      "source": [
        "# Load the test data\n",
        "!gdown --id 1F-7nLUlorJJxDUr0Ua_wNdQPRlkN5dLe\n",
        "test_df=pd.read_csv('/content/test data (pre-inter iit).csv')\n",
        "\n",
        "# Load the trained model\n",
        "!gdown --id 19E4etZq_D1S_HlfQzNssp3zaO86eicrx\n",
        "!gdown --id 1gPdyTpgI6PXx-mIJ-kCXUkdWvBjORVhU\n",
        "clf = pickle.load(open('/content/finalized_model.sav', 'rb'))\n",
        "cv = pickle.load(open('/content/TfidfVectorizer.sav', 'rb'))"
      ],
      "id": "higher-consensus",
      "execution_count": null,
      "outputs": [
        {
          "output_type": "stream",
          "name": "stdout",
          "text": [
            "Downloading...\n",
            "From: https://drive.google.com/uc?id=1F-7nLUlorJJxDUr0Ua_wNdQPRlkN5dLe\n",
            "To: /content/test data (pre-inter iit).csv\n",
            "100% 7.67M/7.67M [00:00<00:00, 29.0MB/s]\n",
            "Downloading...\n",
            "From: https://drive.google.com/uc?id=19E4etZq_D1S_HlfQzNssp3zaO86eicrx\n",
            "To: /content/finalized_model.sav\n",
            "100% 309M/309M [00:07<00:00, 42.1MB/s]\n",
            "Downloading...\n",
            "From: https://drive.google.com/uc?id=1gPdyTpgI6PXx-mIJ-kCXUkdWvBjORVhU\n",
            "To: /content/TfidfVectorizer.sav\n",
            "100% 5.49M/5.49M [00:00<00:00, 20.8MB/s]\n"
          ]
        }
      ]
    },
    {
      "cell_type": "code",
      "metadata": {
        "id": "l3yxqlf-anUS"
      },
      "source": [
        "%%time\n",
        "\n",
        "test_df['X'] = test_df['title']+' '+test_df['title']+' '+test_df['content']\n",
        "test_df['X'] = test_df['X'].apply(clean_text)\n",
        "test_df['title'].replace( { r'[^a-z ]' : '' }, inplace= True, regex = True)\n",
        "\n",
        "X_test = test_df[\"X\"].apply(lambda text: stem_words(text))\n",
        "\n",
        "X_test_cv = cv.transform(X_test)\n",
        "\n",
        "preds=clf.predict(X_test_cv)"
      ],
      "id": "l3yxqlf-anUS",
      "execution_count": null,
      "outputs": []
    },
    {
      "cell_type": "markdown",
      "metadata": {
        "id": "e-opkUyzae5B"
      },
      "source": [
        "**NOTE:**\n",
        "*   Time of inferance when GPU is used: 22.5secs\n",
        "*   Time of inferance when CPU is used: 23.2 secs"
      ],
      "id": "e-opkUyzae5B"
    },
    {
      "cell_type": "code",
      "metadata": {
        "ExecuteTime": {
          "end_time": "2021-11-08T05:03:23.210476Z",
          "start_time": "2021-11-08T05:03:23.205309Z"
        },
        "id": "fossil-crash"
      },
      "source": [
        "# Save Submission File\n",
        "test_df.drop('title',axis=1,inplace=True)\n",
        "test_df.drop('content',axis=1,inplace=True)\n",
        "test_df.drop('X',axis=1,inplace=True)\n",
        "test_df['target_ind']=preds\n",
        "test_df.to_csv('submission.csv',index=False)"
      ],
      "id": "fossil-crash",
      "execution_count": null,
      "outputs": []
    }
  ]
}