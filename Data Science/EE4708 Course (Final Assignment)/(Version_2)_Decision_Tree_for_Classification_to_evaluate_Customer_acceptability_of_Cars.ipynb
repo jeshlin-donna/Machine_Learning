{
  "nbformat": 4,
  "nbformat_minor": 0,
  "metadata": {
    "colab": {
      "name": "(Version 2) Decision Tree for Classification to evaluate Customer acceptability of Cars",
      "provenance": [],
      "collapsed_sections": [
        "vWNlKrdFeuLA",
        "k_DcWg1xmaNC"
      ]
    },
    "kernelspec": {
      "name": "python3",
      "display_name": "Python 3"
    },
    "language_info": {
      "name": "python"
    }
  },
  "cells": [
    {
      "cell_type": "markdown",
      "metadata": {
        "id": "WqZRBE9VcdWa"
      },
      "source": [
        "#**Decision Tree for Classification to evaluate Customer acceptability of Cars**\n",
        "\n",
        "**Dataset:** This Car evaluation dataset is taken from UCI Machine learning repository derived from simple hierarchical decision model.\n",
        "\n",
        "**Task:** The key task is to evaluate Customer acceptability of Cars. The file car_evaluation.csv contains the dataset required to solve the task.\n",
        "\n",
        "**Input Variables:**\n",
        "\n",
        "* Buying price (vhigh, high, med, low)\n",
        "* Price of the maintenance (vhigh, high, med, low)\n",
        "* Number of doors (2, 3, 4, 5more)\n",
        "* Persons capacity in terms of persons to carry (2, 4, more)\n",
        "* Size of luggage boot (small, med, big)\n",
        "* Estimated safety of the car (low, med, high)\n",
        "\n",
        "**Output Variable:**\n",
        "* Car acceptability (unacc, acc, good, vgood)\n"
      ]
    },
    {
      "cell_type": "code",
      "metadata": {
        "id": "JwRcMhhycVQg"
      },
      "source": [
        "#importing the basic required libraries\n",
        "import numpy as np\n",
        "import pandas as pd"
      ],
      "execution_count": 1,
      "outputs": []
    },
    {
      "cell_type": "markdown",
      "metadata": {
        "id": "gwxeK9rFdKas"
      },
      "source": [
        "##**Reading data from the given data format(csv file):**"
      ]
    },
    {
      "cell_type": "code",
      "metadata": {
        "colab": {
          "resources": {
            "http://localhost:8080/nbextensions/google.colab/files.js": {
              "data": "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",
              "ok": true,
              "headers": [
                [
                  "content-type",
                  "application/javascript"
                ]
              ],
              "status": 200,
              "status_text": ""
            }
          },
          "base_uri": "https://localhost:8080/",
          "height": 56
        },
        "id": "Vrv7dFXMdQdV",
        "outputId": "148d77d5-e87f-4bf3-bf07-c9b3501c66f3"
      },
      "source": [
        "from google.colab import files \n",
        "uploaded= files.upload() #uploading the files"
      ],
      "execution_count": 2,
      "outputs": [
        {
          "output_type": "display_data",
          "data": {
            "text/html": [
              "\n",
              "     <input type=\"file\" id=\"files-f037f661-46d0-4e69-97e4-f422b4358023\" name=\"files[]\" multiple disabled\n",
              "        style=\"border:none\" />\n",
              "     <output id=\"result-f037f661-46d0-4e69-97e4-f422b4358023\">\n",
              "      Upload widget is only available when the cell has been executed in the\n",
              "      current browser session. Please rerun this cell to enable.\n",
              "      </output>\n",
              "      <script src=\"/nbextensions/google.colab/files.js\"></script> "
            ],
            "text/plain": [
              "<IPython.core.display.HTML object>"
            ]
          },
          "metadata": {}
        },
        {
          "output_type": "stream",
          "name": "stdout",
          "text": [
            "Saving car_evaluation.csv to car_evaluation.csv\n"
          ]
        }
      ]
    },
    {
      "cell_type": "code",
      "metadata": {
        "id": "pfjxaJdddZ18"
      },
      "source": [
        "import io\n",
        "#creating dataframes from the csv file\n",
        "df=pd.read_csv(io.BytesIO(uploaded['car_evaluation.csv']),header=None) "
      ],
      "execution_count": 3,
      "outputs": []
    },
    {
      "cell_type": "code",
      "metadata": {
        "colab": {
          "base_uri": "https://localhost:8080/",
          "height": 423
        },
        "id": "TPlXyaGBPypH",
        "outputId": "95995546-7bf2-4380-e13f-debc7899b14c"
      },
      "source": [
        "df"
      ],
      "execution_count": 4,
      "outputs": [
        {
          "output_type": "execute_result",
          "data": {
            "text/html": [
              "<div>\n",
              "<style scoped>\n",
              "    .dataframe tbody tr th:only-of-type {\n",
              "        vertical-align: middle;\n",
              "    }\n",
              "\n",
              "    .dataframe tbody tr th {\n",
              "        vertical-align: top;\n",
              "    }\n",
              "\n",
              "    .dataframe thead th {\n",
              "        text-align: right;\n",
              "    }\n",
              "</style>\n",
              "<table border=\"1\" class=\"dataframe\">\n",
              "  <thead>\n",
              "    <tr style=\"text-align: right;\">\n",
              "      <th></th>\n",
              "      <th>0</th>\n",
              "      <th>1</th>\n",
              "      <th>2</th>\n",
              "      <th>3</th>\n",
              "      <th>4</th>\n",
              "      <th>5</th>\n",
              "      <th>6</th>\n",
              "    </tr>\n",
              "  </thead>\n",
              "  <tbody>\n",
              "    <tr>\n",
              "      <th>0</th>\n",
              "      <td>vhigh</td>\n",
              "      <td>vhigh</td>\n",
              "      <td>2</td>\n",
              "      <td>2</td>\n",
              "      <td>small</td>\n",
              "      <td>low</td>\n",
              "      <td>unacc</td>\n",
              "    </tr>\n",
              "    <tr>\n",
              "      <th>1</th>\n",
              "      <td>vhigh</td>\n",
              "      <td>vhigh</td>\n",
              "      <td>2</td>\n",
              "      <td>2</td>\n",
              "      <td>small</td>\n",
              "      <td>med</td>\n",
              "      <td>unacc</td>\n",
              "    </tr>\n",
              "    <tr>\n",
              "      <th>2</th>\n",
              "      <td>vhigh</td>\n",
              "      <td>vhigh</td>\n",
              "      <td>2</td>\n",
              "      <td>2</td>\n",
              "      <td>small</td>\n",
              "      <td>high</td>\n",
              "      <td>unacc</td>\n",
              "    </tr>\n",
              "    <tr>\n",
              "      <th>3</th>\n",
              "      <td>vhigh</td>\n",
              "      <td>vhigh</td>\n",
              "      <td>2</td>\n",
              "      <td>2</td>\n",
              "      <td>med</td>\n",
              "      <td>low</td>\n",
              "      <td>unacc</td>\n",
              "    </tr>\n",
              "    <tr>\n",
              "      <th>4</th>\n",
              "      <td>vhigh</td>\n",
              "      <td>vhigh</td>\n",
              "      <td>2</td>\n",
              "      <td>2</td>\n",
              "      <td>med</td>\n",
              "      <td>med</td>\n",
              "      <td>unacc</td>\n",
              "    </tr>\n",
              "    <tr>\n",
              "      <th>...</th>\n",
              "      <td>...</td>\n",
              "      <td>...</td>\n",
              "      <td>...</td>\n",
              "      <td>...</td>\n",
              "      <td>...</td>\n",
              "      <td>...</td>\n",
              "      <td>...</td>\n",
              "    </tr>\n",
              "    <tr>\n",
              "      <th>1723</th>\n",
              "      <td>low</td>\n",
              "      <td>low</td>\n",
              "      <td>5more</td>\n",
              "      <td>more</td>\n",
              "      <td>med</td>\n",
              "      <td>med</td>\n",
              "      <td>good</td>\n",
              "    </tr>\n",
              "    <tr>\n",
              "      <th>1724</th>\n",
              "      <td>low</td>\n",
              "      <td>low</td>\n",
              "      <td>5more</td>\n",
              "      <td>more</td>\n",
              "      <td>med</td>\n",
              "      <td>high</td>\n",
              "      <td>vgood</td>\n",
              "    </tr>\n",
              "    <tr>\n",
              "      <th>1725</th>\n",
              "      <td>low</td>\n",
              "      <td>low</td>\n",
              "      <td>5more</td>\n",
              "      <td>more</td>\n",
              "      <td>big</td>\n",
              "      <td>low</td>\n",
              "      <td>unacc</td>\n",
              "    </tr>\n",
              "    <tr>\n",
              "      <th>1726</th>\n",
              "      <td>low</td>\n",
              "      <td>low</td>\n",
              "      <td>5more</td>\n",
              "      <td>more</td>\n",
              "      <td>big</td>\n",
              "      <td>med</td>\n",
              "      <td>good</td>\n",
              "    </tr>\n",
              "    <tr>\n",
              "      <th>1727</th>\n",
              "      <td>low</td>\n",
              "      <td>low</td>\n",
              "      <td>5more</td>\n",
              "      <td>more</td>\n",
              "      <td>big</td>\n",
              "      <td>high</td>\n",
              "      <td>vgood</td>\n",
              "    </tr>\n",
              "  </tbody>\n",
              "</table>\n",
              "<p>1728 rows × 7 columns</p>\n",
              "</div>"
            ],
            "text/plain": [
              "          0      1      2     3      4     5      6\n",
              "0     vhigh  vhigh      2     2  small   low  unacc\n",
              "1     vhigh  vhigh      2     2  small   med  unacc\n",
              "2     vhigh  vhigh      2     2  small  high  unacc\n",
              "3     vhigh  vhigh      2     2    med   low  unacc\n",
              "4     vhigh  vhigh      2     2    med   med  unacc\n",
              "...     ...    ...    ...   ...    ...   ...    ...\n",
              "1723    low    low  5more  more    med   med   good\n",
              "1724    low    low  5more  more    med  high  vgood\n",
              "1725    low    low  5more  more    big   low  unacc\n",
              "1726    low    low  5more  more    big   med   good\n",
              "1727    low    low  5more  more    big  high  vgood\n",
              "\n",
              "[1728 rows x 7 columns]"
            ]
          },
          "metadata": {},
          "execution_count": 4
        }
      ]
    },
    {
      "cell_type": "markdown",
      "metadata": {
        "id": "VV1wzEWseU_B"
      },
      "source": [
        "##**Cleaning and Preparing the Data:**"
      ]
    },
    {
      "cell_type": "markdown",
      "metadata": {
        "id": "GEv9iGlRlo0l"
      },
      "source": [
        "###**Renaming the columns/variables  with meaningful column/variable names:**"
      ]
    },
    {
      "cell_type": "code",
      "metadata": {
        "colab": {
          "base_uri": "https://localhost:8080/"
        },
        "id": "zC3p3WPTeMip",
        "outputId": "b6e6e1f8-703d-480d-a0c6-b19d73d9e559"
      },
      "source": [
        "df.columns"
      ],
      "execution_count": 5,
      "outputs": [
        {
          "output_type": "execute_result",
          "data": {
            "text/plain": [
              "Int64Index([0, 1, 2, 3, 4, 5, 6], dtype='int64')"
            ]
          },
          "metadata": {},
          "execution_count": 5
        }
      ]
    },
    {
      "cell_type": "code",
      "metadata": {
        "id": "cIsWZFBD-y7K"
      },
      "source": [
        "df.rename(columns={0:\"Buying price\"},inplace=True)\n",
        "df.rename(columns={1:\"Price of the maintenance\"},inplace=True) \n",
        "df.rename(columns={2:\"Number of doors\"},inplace=True)\n",
        "df.rename(columns={3:\"Capacity\"},inplace=True)\n",
        "df.rename(columns={4:\"The size of luggage boot\"},inplace=True)\n",
        "df.rename(columns={5:\"Estimated safety of the car\"},inplace=True)\n",
        "df.rename(columns={6:\"Customer Acceptability\"},inplace=True)"
      ],
      "execution_count": 6,
      "outputs": []
    },
    {
      "cell_type": "code",
      "metadata": {
        "colab": {
          "base_uri": "https://localhost:8080/",
          "height": 206
        },
        "id": "XZ9TI7AERUIV",
        "outputId": "b8009084-8f6b-48c4-8963-276bf804a199"
      },
      "source": [
        "df.head()"
      ],
      "execution_count": 7,
      "outputs": [
        {
          "output_type": "execute_result",
          "data": {
            "text/html": [
              "<div>\n",
              "<style scoped>\n",
              "    .dataframe tbody tr th:only-of-type {\n",
              "        vertical-align: middle;\n",
              "    }\n",
              "\n",
              "    .dataframe tbody tr th {\n",
              "        vertical-align: top;\n",
              "    }\n",
              "\n",
              "    .dataframe thead th {\n",
              "        text-align: right;\n",
              "    }\n",
              "</style>\n",
              "<table border=\"1\" class=\"dataframe\">\n",
              "  <thead>\n",
              "    <tr style=\"text-align: right;\">\n",
              "      <th></th>\n",
              "      <th>Buying price</th>\n",
              "      <th>Price of the maintenance</th>\n",
              "      <th>Number of doors</th>\n",
              "      <th>Capacity</th>\n",
              "      <th>The size of luggage boot</th>\n",
              "      <th>Estimated safety of the car</th>\n",
              "      <th>Customer Acceptability</th>\n",
              "    </tr>\n",
              "  </thead>\n",
              "  <tbody>\n",
              "    <tr>\n",
              "      <th>0</th>\n",
              "      <td>vhigh</td>\n",
              "      <td>vhigh</td>\n",
              "      <td>2</td>\n",
              "      <td>2</td>\n",
              "      <td>small</td>\n",
              "      <td>low</td>\n",
              "      <td>unacc</td>\n",
              "    </tr>\n",
              "    <tr>\n",
              "      <th>1</th>\n",
              "      <td>vhigh</td>\n",
              "      <td>vhigh</td>\n",
              "      <td>2</td>\n",
              "      <td>2</td>\n",
              "      <td>small</td>\n",
              "      <td>med</td>\n",
              "      <td>unacc</td>\n",
              "    </tr>\n",
              "    <tr>\n",
              "      <th>2</th>\n",
              "      <td>vhigh</td>\n",
              "      <td>vhigh</td>\n",
              "      <td>2</td>\n",
              "      <td>2</td>\n",
              "      <td>small</td>\n",
              "      <td>high</td>\n",
              "      <td>unacc</td>\n",
              "    </tr>\n",
              "    <tr>\n",
              "      <th>3</th>\n",
              "      <td>vhigh</td>\n",
              "      <td>vhigh</td>\n",
              "      <td>2</td>\n",
              "      <td>2</td>\n",
              "      <td>med</td>\n",
              "      <td>low</td>\n",
              "      <td>unacc</td>\n",
              "    </tr>\n",
              "    <tr>\n",
              "      <th>4</th>\n",
              "      <td>vhigh</td>\n",
              "      <td>vhigh</td>\n",
              "      <td>2</td>\n",
              "      <td>2</td>\n",
              "      <td>med</td>\n",
              "      <td>med</td>\n",
              "      <td>unacc</td>\n",
              "    </tr>\n",
              "  </tbody>\n",
              "</table>\n",
              "</div>"
            ],
            "text/plain": [
              "  Buying price  ... Customer Acceptability\n",
              "0        vhigh  ...                  unacc\n",
              "1        vhigh  ...                  unacc\n",
              "2        vhigh  ...                  unacc\n",
              "3        vhigh  ...                  unacc\n",
              "4        vhigh  ...                  unacc\n",
              "\n",
              "[5 rows x 7 columns]"
            ]
          },
          "metadata": {},
          "execution_count": 7
        }
      ]
    },
    {
      "cell_type": "code",
      "metadata": {
        "colab": {
          "base_uri": "https://localhost:8080/"
        },
        "id": "gUC68RumRfr-",
        "outputId": "3fc40da3-bb7b-4155-ef47-c28304d85091"
      },
      "source": [
        "df.info()"
      ],
      "execution_count": 8,
      "outputs": [
        {
          "output_type": "stream",
          "name": "stdout",
          "text": [
            "<class 'pandas.core.frame.DataFrame'>\n",
            "RangeIndex: 1728 entries, 0 to 1727\n",
            "Data columns (total 7 columns):\n",
            " #   Column                       Non-Null Count  Dtype \n",
            "---  ------                       --------------  ----- \n",
            " 0   Buying price                 1728 non-null   object\n",
            " 1   Price of the maintenance     1728 non-null   object\n",
            " 2   Number of doors              1728 non-null   object\n",
            " 3   Capacity                     1728 non-null   object\n",
            " 4   The size of luggage boot     1728 non-null   object\n",
            " 5   Estimated safety of the car  1728 non-null   object\n",
            " 6   Customer Acceptability       1728 non-null   object\n",
            "dtypes: object(7)\n",
            "memory usage: 94.6+ KB\n"
          ]
        }
      ]
    },
    {
      "cell_type": "markdown",
      "metadata": {
        "id": "wefOF3AHS9xp"
      },
      "source": [
        "All the variables are found to be of object type and are categorical."
      ]
    },
    {
      "cell_type": "code",
      "metadata": {
        "colab": {
          "base_uri": "https://localhost:8080/",
          "height": 174
        },
        "id": "c-xt18wDRg5m",
        "outputId": "32264a7e-8b10-4d15-d22c-761240cb1ce1"
      },
      "source": [
        "df.describe()"
      ],
      "execution_count": 9,
      "outputs": [
        {
          "output_type": "execute_result",
          "data": {
            "text/html": [
              "<div>\n",
              "<style scoped>\n",
              "    .dataframe tbody tr th:only-of-type {\n",
              "        vertical-align: middle;\n",
              "    }\n",
              "\n",
              "    .dataframe tbody tr th {\n",
              "        vertical-align: top;\n",
              "    }\n",
              "\n",
              "    .dataframe thead th {\n",
              "        text-align: right;\n",
              "    }\n",
              "</style>\n",
              "<table border=\"1\" class=\"dataframe\">\n",
              "  <thead>\n",
              "    <tr style=\"text-align: right;\">\n",
              "      <th></th>\n",
              "      <th>Buying price</th>\n",
              "      <th>Price of the maintenance</th>\n",
              "      <th>Number of doors</th>\n",
              "      <th>Capacity</th>\n",
              "      <th>The size of luggage boot</th>\n",
              "      <th>Estimated safety of the car</th>\n",
              "      <th>Customer Acceptability</th>\n",
              "    </tr>\n",
              "  </thead>\n",
              "  <tbody>\n",
              "    <tr>\n",
              "      <th>count</th>\n",
              "      <td>1728</td>\n",
              "      <td>1728</td>\n",
              "      <td>1728</td>\n",
              "      <td>1728</td>\n",
              "      <td>1728</td>\n",
              "      <td>1728</td>\n",
              "      <td>1728</td>\n",
              "    </tr>\n",
              "    <tr>\n",
              "      <th>unique</th>\n",
              "      <td>4</td>\n",
              "      <td>4</td>\n",
              "      <td>4</td>\n",
              "      <td>3</td>\n",
              "      <td>3</td>\n",
              "      <td>3</td>\n",
              "      <td>4</td>\n",
              "    </tr>\n",
              "    <tr>\n",
              "      <th>top</th>\n",
              "      <td>med</td>\n",
              "      <td>med</td>\n",
              "      <td>2</td>\n",
              "      <td>more</td>\n",
              "      <td>med</td>\n",
              "      <td>med</td>\n",
              "      <td>unacc</td>\n",
              "    </tr>\n",
              "    <tr>\n",
              "      <th>freq</th>\n",
              "      <td>432</td>\n",
              "      <td>432</td>\n",
              "      <td>432</td>\n",
              "      <td>576</td>\n",
              "      <td>576</td>\n",
              "      <td>576</td>\n",
              "      <td>1210</td>\n",
              "    </tr>\n",
              "  </tbody>\n",
              "</table>\n",
              "</div>"
            ],
            "text/plain": [
              "       Buying price  ... Customer Acceptability\n",
              "count          1728  ...                   1728\n",
              "unique            4  ...                      4\n",
              "top             med  ...                  unacc\n",
              "freq            432  ...                   1210\n",
              "\n",
              "[4 rows x 7 columns]"
            ]
          },
          "metadata": {},
          "execution_count": 9
        }
      ]
    },
    {
      "cell_type": "markdown",
      "metadata": {
        "id": "kUS7REqRlKLc"
      },
      "source": [
        "###**Checking for Missing values in the data:**"
      ]
    },
    {
      "cell_type": "code",
      "metadata": {
        "colab": {
          "base_uri": "https://localhost:8080/",
          "height": 744
        },
        "id": "scq6TxtyeYdt",
        "outputId": "18e8702f-890b-46a1-eb06-14a32fd4fe4d"
      },
      "source": [
        "import missingno as msno \n",
        "msno.matrix(df) #visualizing the missing data/NaN values in the dataframe"
      ],
      "execution_count": 10,
      "outputs": [
        {
          "output_type": "execute_result",
          "data": {
            "text/plain": [
              "<matplotlib.axes._subplots.AxesSubplot at 0x7fe440c9c3d0>"
            ]
          },
          "metadata": {},
          "execution_count": 10
        },
        {
          "output_type": "display_data",
          "data": {
            "image/png": "[encoded data removed]",
            "text/plain": [
              "<Figure size 1800x720 with 2 Axes>"
            ]
          },
          "metadata": {
            "needs_background": "light"
          }
        }
      ]
    },
    {
      "cell_type": "markdown",
      "metadata": {
        "id": "RhbSFLAFeg1r"
      },
      "source": [
        "**Inferance:**\n",
        "* There are no NaN/missing values in the data"
      ]
    },
    {
      "cell_type": "markdown",
      "metadata": {
        "id": "1_ZScjsTmFF8"
      },
      "source": [
        "##**Exploratory Data Analysis and Visualization:**"
      ]
    },
    {
      "cell_type": "code",
      "metadata": {
        "id": "x8JnpdsurVGt"
      },
      "source": [
        "#importing the libraries required for visualization\n",
        "import os\n",
        "import torch\n",
        "import torchvision\n",
        "from torch.utils.data import random_split\n",
        "import pandas as pd\n",
        "import matplotlib.pyplot as plt\n",
        "import seaborn as sns\n",
        "%matplotlib inline"
      ],
      "execution_count": 36,
      "outputs": []
    },
    {
      "cell_type": "markdown",
      "metadata": {
        "id": "oFIeTMqt6hqh"
      },
      "source": [
        "**Mapping the categorical 'Customer Acceptability' variable to numerical ordinal levels:**"
      ]
    },
    {
      "cell_type": "code",
      "metadata": {
        "colab": {
          "base_uri": "https://localhost:8080/"
        },
        "id": "6BXnqhMi6c5t",
        "outputId": "d91345de-4162-424c-bf4a-2eb693bf6579"
      },
      "source": [
        "df['Customer Acceptability'].unique()"
      ],
      "execution_count": 12,
      "outputs": [
        {
          "output_type": "execute_result",
          "data": {
            "text/plain": [
              "array(['unacc', 'acc', 'vgood', 'good'], dtype=object)"
            ]
          },
          "metadata": {},
          "execution_count": 12
        }
      ]
    },
    {
      "cell_type": "code",
      "metadata": {
        "id": "-PoesAhY52X7"
      },
      "source": [
        "df['Customer Acceptability'] = df['Customer Acceptability'].map({'unacc':0, 'acc':1, 'vgood':2, 'good':3})"
      ],
      "execution_count": 13,
      "outputs": []
    },
    {
      "cell_type": "markdown",
      "metadata": {
        "id": "7dU8z-nhLwlD"
      },
      "source": [
        "**Exploratory Data Analysis and Visualization:**"
      ]
    },
    {
      "cell_type": "code",
      "metadata": {
        "colab": {
          "base_uri": "https://localhost:8080/",
          "height": 314
        },
        "id": "21g-NTNZDzXC",
        "outputId": "a84e04f4-1fcb-41bd-d64e-164667aa8346"
      },
      "source": [
        "x=df[['Buying price', 'Customer Acceptability']].groupby('Buying price').mean()\n",
        "plt= x.plot(kind='bar')\n",
        "\n",
        "plt.set_xlabel('Buying price')\n",
        "plt.set_ylabel('Average Customer Acceptability level') "
      ],
      "execution_count": 14,
      "outputs": [
        {
          "output_type": "execute_result",
          "data": {
            "text/plain": [
              "Text(0, 0.5, 'Average Customer Acceptability level')"
            ]
          },
          "metadata": {},
          "execution_count": 14
        },
        {
          "output_type": "display_data",
          "data": {
            "image/png": "[encoded data removed]",
            "text/plain": [
              "<Figure size 432x288 with 1 Axes>"
            ]
          },
          "metadata": {
            "needs_background": "light"
          }
        }
      ]
    },
    {
      "cell_type": "markdown",
      "metadata": {
        "id": "j-ZIJelCpZhe"
      },
      "source": [
        "**Inferance:**\n",
        "* Lower the buying price, higher is the average customer acceptability level."
      ]
    },
    {
      "cell_type": "code",
      "metadata": {
        "colab": {
          "base_uri": "https://localhost:8080/",
          "height": 314
        },
        "id": "w8v4dtjidF7Z",
        "outputId": "d7657400-e15b-49dc-d25d-92b616e8f8ab"
      },
      "source": [
        "x=df[['Price of the maintenance', 'Customer Acceptability']].groupby('Price of the maintenance').mean()\n",
        "plt= x.plot(kind='bar')\n",
        "\n",
        "plt.set_xlabel('Price of the maintenance')\n",
        "plt.set_ylabel('Average Customer Acceptability level') "
      ],
      "execution_count": 15,
      "outputs": [
        {
          "output_type": "execute_result",
          "data": {
            "text/plain": [
              "Text(0, 0.5, 'Average Customer Acceptability level')"
            ]
          },
          "metadata": {},
          "execution_count": 15
        },
        {
          "output_type": "display_data",
          "data": {
            "image/png": "[encoded data removed]",
            "text/plain": [
              "<Figure size 432x288 with 1 Axes>"
            ]
          },
          "metadata": {
            "needs_background": "light"
          }
        }
      ]
    },
    {
      "cell_type": "markdown",
      "metadata": {
        "id": "18VsncTlrMrO"
      },
      "source": [
        "**Inferance:**\n",
        "* Lower the price of maintainance, higher is the average customer acceptability level."
      ]
    },
    {
      "cell_type": "code",
      "metadata": {
        "colab": {
          "base_uri": "https://localhost:8080/",
          "height": 318
        },
        "id": "_CTU7PLFJnoX",
        "outputId": "615f5510-1d5c-4b02-b2d3-6ec689e6bea3"
      },
      "source": [
        "x=df[['Number of doors', 'Customer Acceptability']].groupby('Number of doors').mean()\n",
        "plt= x.plot(kind='bar')\n",
        "\n",
        "plt.set_xlabel('Number of doors')\n",
        "plt.set_ylabel('Average Customer Acceptability level') "
      ],
      "execution_count": 16,
      "outputs": [
        {
          "output_type": "execute_result",
          "data": {
            "text/plain": [
              "Text(0, 0.5, 'Average Customer Acceptability level')"
            ]
          },
          "metadata": {},
          "execution_count": 16
        },
        {
          "output_type": "display_data",
          "data": {
            "image/png": "[encoded data removed]",
            "text/plain": [
              "<Figure size 432x288 with 1 Axes>"
            ]
          },
          "metadata": {
            "needs_background": "light"
          }
        }
      ]
    },
    {
      "cell_type": "markdown",
      "metadata": {
        "id": "ZIrbnGlcdZMf"
      },
      "source": [
        "**Inferance:**\n",
        "* Higher the number of doors in the car, higher is the average customer acceptability level."
      ]
    },
    {
      "cell_type": "code",
      "metadata": {
        "colab": {
          "base_uri": "https://localhost:8080/",
          "height": 312
        },
        "id": "4Cb0MwSkJxYf",
        "outputId": "0a588c83-d158-406d-9dc4-5f3726554790"
      },
      "source": [
        "x=df[['Capacity', 'Customer Acceptability']].groupby('Capacity').mean()\n",
        "plt= x.plot(kind='bar')\n",
        "\n",
        "plt.set_xlabel('Capacity')\n",
        "plt.set_ylabel('Average Customer Acceptability level') "
      ],
      "execution_count": 17,
      "outputs": [
        {
          "output_type": "execute_result",
          "data": {
            "text/plain": [
              "Text(0, 0.5, 'Average Customer Acceptability level')"
            ]
          },
          "metadata": {},
          "execution_count": 17
        },
        {
          "output_type": "display_data",
          "data": {
            "image/png": "[encoded data removed]",
            "text/plain": [
              "<Figure size 432x288 with 1 Axes>"
            ]
          },
          "metadata": {
            "needs_background": "light"
          }
        }
      ]
    },
    {
      "cell_type": "code",
      "metadata": {
        "colab": {
          "base_uri": "https://localhost:8080/",
          "height": 174
        },
        "id": "10ovHUcUNrwW",
        "outputId": "ad9efadd-3c0c-4d72-c810-3d42c3146f74"
      },
      "source": [
        "df[['Capacity', 'Customer Acceptability']].groupby('Capacity').mean()"
      ],
      "execution_count": 18,
      "outputs": [
        {
          "output_type": "execute_result",
          "data": {
            "text/html": [
              "<div>\n",
              "<style scoped>\n",
              "    .dataframe tbody tr th:only-of-type {\n",
              "        vertical-align: middle;\n",
              "    }\n",
              "\n",
              "    .dataframe tbody tr th {\n",
              "        vertical-align: top;\n",
              "    }\n",
              "\n",
              "    .dataframe thead th {\n",
              "        text-align: right;\n",
              "    }\n",
              "</style>\n",
              "<table border=\"1\" class=\"dataframe\">\n",
              "  <thead>\n",
              "    <tr style=\"text-align: right;\">\n",
              "      <th></th>\n",
              "      <th>Customer Acceptability</th>\n",
              "    </tr>\n",
              "    <tr>\n",
              "      <th>Capacity</th>\n",
              "      <th></th>\n",
              "    </tr>\n",
              "  </thead>\n",
              "  <tbody>\n",
              "    <tr>\n",
              "      <th>2</th>\n",
              "      <td>0.000000</td>\n",
              "    </tr>\n",
              "    <tr>\n",
              "      <th>4</th>\n",
              "      <td>0.635417</td>\n",
              "    </tr>\n",
              "    <tr>\n",
              "      <th>more</th>\n",
              "      <td>0.616319</td>\n",
              "    </tr>\n",
              "  </tbody>\n",
              "</table>\n",
              "</div>"
            ],
            "text/plain": [
              "          Customer Acceptability\n",
              "Capacity                        \n",
              "2                       0.000000\n",
              "4                       0.635417\n",
              "more                    0.616319"
            ]
          },
          "metadata": {},
          "execution_count": 18
        }
      ]
    },
    {
      "cell_type": "markdown",
      "metadata": {
        "id": "CVCvIfq4ruld"
      },
      "source": [
        "**Inferance:**\n",
        "* Cars with a capacity of 2 have zero customer acceptability level.\n",
        "* Cars with a capacity of 4 people was most preffered and had the highest average customer acceptability level."
      ]
    },
    {
      "cell_type": "code",
      "metadata": {
        "colab": {
          "base_uri": "https://localhost:8080/",
          "height": 314
        },
        "id": "VMZIRIWZM1lh",
        "outputId": "4a86d34f-ef38-4bde-9e75-7bd69d37e4b3"
      },
      "source": [
        "x=df[['The size of luggage boot', 'Customer Acceptability']].groupby('The size of luggage boot').mean()\n",
        "plt= x.plot(kind='bar')\n",
        "\n",
        "plt.set_xlabel('The size of luggage boot')\n",
        "plt.set_ylabel('Average Customer Acceptability level')  "
      ],
      "execution_count": 19,
      "outputs": [
        {
          "output_type": "execute_result",
          "data": {
            "text/plain": [
              "Text(0, 0.5, 'Average Customer Acceptability level')"
            ]
          },
          "metadata": {},
          "execution_count": 19
        },
        {
          "output_type": "display_data",
          "data": {
            "image/png": "[encoded data removed]",
            "text/plain": [
              "<Figure size 432x288 with 1 Axes>"
            ]
          },
          "metadata": {
            "needs_background": "light"
          }
        }
      ]
    },
    {
      "cell_type": "markdown",
      "metadata": {
        "id": "j4wJhSwENazY"
      },
      "source": [
        "**Inferance:**\n",
        "\n",
        "* Higher the size of luggage boot, higher is the average customer acceptability level."
      ]
    },
    {
      "cell_type": "code",
      "metadata": {
        "colab": {
          "base_uri": "https://localhost:8080/",
          "height": 308
        },
        "id": "ECDOQoMbJ8C7",
        "outputId": "2580a3cb-2de0-47a1-e7dc-9854a918a3c5"
      },
      "source": [
        "x=df[['Estimated safety of the car', 'Customer Acceptability']].groupby('Estimated safety of the car').mean()\n",
        "plt= x.plot(kind='bar')\n",
        "\n",
        "plt.set_xlabel('Estimated safety of the car')\n",
        "plt.set_ylabel('Average Customer Acceptability level')  "
      ],
      "execution_count": 20,
      "outputs": [
        {
          "output_type": "execute_result",
          "data": {
            "text/plain": [
              "Text(0, 0.5, 'Average Customer Acceptability level')"
            ]
          },
          "metadata": {},
          "execution_count": 20
        },
        {
          "output_type": "display_data",
          "data": {
            "image/png": "[encoded data removed]",
            "text/plain": [
              "<Figure size 432x288 with 1 Axes>"
            ]
          },
          "metadata": {
            "needs_background": "light"
          }
        }
      ]
    },
    {
      "cell_type": "code",
      "metadata": {
        "colab": {
          "base_uri": "https://localhost:8080/",
          "height": 174
        },
        "id": "S7Kjicc0NoLM",
        "outputId": "ce5ec9d9-459a-4891-9f60-84df521d108e"
      },
      "source": [
        "df[['Estimated safety of the car', 'Customer Acceptability']].groupby('Estimated safety of the car').mean()"
      ],
      "execution_count": 21,
      "outputs": [
        {
          "output_type": "execute_result",
          "data": {
            "text/html": [
              "<div>\n",
              "<style scoped>\n",
              "    .dataframe tbody tr th:only-of-type {\n",
              "        vertical-align: middle;\n",
              "    }\n",
              "\n",
              "    .dataframe tbody tr th {\n",
              "        vertical-align: top;\n",
              "    }\n",
              "\n",
              "    .dataframe thead th {\n",
              "        text-align: right;\n",
              "    }\n",
              "</style>\n",
              "<table border=\"1\" class=\"dataframe\">\n",
              "  <thead>\n",
              "    <tr style=\"text-align: right;\">\n",
              "      <th></th>\n",
              "      <th>Customer Acceptability</th>\n",
              "    </tr>\n",
              "    <tr>\n",
              "      <th>Estimated safety of the car</th>\n",
              "      <th></th>\n",
              "    </tr>\n",
              "  </thead>\n",
              "  <tbody>\n",
              "    <tr>\n",
              "      <th>high</th>\n",
              "      <td>0.736111</td>\n",
              "    </tr>\n",
              "    <tr>\n",
              "      <th>low</th>\n",
              "      <td>0.000000</td>\n",
              "    </tr>\n",
              "    <tr>\n",
              "      <th>med</th>\n",
              "      <td>0.515625</td>\n",
              "    </tr>\n",
              "  </tbody>\n",
              "</table>\n",
              "</div>"
            ],
            "text/plain": [
              "                             Customer Acceptability\n",
              "Estimated safety of the car                        \n",
              "high                                       0.736111\n",
              "low                                        0.000000\n",
              "med                                        0.515625"
            ]
          },
          "metadata": {},
          "execution_count": 21
        }
      ]
    },
    {
      "cell_type": "markdown",
      "metadata": {
        "id": "_d5GuXLkDKNz"
      },
      "source": [
        "**Inferance:**\n",
        "* Cars with low safety estimation, had zero customer acceptability level.\n",
        "* Higher the estimated safety of the car, higher is the average customer acceptance level."
      ]
    },
    {
      "cell_type": "markdown",
      "metadata": {
        "id": "vWNlKrdFeuLA"
      },
      "source": [
        "##**Preprocessing the Data for Analysis:**"
      ]
    },
    {
      "cell_type": "markdown",
      "metadata": {
        "id": "7QuZOf1vSlrG"
      },
      "source": [
        "##**Creating a categorical variables from the given variables of 'object' type:**\n",
        "\n",
        "And since all the categories in the variables have a naturally increasing order, they can be converted to numbers (e.g. 1, 2, 3, 4, 5) preserving the order. These are called ordinals."
      ]
    },
    {
      "cell_type": "markdown",
      "metadata": {
        "id": "RTLhZ6d2TTge"
      },
      "source": [
        "**Buying price:**"
      ]
    },
    {
      "cell_type": "code",
      "metadata": {
        "colab": {
          "base_uri": "https://localhost:8080/"
        },
        "id": "een01fXCTe7R",
        "outputId": "56710e92-ba52-4c2b-d522-c6d372d3f214"
      },
      "source": [
        "df['Buying price'].unique()"
      ],
      "execution_count": 22,
      "outputs": [
        {
          "output_type": "execute_result",
          "data": {
            "text/plain": [
              "array(['vhigh', 'high', 'med', 'low'], dtype=object)"
            ]
          },
          "metadata": {},
          "execution_count": 22
        }
      ]
    },
    {
      "cell_type": "code",
      "metadata": {
        "id": "njStDbWvSlKP"
      },
      "source": [
        "df['Buying price'] = df['Buying price'].map({'low':1, 'med':2, 'high':3,'vhigh':4})"
      ],
      "execution_count": 23,
      "outputs": []
    },
    {
      "cell_type": "markdown",
      "metadata": {
        "id": "DXjzHuj4UFzm"
      },
      "source": [
        "**Price of the maintenance:**"
      ]
    },
    {
      "cell_type": "code",
      "metadata": {
        "colab": {
          "base_uri": "https://localhost:8080/"
        },
        "id": "Vt_FqIY2UJ6n",
        "outputId": "d3e6210c-08d8-4651-a666-eecf5bc32f13"
      },
      "source": [
        "df['Price of the maintenance'].unique()"
      ],
      "execution_count": 24,
      "outputs": [
        {
          "output_type": "execute_result",
          "data": {
            "text/plain": [
              "array(['vhigh', 'high', 'med', 'low'], dtype=object)"
            ]
          },
          "metadata": {},
          "execution_count": 24
        }
      ]
    },
    {
      "cell_type": "code",
      "metadata": {
        "id": "F2IBpwK_USV4"
      },
      "source": [
        "df['Price of the maintenance'] = df['Price of the maintenance'].map({'low':1, 'med':2, 'high':3,'vhigh':4})"
      ],
      "execution_count": 25,
      "outputs": []
    },
    {
      "cell_type": "markdown",
      "metadata": {
        "id": "y6KY3Ph3UZyA"
      },
      "source": [
        "**Number of doors:**"
      ]
    },
    {
      "cell_type": "code",
      "metadata": {
        "colab": {
          "base_uri": "https://localhost:8080/"
        },
        "id": "dWks4307UeHZ",
        "outputId": "ed0a6232-4bb5-43ae-d897-2c46996c5954"
      },
      "source": [
        "df['Number of doors'].unique()"
      ],
      "execution_count": 26,
      "outputs": [
        {
          "output_type": "execute_result",
          "data": {
            "text/plain": [
              "array(['2', '3', '4', '5more'], dtype=object)"
            ]
          },
          "metadata": {},
          "execution_count": 26
        }
      ]
    },
    {
      "cell_type": "code",
      "metadata": {
        "id": "IixDwDp1Ufll"
      },
      "source": [
        "df['Number of doors'] = df['Number of doors'].map({'2':1, '3':2, '4':3, '5more':4})"
      ],
      "execution_count": 27,
      "outputs": []
    },
    {
      "cell_type": "markdown",
      "metadata": {
        "id": "VMOj4XOgU56-"
      },
      "source": [
        "**Capacity:**"
      ]
    },
    {
      "cell_type": "code",
      "metadata": {
        "colab": {
          "base_uri": "https://localhost:8080/"
        },
        "id": "O-cLOIgpU7jr",
        "outputId": "9ed30066-762b-4eda-d12f-db66bbe1c574"
      },
      "source": [
        "df['Capacity'].unique()"
      ],
      "execution_count": 28,
      "outputs": [
        {
          "output_type": "execute_result",
          "data": {
            "text/plain": [
              "array(['2', '4', 'more'], dtype=object)"
            ]
          },
          "metadata": {},
          "execution_count": 28
        }
      ]
    },
    {
      "cell_type": "code",
      "metadata": {
        "id": "9WUfFFpnU7uz"
      },
      "source": [
        "df['Capacity'] = df['Capacity'].map({'2':1, '4':2, 'more':3})"
      ],
      "execution_count": 29,
      "outputs": []
    },
    {
      "cell_type": "markdown",
      "metadata": {
        "id": "jqYqxGxsVSFg"
      },
      "source": [
        "**The size of luggage boot:**"
      ]
    },
    {
      "cell_type": "code",
      "metadata": {
        "colab": {
          "base_uri": "https://localhost:8080/"
        },
        "id": "4M3n0UkoVTc5",
        "outputId": "2c7f47e5-661c-4f1a-e63c-332dbe67ad9b"
      },
      "source": [
        "df['The size of luggage boot'].unique()"
      ],
      "execution_count": 30,
      "outputs": [
        {
          "output_type": "execute_result",
          "data": {
            "text/plain": [
              "array(['small', 'med', 'big'], dtype=object)"
            ]
          },
          "metadata": {},
          "execution_count": 30
        }
      ]
    },
    {
      "cell_type": "code",
      "metadata": {
        "id": "QAydtl9EVTf9"
      },
      "source": [
        "df['The size of luggage boot'] = df['The size of luggage boot'].map({'small':1, 'med':2, 'big':3})"
      ],
      "execution_count": 31,
      "outputs": []
    },
    {
      "cell_type": "markdown",
      "metadata": {
        "id": "NuJHagbtV2Q6"
      },
      "source": [
        "**Estimated safety of the car:**"
      ]
    },
    {
      "cell_type": "code",
      "metadata": {
        "colab": {
          "base_uri": "https://localhost:8080/"
        },
        "id": "bJ8-3KV3V62Z",
        "outputId": "84b9d257-2fb3-4ed0-a529-c87c89560dcc"
      },
      "source": [
        "df['Estimated safety of the car'].unique()"
      ],
      "execution_count": 32,
      "outputs": [
        {
          "output_type": "execute_result",
          "data": {
            "text/plain": [
              "array(['low', 'med', 'high'], dtype=object)"
            ]
          },
          "metadata": {},
          "execution_count": 32
        }
      ]
    },
    {
      "cell_type": "code",
      "metadata": {
        "id": "9lEcTCdYV65j"
      },
      "source": [
        "df['Estimated safety of the car'] = df['Estimated safety of the car'].map({'low':1, 'med':2, 'high':3})"
      ],
      "execution_count": 33,
      "outputs": []
    },
    {
      "cell_type": "markdown",
      "metadata": {
        "id": "amV2UiVxPiFW"
      },
      "source": [
        "**CORRELATION MATRIX FOR THE DIFFERENT FEATURES IN THE DATA:**"
      ]
    },
    {
      "cell_type": "code",
      "metadata": {
        "id": "h2AL2bnHj40q"
      },
      "source": [
        "corr_matrix = df.corr()"
      ],
      "execution_count": 34,
      "outputs": []
    },
    {
      "cell_type": "code",
      "metadata": {
        "colab": {
          "base_uri": "https://localhost:8080/",
          "height": 412
        },
        "id": "zIHlFRkkj8Sj",
        "outputId": "d5325dda-4da1-4dde-83cc-3d1ea3a1cc77"
      },
      "source": [
        "#Visualizing the correlation matrix using a heatmap in seaborn\n",
        "plt.figure(figsize=(8,4))\n",
        "sns.heatmap(corr_matrix, cmap='YlGnBu',annot=True)"
      ],
      "execution_count": 37,
      "outputs": [
        {
          "output_type": "execute_result",
          "data": {
            "text/plain": [
              "<matplotlib.axes._subplots.AxesSubplot at 0x7fe337240ed0>"
            ]
          },
          "metadata": {},
          "execution_count": 37
        },
        {
          "output_type": "display_data",
          "data": {
            "image/png": "[encoded data removed]",
            "text/plain": [
              "<Figure size 576x288 with 2 Axes>"
            ]
          },
          "metadata": {
            "needs_background": "light"
          }
        }
      ]
    },
    {
      "cell_type": "markdown",
      "metadata": {
        "id": "zQDMnewumH3C"
      },
      "source": [
        "##**Decision Tree for Classification to predict Customer acceptability of Cars:**"
      ]
    },
    {
      "cell_type": "markdown",
      "metadata": {
        "id": "k_DcWg1xmaNC"
      },
      "source": [
        "###**Making the Training, Validation and Test Sets**\n",
        "While building real-world machine learning models, it is quite common to split the dataset into three parts:\n",
        "\n",
        "**Training set** - used to train the model, i.e., compute the loss and adjust the model's weights using an optimization technique.\n",
        "\n",
        "**Validation set** - used to evaluate the model during training, tune model hyperparameters (optimization technique, regularization etc.), and pick the best version of the model. Picking a good validation set is essential for training models that generalize well. Learn more here.\n"
      ]
    },
    {
      "cell_type": "code",
      "metadata": {
        "id": "R26TnY8LmPv1"
      },
      "source": [
        "from sklearn.model_selection import train_test_split"
      ],
      "execution_count": 38,
      "outputs": []
    },
    {
      "cell_type": "code",
      "metadata": {
        "id": "pXRcqz_gm8_i"
      },
      "source": [
        "train_df, val_df = train_test_split(df, test_size=0.25, random_state=42)"
      ],
      "execution_count": 39,
      "outputs": []
    },
    {
      "cell_type": "code",
      "metadata": {
        "id": "W59lTOMJnC1X",
        "colab": {
          "base_uri": "https://localhost:8080/"
        },
        "outputId": "4a21eb3e-3a57-406c-e816-6a067231345d"
      },
      "source": [
        "print('train_df.shape :', train_df.shape)\n",
        "print('val_df.shape :', val_df.shape)"
      ],
      "execution_count": 40,
      "outputs": [
        {
          "output_type": "stream",
          "name": "stdout",
          "text": [
            "train_df.shape : (1296, 7)\n",
            "val_df.shape : (432, 7)\n"
          ]
        }
      ]
    },
    {
      "cell_type": "markdown",
      "metadata": {
        "id": "SVOcYVuNnJpW"
      },
      "source": [
        "###**Identifying Input and Target Columns**\n",
        "Let's create a list of input columns, and also identify the target column."
      ]
    },
    {
      "cell_type": "code",
      "metadata": {
        "id": "x7LFL07Gnm-1",
        "colab": {
          "base_uri": "https://localhost:8080/"
        },
        "outputId": "579938b1-9542-4091-f0a2-dcf1c71f3463"
      },
      "source": [
        "df.columns"
      ],
      "execution_count": 41,
      "outputs": [
        {
          "output_type": "execute_result",
          "data": {
            "text/plain": [
              "Index(['Buying price', 'Price of the maintenance', 'Number of doors',\n",
              "       'Capacity', 'The size of luggage boot', 'Estimated safety of the car',\n",
              "       'Customer Acceptability'],\n",
              "      dtype='object')"
            ]
          },
          "metadata": {},
          "execution_count": 41
        }
      ]
    },
    {
      "cell_type": "code",
      "metadata": {
        "id": "JydS_WI2nTfb"
      },
      "source": [
        "input_cols = ['Buying price', 'Price of the maintenance', 'Number of doors',\n",
        "       'Capacity', 'The size of luggage boot', 'Estimated safety of the car']"
      ],
      "execution_count": 42,
      "outputs": []
    },
    {
      "cell_type": "code",
      "metadata": {
        "id": "w_X8Z-6DpOP7"
      },
      "source": [
        "target_col = 'Customer Acceptability'"
      ],
      "execution_count": 43,
      "outputs": []
    },
    {
      "cell_type": "code",
      "metadata": {
        "id": "VVKm6XmDnejS"
      },
      "source": [
        "train_inputs = train_df[input_cols]\n",
        "train_targets = train_df[target_col]\n",
        "\n",
        "val_inputs = val_df[input_cols]\n",
        "val_targets = val_df[target_col]"
      ],
      "execution_count": 49,
      "outputs": []
    },
    {
      "cell_type": "code",
      "metadata": {
        "id": "ZOyBzBcxIVFz"
      },
      "source": [
        "X_train=train_inputs\n",
        "y_train=train_targets\n",
        "X_val=val_inputs\n",
        "y_val=val_targets"
      ],
      "execution_count": 50,
      "outputs": []
    },
    {
      "cell_type": "markdown",
      "metadata": {
        "id": "WxJ8wX0fG5hf"
      },
      "source": [
        "#**Modelling**"
      ]
    },
    {
      "cell_type": "code",
      "metadata": {
        "id": "4qUZ8guTG8Sq"
      },
      "source": [
        "from sklearn.linear_model import LogisticRegression\n",
        "from sklearn.svm import SVC\n",
        "from sklearn.svm import LinearSVC\n",
        "from sklearn.neighbors import KNeighborsClassifier\n",
        "from sklearn.tree import DecisionTreeClassifier\n",
        "from sklearn.ensemble import RandomForestClassifier\n",
        "from sklearn.naive_bayes import GaussianNB\n",
        "from sklearn.linear_model import Perceptron\n",
        "from sklearn.linear_model import SGDClassifier\n",
        "from sklearn.metrics import confusion_matrix"
      ],
      "execution_count": 51,
      "outputs": []
    },
    {
      "cell_type": "code",
      "metadata": {
        "id": "E9VNwXp0G8W2"
      },
      "source": [
        "models = [LogisticRegression(),SVC(),LinearSVC(),DecisionTreeClassifier(),\\\n",
        "          RandomForestClassifier(n_estimators = 100),KNeighborsClassifier(10),\\\n",
        "         SGDClassifier(max_iter = 100, tol = None),Perceptron(max_iter = 100, tol = None),GaussianNB()]"
      ],
      "execution_count": 52,
      "outputs": []
    },
    {
      "cell_type": "code",
      "metadata": {
        "id": "s-uMH51GG8bb"
      },
      "source": [
        "models_list = ['Logistic Regression','Support Vector Machines','Linear Support Vector Machines',\\\n",
        "               'Decision Tree','Random Forest','k-Nearest Neighbours', 'Stochastic Gradient Descent',\\\n",
        "               'Perceptron','Naive Bayes']\n",
        "accuracy_list = []"
      ],
      "execution_count": 53,
      "outputs": []
    },
    {
      "cell_type": "code",
      "metadata": {
        "colab": {
          "base_uri": "https://localhost:8080/"
        },
        "id": "UgDOsubCG8gT",
        "outputId": "e95661d6-c9ee-4f1a-969e-6811f0ba1de6"
      },
      "source": [
        "for i in models:\n",
        "    i.fit(X_train,y_train)\n",
        "    accuracy = round(100*i.score(X_val,y_val),2)\n",
        "    print(str(i) + ' Accuracy {}%'.format(accuracy))\n",
        "    accuracy_list.append(accuracy)"
      ],
      "execution_count": 54,
      "outputs": [
        {
          "output_type": "stream",
          "name": "stderr",
          "text": [
            "/usr/local/lib/python3.7/dist-packages/sklearn/linear_model/_logistic.py:818: ConvergenceWarning: lbfgs failed to converge (status=1):\n",
            "STOP: TOTAL NO. of ITERATIONS REACHED LIMIT.\n",
            "\n",
            "Increase the number of iterations (max_iter) or scale the data as shown in:\n",
            "    https://scikit-learn.org/stable/modules/preprocessing.html\n",
            "Please also refer to the documentation for alternative solver options:\n",
            "    https://scikit-learn.org/stable/modules/linear_model.html#logistic-regression\n",
            "  extra_warning_msg=_LOGISTIC_SOLVER_CONVERGENCE_MSG,\n",
            "/usr/local/lib/python3.7/dist-packages/sklearn/svm/_base.py:1208: ConvergenceWarning: Liblinear failed to converge, increase the number of iterations.\n",
            "  ConvergenceWarning,\n"
          ]
        },
        {
          "output_type": "stream",
          "name": "stdout",
          "text": [
            "LogisticRegression() Accuracy 81.48%\n",
            "SVC() Accuracy 96.53%\n",
            "LinearSVC() Accuracy 78.24%\n",
            "DecisionTreeClassifier() Accuracy 97.45%\n",
            "RandomForestClassifier() Accuracy 96.99%\n",
            "KNeighborsClassifier(n_neighbors=10) Accuracy 90.74%\n",
            "SGDClassifier(max_iter=100, tol=None) Accuracy 77.31%\n",
            "Perceptron(max_iter=100, tol=None) Accuracy 75.46%\n",
            "GaussianNB() Accuracy 68.52%\n"
          ]
        }
      ]
    },
    {
      "cell_type": "code",
      "metadata": {
        "colab": {
          "base_uri": "https://localhost:8080/",
          "height": 363
        },
        "id": "mkXoHWxNHSM2",
        "outputId": "789bb279-1d64-45e1-b32c-3fb8d2b3946e"
      },
      "source": [
        "models_dataframe = pd.DataFrame({'Models': models_list,'Accuracy':accuracy_list})\n",
        "models_dataframe.set_index('Models', inplace = True)\n",
        "models_dataframe.sort_values(by = ['Accuracy'], ascending=False)"
      ],
      "execution_count": 55,
      "outputs": [
        {
          "output_type": "execute_result",
          "data": {
            "text/html": [
              "<div>\n",
              "<style scoped>\n",
              "    .dataframe tbody tr th:only-of-type {\n",
              "        vertical-align: middle;\n",
              "    }\n",
              "\n",
              "    .dataframe tbody tr th {\n",
              "        vertical-align: top;\n",
              "    }\n",
              "\n",
              "    .dataframe thead th {\n",
              "        text-align: right;\n",
              "    }\n",
              "</style>\n",
              "<table border=\"1\" class=\"dataframe\">\n",
              "  <thead>\n",
              "    <tr style=\"text-align: right;\">\n",
              "      <th></th>\n",
              "      <th>Accuracy</th>\n",
              "    </tr>\n",
              "    <tr>\n",
              "      <th>Models</th>\n",
              "      <th></th>\n",
              "    </tr>\n",
              "  </thead>\n",
              "  <tbody>\n",
              "    <tr>\n",
              "      <th>Decision Tree</th>\n",
              "      <td>97.45</td>\n",
              "    </tr>\n",
              "    <tr>\n",
              "      <th>Random Forest</th>\n",
              "      <td>96.99</td>\n",
              "    </tr>\n",
              "    <tr>\n",
              "      <th>Support Vector Machines</th>\n",
              "      <td>96.53</td>\n",
              "    </tr>\n",
              "    <tr>\n",
              "      <th>k-Nearest Neighbours</th>\n",
              "      <td>90.74</td>\n",
              "    </tr>\n",
              "    <tr>\n",
              "      <th>Logistic Regression</th>\n",
              "      <td>81.48</td>\n",
              "    </tr>\n",
              "    <tr>\n",
              "      <th>Linear Support Vector Machines</th>\n",
              "      <td>78.24</td>\n",
              "    </tr>\n",
              "    <tr>\n",
              "      <th>Stochastic Gradient Descent</th>\n",
              "      <td>77.31</td>\n",
              "    </tr>\n",
              "    <tr>\n",
              "      <th>Perceptron</th>\n",
              "      <td>75.46</td>\n",
              "    </tr>\n",
              "    <tr>\n",
              "      <th>Naive Bayes</th>\n",
              "      <td>68.52</td>\n",
              "    </tr>\n",
              "  </tbody>\n",
              "</table>\n",
              "</div>"
            ],
            "text/plain": [
              "                                Accuracy\n",
              "Models                                  \n",
              "Decision Tree                      97.45\n",
              "Random Forest                      96.99\n",
              "Support Vector Machines            96.53\n",
              "k-Nearest Neighbours               90.74\n",
              "Logistic Regression                81.48\n",
              "Linear Support Vector Machines     78.24\n",
              "Stochastic Gradient Descent        77.31\n",
              "Perceptron                         75.46\n",
              "Naive Bayes                        68.52"
            ]
          },
          "metadata": {},
          "execution_count": 55
        }
      ]
    },
    {
      "cell_type": "markdown",
      "metadata": {
        "id": "Rf3EIAumIs9T"
      },
      "source": [
        "Thus it is inferred that Decision Tree and Random Forest is the best machine learning algorithm for the given dataset."
      ]
    },
    {
      "cell_type": "markdown",
      "metadata": {
        "id": "-pTjtgJrI3Il"
      },
      "source": [
        "**Let us consider the Decision Tree model and try to further improve its accuracy...**"
      ]
    },
    {
      "cell_type": "code",
      "metadata": {
        "id": "ckwiYB_lJBn4"
      },
      "source": [
        "from sklearn.tree import DecisionTreeClassifier"
      ],
      "execution_count": 56,
      "outputs": []
    },
    {
      "cell_type": "code",
      "metadata": {
        "id": "M3c1TiD6JBrI"
      },
      "source": [
        "model = DecisionTreeClassifier(random_state=42)"
      ],
      "execution_count": 57,
      "outputs": []
    },
    {
      "cell_type": "code",
      "metadata": {
        "colab": {
          "base_uri": "https://localhost:8080/"
        },
        "id": "rVd5BgD2JBuf",
        "outputId": "25a5a736-c66c-44c9-9ac5-f1cf0eeb1ae8"
      },
      "source": [
        "%%time\n",
        "model.fit(X_train, train_targets)"
      ],
      "execution_count": 58,
      "outputs": [
        {
          "output_type": "stream",
          "name": "stdout",
          "text": [
            "CPU times: user 5.49 ms, sys: 833 µs, total: 6.32 ms\n",
            "Wall time: 7.19 ms\n"
          ]
        },
        {
          "output_type": "execute_result",
          "data": {
            "text/plain": [
              "DecisionTreeClassifier(random_state=42)"
            ]
          },
          "metadata": {},
          "execution_count": 58
        }
      ]
    },
    {
      "cell_type": "code",
      "metadata": {
        "colab": {
          "base_uri": "https://localhost:8080/"
        },
        "id": "KvkVs-PWKhiG",
        "outputId": "aa62fd1f-c3cb-4a94-d6f8-b9450fefeb92"
      },
      "source": [
        "model.score(X_train, train_targets)"
      ],
      "execution_count": 66,
      "outputs": [
        {
          "output_type": "execute_result",
          "data": {
            "text/plain": [
              "1.0"
            ]
          },
          "metadata": {},
          "execution_count": 66
        }
      ]
    },
    {
      "cell_type": "code",
      "metadata": {
        "colab": {
          "base_uri": "https://localhost:8080/"
        },
        "id": "0zmscto9JBx2",
        "outputId": "2dc48758-2255-465b-d4c7-247957d8451a"
      },
      "source": [
        "model.score(X_val, val_targets)"
      ],
      "execution_count": 59,
      "outputs": [
        {
          "output_type": "execute_result",
          "data": {
            "text/plain": [
              "0.9722222222222222"
            ]
          },
          "metadata": {},
          "execution_count": 59
        }
      ]
    },
    {
      "cell_type": "code",
      "metadata": {
        "colab": {
          "base_uri": "https://localhost:8080/",
          "height": 365
        },
        "id": "rvUKNY7uJyK4",
        "outputId": "31e8ab17-d6e2-4793-9e8e-b7435e4432df"
      },
      "source": [
        "from sklearn.tree import plot_tree, export_text\n",
        "plt.figure(figsize=(80,20))\n",
        "plot_tree(model, feature_names=X_train.columns, max_depth=2, filled=True);"
      ],
      "execution_count": 60,
      "outputs": [
        {
          "output_type": "display_data",
          "data": {
            "image/png": "[encoded data removed]",
            "text/plain": [
              "<Figure size 5760x1440 with 1 Axes>"
            ]
          },
          "metadata": {
            "needs_background": "light"
          }
        }
      ]
    },
    {
      "cell_type": "code",
      "metadata": {
        "colab": {
          "base_uri": "https://localhost:8080/"
        },
        "id": "GFbm_zybKDiQ",
        "outputId": "9d1135de-f2a5-4bab-d444-9f8fbeeb7ee8"
      },
      "source": [
        "model.tree_.max_depth"
      ],
      "execution_count": 61,
      "outputs": [
        {
          "output_type": "execute_result",
          "data": {
            "text/plain": [
              "12"
            ]
          },
          "metadata": {},
          "execution_count": 61
        }
      ]
    },
    {
      "cell_type": "code",
      "metadata": {
        "colab": {
          "base_uri": "https://localhost:8080/"
        },
        "id": "cwou47scKEJz",
        "outputId": "14e43ac4-243d-4011-c09e-a7f29cf0d236"
      },
      "source": [
        "tree_text = export_text(model, max_depth=10, feature_names=list(X_train.columns))\n",
        "print(tree_text[:5000])"
      ],
      "execution_count": 62,
      "outputs": [
        {
          "output_type": "stream",
          "name": "stdout",
          "text": [
            "|--- Estimated safety of the car <= 1.50\n",
            "|   |--- class: 0\n",
            "|--- Estimated safety of the car >  1.50\n",
            "|   |--- Capacity <= 1.50\n",
            "|   |   |--- class: 0\n",
            "|   |--- Capacity >  1.50\n",
            "|   |   |--- Buying price <= 2.50\n",
            "|   |   |   |--- Price of the maintenance <= 2.50\n",
            "|   |   |   |   |--- Estimated safety of the car <= 2.50\n",
            "|   |   |   |   |   |--- The size of luggage boot <= 1.50\n",
            "|   |   |   |   |   |   |--- Number of doors <= 1.50\n",
            "|   |   |   |   |   |   |   |--- Capacity <= 2.50\n",
            "|   |   |   |   |   |   |   |   |--- class: 1\n",
            "|   |   |   |   |   |   |   |--- Capacity >  2.50\n",
            "|   |   |   |   |   |   |   |   |--- class: 0\n",
            "|   |   |   |   |   |   |--- Number of doors >  1.50\n",
            "|   |   |   |   |   |   |   |--- class: 1\n",
            "|   |   |   |   |   |--- The size of luggage boot >  1.50\n",
            "|   |   |   |   |   |   |--- Price of the maintenance <= 1.50\n",
            "|   |   |   |   |   |   |   |--- Number of doors <= 1.50\n",
            "|   |   |   |   |   |   |   |   |--- The size of luggage boot <= 2.50\n",
            "|   |   |   |   |   |   |   |   |   |--- class: 1\n",
            "|   |   |   |   |   |   |   |   |--- The size of luggage boot >  2.50\n",
            "|   |   |   |   |   |   |   |   |   |--- class: 3\n",
            "|   |   |   |   |   |   |   |--- Number of doors >  1.50\n",
            "|   |   |   |   |   |   |   |   |--- class: 3\n",
            "|   |   |   |   |   |   |--- Price of the maintenance >  1.50\n",
            "|   |   |   |   |   |   |   |--- Buying price <= 1.50\n",
            "|   |   |   |   |   |   |   |   |--- Number of doors <= 2.50\n",
            "|   |   |   |   |   |   |   |   |   |--- The size of luggage boot <= 2.50\n",
            "|   |   |   |   |   |   |   |   |   |   |--- class: 1\n",
            "|   |   |   |   |   |   |   |   |   |--- The size of luggage boot >  2.50\n",
            "|   |   |   |   |   |   |   |   |   |   |--- class: 3\n",
            "|   |   |   |   |   |   |   |   |--- Number of doors >  2.50\n",
            "|   |   |   |   |   |   |   |   |   |--- class: 3\n",
            "|   |   |   |   |   |   |   |--- Buying price >  1.50\n",
            "|   |   |   |   |   |   |   |   |--- class: 1\n",
            "|   |   |   |   |--- Estimated safety of the car >  2.50\n",
            "|   |   |   |   |   |--- The size of luggage boot <= 1.50\n",
            "|   |   |   |   |   |   |--- Number of doors <= 1.50\n",
            "|   |   |   |   |   |   |   |--- Capacity <= 2.50\n",
            "|   |   |   |   |   |   |   |   |--- class: 3\n",
            "|   |   |   |   |   |   |   |--- Capacity >  2.50\n",
            "|   |   |   |   |   |   |   |   |--- class: 0\n",
            "|   |   |   |   |   |   |--- Number of doors >  1.50\n",
            "|   |   |   |   |   |   |   |--- Buying price <= 1.50\n",
            "|   |   |   |   |   |   |   |   |--- class: 3\n",
            "|   |   |   |   |   |   |   |--- Buying price >  1.50\n",
            "|   |   |   |   |   |   |   |   |--- Price of the maintenance <= 1.50\n",
            "|   |   |   |   |   |   |   |   |   |--- class: 3\n",
            "|   |   |   |   |   |   |   |   |--- Price of the maintenance >  1.50\n",
            "|   |   |   |   |   |   |   |   |   |--- class: 1\n",
            "|   |   |   |   |   |--- The size of luggage boot >  1.50\n",
            "|   |   |   |   |   |   |--- Number of doors <= 1.50\n",
            "|   |   |   |   |   |   |   |--- The size of luggage boot <= 2.50\n",
            "|   |   |   |   |   |   |   |   |--- class: 3\n",
            "|   |   |   |   |   |   |   |--- The size of luggage boot >  2.50\n",
            "|   |   |   |   |   |   |   |   |--- class: 2\n",
            "|   |   |   |   |   |   |--- Number of doors >  1.50\n",
            "|   |   |   |   |   |   |   |--- Number of doors <= 2.50\n",
            "|   |   |   |   |   |   |   |   |--- The size of luggage boot <= 2.50\n",
            "|   |   |   |   |   |   |   |   |   |--- Capacity <= 2.50\n",
            "|   |   |   |   |   |   |   |   |   |   |--- class: 3\n",
            "|   |   |   |   |   |   |   |   |   |--- Capacity >  2.50\n",
            "|   |   |   |   |   |   |   |   |   |   |--- class: 2\n",
            "|   |   |   |   |   |   |   |   |--- The size of luggage boot >  2.50\n",
            "|   |   |   |   |   |   |   |   |   |--- class: 2\n",
            "|   |   |   |   |   |   |   |--- Number of doors >  2.50\n",
            "|   |   |   |   |   |   |   |   |--- class: 2\n",
            "|   |   |   |--- Price of the maintenance >  2.50\n",
            "|   |   |   |   |--- Estimated safety of the car <= 2.50\n",
            "|   |   |   |   |   |--- The size of luggage boot <= 1.50\n",
            "|   |   |   |   |   |   |--- Price of the maintenance <= 3.50\n",
            "|   |   |   |   |   |   |   |--- Buying price <= 1.50\n",
            "|   |   |   |   |   |   |   |   |--- Number of doors <= 1.50\n",
            "|   |   |   |   |   |   |   |   |   |--- class: 0\n",
            "|   |   |   |   |   |   |   |   |--- Number of doors >  1.50\n",
            "|   |   |   |   |   |   |   |   |   |--- class: 1\n",
            "|   |   |   |   |   |   |   |--- Buying price >  1.50\n",
            "|   |   |   |   |   |   |   |   |--- class: 0\n",
            "|   |   |   |   |   |   |--- Price of the maintenance >  3.50\n",
            "|   |   |   |   |   |   |   |--- class: 0\n",
            "|   |   |   |   |   |--- The size of luggage boot >  1.50\n",
            "|   |   |   |   |   |   |--- The size of luggage boot <= 2.50\n",
            "|   |   |   |   |   |   |   |--- Number of doors <= 2.50\n",
            "|   |   |   |   |   |   |   |   |--- Number of doors <= 1.50\n",
            "|   |   |   |   |   |   |   |   |   |--- Buying price <= 1.50\n",
            "|   |   |   |   |   |   |   |   |   |   |--- Price of the maintenance <= 3.50\n",
            "|   |   |   |   |   |   |   |   |   |   |   |--- class: 1\n",
            "|   |   |   |   |   |   |   |   |   |   |--- Price of the maintenance >  3.50\n",
            "|   |   |   |   |   |   |   |   |   |   |   |--- class: 0\n",
            "|   |   |   |   |   |   |   |   |   |--- Buying price >  1.50\n",
            "|   |   |   |\n"
          ]
        }
      ]
    },
    {
      "cell_type": "code",
      "metadata": {
        "id": "jBDbiFwAKGOY"
      },
      "source": [
        "importance_df = pd.DataFrame({\n",
        "    'feature': X_train.columns,\n",
        "    'importance': model.feature_importances_\n",
        "}).sort_values('importance', ascending=False)"
      ],
      "execution_count": 63,
      "outputs": []
    },
    {
      "cell_type": "code",
      "metadata": {
        "colab": {
          "base_uri": "https://localhost:8080/",
          "height": 238
        },
        "id": "n_EApcqWKOF3",
        "outputId": "cb0e4b05-f923-47a4-afd3-341cdeee7b05"
      },
      "source": [
        "importance_df"
      ],
      "execution_count": 64,
      "outputs": [
        {
          "output_type": "execute_result",
          "data": {
            "text/html": [
              "<div>\n",
              "<style scoped>\n",
              "    .dataframe tbody tr th:only-of-type {\n",
              "        vertical-align: middle;\n",
              "    }\n",
              "\n",
              "    .dataframe tbody tr th {\n",
              "        vertical-align: top;\n",
              "    }\n",
              "\n",
              "    .dataframe thead th {\n",
              "        text-align: right;\n",
              "    }\n",
              "</style>\n",
              "<table border=\"1\" class=\"dataframe\">\n",
              "  <thead>\n",
              "    <tr style=\"text-align: right;\">\n",
              "      <th></th>\n",
              "      <th>feature</th>\n",
              "      <th>importance</th>\n",
              "    </tr>\n",
              "  </thead>\n",
              "  <tbody>\n",
              "    <tr>\n",
              "      <th>3</th>\n",
              "      <td>Capacity</td>\n",
              "      <td>0.256401</td>\n",
              "    </tr>\n",
              "    <tr>\n",
              "      <th>5</th>\n",
              "      <td>Estimated safety of the car</td>\n",
              "      <td>0.230413</td>\n",
              "    </tr>\n",
              "    <tr>\n",
              "      <th>1</th>\n",
              "      <td>Price of the maintenance</td>\n",
              "      <td>0.187667</td>\n",
              "    </tr>\n",
              "    <tr>\n",
              "      <th>4</th>\n",
              "      <td>The size of luggage boot</td>\n",
              "      <td>0.166251</td>\n",
              "    </tr>\n",
              "    <tr>\n",
              "      <th>0</th>\n",
              "      <td>Buying price</td>\n",
              "      <td>0.105102</td>\n",
              "    </tr>\n",
              "    <tr>\n",
              "      <th>2</th>\n",
              "      <td>Number of doors</td>\n",
              "      <td>0.054166</td>\n",
              "    </tr>\n",
              "  </tbody>\n",
              "</table>\n",
              "</div>"
            ],
            "text/plain": [
              "                       feature  importance\n",
              "3                     Capacity    0.256401\n",
              "5  Estimated safety of the car    0.230413\n",
              "1     Price of the maintenance    0.187667\n",
              "4     The size of luggage boot    0.166251\n",
              "0                 Buying price    0.105102\n",
              "2              Number of doors    0.054166"
            ]
          },
          "metadata": {},
          "execution_count": 64
        }
      ]
    },
    {
      "cell_type": "code",
      "metadata": {
        "colab": {
          "base_uri": "https://localhost:8080/",
          "height": 295
        },
        "id": "PLrb4Nl_KPVa",
        "outputId": "a05598c5-eed9-43fb-8106-d2977b6324c0"
      },
      "source": [
        "plt.title('Feature Importance')\n",
        "sns.barplot(data=importance_df.head(10), x='importance', y='feature');"
      ],
      "execution_count": 65,
      "outputs": [
        {
          "output_type": "display_data",
          "data": {
            "image/png": "[encoded data removed]",
            "text/plain": [
              "<Figure size 432x288 with 1 Axes>"
            ]
          },
          "metadata": {
            "needs_background": "light"
          }
        }
      ]
    },
    {
      "cell_type": "markdown",
      "metadata": {
        "id": "on35QX6PJ1-u"
      },
      "source": [
        "#**Hyperparameter Tuning and Overfitting**\n",
        "As we saw in the previous section, our decision tree classifier memorized all training examples, leading to a 100% training accuracy, while the validation accuracy wasnt 100%. **Let us check if this is due to overfitting of the data.**"
      ]
    },
    {
      "cell_type": "code",
      "metadata": {
        "id": "lwre122aKwXk"
      },
      "source": [
        "?DecisionTreeClassifier"
      ],
      "execution_count": 67,
      "outputs": []
    },
    {
      "cell_type": "markdown",
      "metadata": {
        "id": "xlZFALctK5MU"
      },
      "source": [
        "These arguments are called hyperparameters because they must be configured manually (as opposed to the parameters within the model which are learned from the data. We'll explore a couple of hyperparameters:\n",
        "\n",
        "* max_depth\n",
        "* max_leaf_nodes"
      ]
    },
    {
      "cell_type": "markdown",
      "metadata": {
        "id": "jRYAJhgXLAYB"
      },
      "source": [
        "###**max_depth**\n",
        "By reducing the maximum depth of the decision tree, we can prevent the tree from memorizing all training examples, which **may** lead to better generalization."
      ]
    },
    {
      "cell_type": "markdown",
      "metadata": {
        "id": "C8xjdHXOLV_u"
      },
      "source": [
        "**Let's experiment with different depths and number of leaves using a helper function.**"
      ]
    },
    {
      "cell_type": "code",
      "metadata": {
        "id": "PBQNOXfhLSF7"
      },
      "source": [
        "def max_depth_error(md):\n",
        "    model = DecisionTreeClassifier(max_depth=md, random_state=42)\n",
        "    model.fit(X_train, train_targets)\n",
        "    train_acc = 1 - model.score(X_train, train_targets)\n",
        "    val_acc = 1 - model.score(X_val, val_targets)\n",
        "    return {'Max Depth': md, 'Training Error': train_acc, 'Validation Error': val_acc}"
      ],
      "execution_count": 72,
      "outputs": []
    },
    {
      "cell_type": "code",
      "metadata": {
        "colab": {
          "base_uri": "https://localhost:8080/"
        },
        "id": "Bec9B_GaLZ5h",
        "outputId": "0f626f56-0175-461e-edc8-d2d43c91f9c6"
      },
      "source": [
        "%%time\n",
        "errors_df = pd.DataFrame([max_depth_error(md) for md in range(1, 20)])"
      ],
      "execution_count": 78,
      "outputs": [
        {
          "output_type": "stream",
          "name": "stdout",
          "text": [
            "CPU times: user 127 ms, sys: 3.37 ms, total: 131 ms\n",
            "Wall time: 131 ms\n"
          ]
        }
      ]
    },
    {
      "cell_type": "code",
      "metadata": {
        "colab": {
          "base_uri": "https://localhost:8080/",
          "height": 645
        },
        "id": "TFkq-pQ4Lfba",
        "outputId": "6d603a08-150c-4f00-9ba9-828984d7d206"
      },
      "source": [
        "errors_df"
      ],
      "execution_count": 79,
      "outputs": [
        {
          "output_type": "execute_result",
          "data": {
            "text/html": [
              "<div>\n",
              "<style scoped>\n",
              "    .dataframe tbody tr th:only-of-type {\n",
              "        vertical-align: middle;\n",
              "    }\n",
              "\n",
              "    .dataframe tbody tr th {\n",
              "        vertical-align: top;\n",
              "    }\n",
              "\n",
              "    .dataframe thead th {\n",
              "        text-align: right;\n",
              "    }\n",
              "</style>\n",
              "<table border=\"1\" class=\"dataframe\">\n",
              "  <thead>\n",
              "    <tr style=\"text-align: right;\">\n",
              "      <th></th>\n",
              "      <th>Max Depth</th>\n",
              "      <th>Training Error</th>\n",
              "      <th>Validation Error</th>\n",
              "    </tr>\n",
              "  </thead>\n",
              "  <tbody>\n",
              "    <tr>\n",
              "      <th>0</th>\n",
              "      <td>1</td>\n",
              "      <td>0.293210</td>\n",
              "      <td>0.319444</td>\n",
              "    </tr>\n",
              "    <tr>\n",
              "      <th>1</th>\n",
              "      <td>2</td>\n",
              "      <td>0.227623</td>\n",
              "      <td>0.206019</td>\n",
              "    </tr>\n",
              "    <tr>\n",
              "      <th>2</th>\n",
              "      <td>3</td>\n",
              "      <td>0.211420</td>\n",
              "      <td>0.199074</td>\n",
              "    </tr>\n",
              "    <tr>\n",
              "      <th>3</th>\n",
              "      <td>4</td>\n",
              "      <td>0.145833</td>\n",
              "      <td>0.159722</td>\n",
              "    </tr>\n",
              "    <tr>\n",
              "      <th>4</th>\n",
              "      <td>5</td>\n",
              "      <td>0.130401</td>\n",
              "      <td>0.122685</td>\n",
              "    </tr>\n",
              "    <tr>\n",
              "      <th>5</th>\n",
              "      <td>6</td>\n",
              "      <td>0.067130</td>\n",
              "      <td>0.060185</td>\n",
              "    </tr>\n",
              "    <tr>\n",
              "      <th>6</th>\n",
              "      <td>7</td>\n",
              "      <td>0.056327</td>\n",
              "      <td>0.074074</td>\n",
              "    </tr>\n",
              "    <tr>\n",
              "      <th>7</th>\n",
              "      <td>8</td>\n",
              "      <td>0.018519</td>\n",
              "      <td>0.053241</td>\n",
              "    </tr>\n",
              "    <tr>\n",
              "      <th>8</th>\n",
              "      <td>9</td>\n",
              "      <td>0.013117</td>\n",
              "      <td>0.046296</td>\n",
              "    </tr>\n",
              "    <tr>\n",
              "      <th>9</th>\n",
              "      <td>10</td>\n",
              "      <td>0.002315</td>\n",
              "      <td>0.027778</td>\n",
              "    </tr>\n",
              "    <tr>\n",
              "      <th>10</th>\n",
              "      <td>11</td>\n",
              "      <td>0.001543</td>\n",
              "      <td>0.027778</td>\n",
              "    </tr>\n",
              "    <tr>\n",
              "      <th>11</th>\n",
              "      <td>12</td>\n",
              "      <td>0.000000</td>\n",
              "      <td>0.027778</td>\n",
              "    </tr>\n",
              "    <tr>\n",
              "      <th>12</th>\n",
              "      <td>13</td>\n",
              "      <td>0.000000</td>\n",
              "      <td>0.027778</td>\n",
              "    </tr>\n",
              "    <tr>\n",
              "      <th>13</th>\n",
              "      <td>14</td>\n",
              "      <td>0.000000</td>\n",
              "      <td>0.027778</td>\n",
              "    </tr>\n",
              "    <tr>\n",
              "      <th>14</th>\n",
              "      <td>15</td>\n",
              "      <td>0.000000</td>\n",
              "      <td>0.027778</td>\n",
              "    </tr>\n",
              "    <tr>\n",
              "      <th>15</th>\n",
              "      <td>16</td>\n",
              "      <td>0.000000</td>\n",
              "      <td>0.027778</td>\n",
              "    </tr>\n",
              "    <tr>\n",
              "      <th>16</th>\n",
              "      <td>17</td>\n",
              "      <td>0.000000</td>\n",
              "      <td>0.027778</td>\n",
              "    </tr>\n",
              "    <tr>\n",
              "      <th>17</th>\n",
              "      <td>18</td>\n",
              "      <td>0.000000</td>\n",
              "      <td>0.027778</td>\n",
              "    </tr>\n",
              "    <tr>\n",
              "      <th>18</th>\n",
              "      <td>19</td>\n",
              "      <td>0.000000</td>\n",
              "      <td>0.027778</td>\n",
              "    </tr>\n",
              "  </tbody>\n",
              "</table>\n",
              "</div>"
            ],
            "text/plain": [
              "    Max Depth  Training Error  Validation Error\n",
              "0           1        0.293210          0.319444\n",
              "1           2        0.227623          0.206019\n",
              "2           3        0.211420          0.199074\n",
              "3           4        0.145833          0.159722\n",
              "4           5        0.130401          0.122685\n",
              "5           6        0.067130          0.060185\n",
              "6           7        0.056327          0.074074\n",
              "7           8        0.018519          0.053241\n",
              "8           9        0.013117          0.046296\n",
              "9          10        0.002315          0.027778\n",
              "10         11        0.001543          0.027778\n",
              "11         12        0.000000          0.027778\n",
              "12         13        0.000000          0.027778\n",
              "13         14        0.000000          0.027778\n",
              "14         15        0.000000          0.027778\n",
              "15         16        0.000000          0.027778\n",
              "16         17        0.000000          0.027778\n",
              "17         18        0.000000          0.027778\n",
              "18         19        0.000000          0.027778"
            ]
          },
          "metadata": {},
          "execution_count": 79
        }
      ]
    },
    {
      "cell_type": "code",
      "metadata": {
        "colab": {
          "base_uri": "https://localhost:8080/",
          "height": 312
        },
        "id": "t2QlPJusL8m5",
        "outputId": "c141aeee-454e-4604-f2ed-75f68fd909cb"
      },
      "source": [
        "plt.figure()\n",
        "plt.plot(errors_df['Max Depth'], errors_df['Training Error'])\n",
        "plt.plot(errors_df['Max Depth'], errors_df['Validation Error'])\n",
        "plt.title('Training vs. Validation Error')\n",
        "plt.xticks(range(0,21, 2))\n",
        "plt.xlabel('Max. Depth')\n",
        "plt.ylabel('Prediction Error (1 - Accuracy)')\n",
        "plt.legend(['Training', 'Validation'])"
      ],
      "execution_count": 80,
      "outputs": [
        {
          "output_type": "execute_result",
          "data": {
            "text/plain": [
              "<matplotlib.legend.Legend at 0x7fe32ee00c90>"
            ]
          },
          "metadata": {},
          "execution_count": 80
        },
        {
          "output_type": "display_data",
          "data": {
            "image/png": "[encoded data removed]",
            "text/plain": [
              "<Figure size 432x288 with 1 Axes>"
            ]
          },
          "metadata": {
            "needs_background": "light"
          }
        }
      ]
    },
    {
      "cell_type": "markdown",
      "metadata": {
        "id": "V4yMQWanMRe5"
      },
      "source": [
        "###**max_leaf_nodes**\n",
        "Another way to control the size of complexity of a decision tree is to limit the number of leaf nodes. This allows branches of the tree to have varying depths."
      ]
    },
    {
      "cell_type": "code",
      "metadata": {
        "id": "c0JYUMbcMWR8"
      },
      "source": [
        "def max_leaf_nodes_error(mln):\n",
        "    model = DecisionTreeClassifier(max_leaf_nodes=mln, random_state=42)\n",
        "    model.fit(X_train, train_targets)\n",
        "    train_acc = 1 - model.score(X_train, train_targets)\n",
        "    val_acc = 1 - model.score(X_val, val_targets)\n",
        "    return {'max_leaf_nodes': mln, 'Training Error': train_acc, 'Validation Error': val_acc}"
      ],
      "execution_count": 109,
      "outputs": []
    },
    {
      "cell_type": "code",
      "metadata": {
        "colab": {
          "base_uri": "https://localhost:8080/"
        },
        "id": "OhxnuqdUM4hM",
        "outputId": "183ac166-ef90-4273-98b1-5d070ec7f655"
      },
      "source": [
        "%%time\n",
        "errors_df = pd.DataFrame([max_leaf_nodes_error(mln) for mln in range(2, 100)])"
      ],
      "execution_count": 110,
      "outputs": [
        {
          "output_type": "stream",
          "name": "stdout",
          "text": [
            "CPU times: user 608 ms, sys: 0 ns, total: 608 ms\n",
            "Wall time: 612 ms\n"
          ]
        }
      ]
    },
    {
      "cell_type": "code",
      "metadata": {
        "colab": {
          "base_uri": "https://localhost:8080/",
          "height": 423
        },
        "id": "pKnsT8pCNAsd",
        "outputId": "f63878c8-d26f-468d-f6a7-75ca9ed72b7b"
      },
      "source": [
        "errors_df"
      ],
      "execution_count": 111,
      "outputs": [
        {
          "output_type": "execute_result",
          "data": {
            "text/html": [
              "<div>\n",
              "<style scoped>\n",
              "    .dataframe tbody tr th:only-of-type {\n",
              "        vertical-align: middle;\n",
              "    }\n",
              "\n",
              "    .dataframe tbody tr th {\n",
              "        vertical-align: top;\n",
              "    }\n",
              "\n",
              "    .dataframe thead th {\n",
              "        text-align: right;\n",
              "    }\n",
              "</style>\n",
              "<table border=\"1\" class=\"dataframe\">\n",
              "  <thead>\n",
              "    <tr style=\"text-align: right;\">\n",
              "      <th></th>\n",
              "      <th>max_leaf_nodes</th>\n",
              "      <th>Training Error</th>\n",
              "      <th>Validation Error</th>\n",
              "    </tr>\n",
              "  </thead>\n",
              "  <tbody>\n",
              "    <tr>\n",
              "      <th>0</th>\n",
              "      <td>2</td>\n",
              "      <td>0.293210</td>\n",
              "      <td>0.319444</td>\n",
              "    </tr>\n",
              "    <tr>\n",
              "      <th>1</th>\n",
              "      <td>3</td>\n",
              "      <td>0.227623</td>\n",
              "      <td>0.206019</td>\n",
              "    </tr>\n",
              "    <tr>\n",
              "      <th>2</th>\n",
              "      <td>4</td>\n",
              "      <td>0.211420</td>\n",
              "      <td>0.199074</td>\n",
              "    </tr>\n",
              "    <tr>\n",
              "      <th>3</th>\n",
              "      <td>5</td>\n",
              "      <td>0.154321</td>\n",
              "      <td>0.148148</td>\n",
              "    </tr>\n",
              "    <tr>\n",
              "      <th>4</th>\n",
              "      <td>6</td>\n",
              "      <td>0.145833</td>\n",
              "      <td>0.159722</td>\n",
              "    </tr>\n",
              "    <tr>\n",
              "      <th>...</th>\n",
              "      <td>...</td>\n",
              "      <td>...</td>\n",
              "      <td>...</td>\n",
              "    </tr>\n",
              "    <tr>\n",
              "      <th>93</th>\n",
              "      <td>95</td>\n",
              "      <td>0.000000</td>\n",
              "      <td>0.034722</td>\n",
              "    </tr>\n",
              "    <tr>\n",
              "      <th>94</th>\n",
              "      <td>96</td>\n",
              "      <td>0.000000</td>\n",
              "      <td>0.034722</td>\n",
              "    </tr>\n",
              "    <tr>\n",
              "      <th>95</th>\n",
              "      <td>97</td>\n",
              "      <td>0.000000</td>\n",
              "      <td>0.034722</td>\n",
              "    </tr>\n",
              "    <tr>\n",
              "      <th>96</th>\n",
              "      <td>98</td>\n",
              "      <td>0.000000</td>\n",
              "      <td>0.034722</td>\n",
              "    </tr>\n",
              "    <tr>\n",
              "      <th>97</th>\n",
              "      <td>99</td>\n",
              "      <td>0.000000</td>\n",
              "      <td>0.034722</td>\n",
              "    </tr>\n",
              "  </tbody>\n",
              "</table>\n",
              "<p>98 rows × 3 columns</p>\n",
              "</div>"
            ],
            "text/plain": [
              "    max_leaf_nodes  Training Error  Validation Error\n",
              "0                2        0.293210          0.319444\n",
              "1                3        0.227623          0.206019\n",
              "2                4        0.211420          0.199074\n",
              "3                5        0.154321          0.148148\n",
              "4                6        0.145833          0.159722\n",
              "..             ...             ...               ...\n",
              "93              95        0.000000          0.034722\n",
              "94              96        0.000000          0.034722\n",
              "95              97        0.000000          0.034722\n",
              "96              98        0.000000          0.034722\n",
              "97              99        0.000000          0.034722\n",
              "\n",
              "[98 rows x 3 columns]"
            ]
          },
          "metadata": {},
          "execution_count": 111
        }
      ]
    },
    {
      "cell_type": "code",
      "metadata": {
        "colab": {
          "base_uri": "https://localhost:8080/",
          "height": 314
        },
        "id": "Nl30meNdPjmO",
        "outputId": "267d1a61-b383-4f2d-89cf-2e63cf01c42d"
      },
      "source": [
        "plt.figure()\n",
        "plt.plot(errors_df['max_leaf_nodes'], errors_df['Training Error'])\n",
        "plt.plot(errors_df['max_leaf_nodes'], errors_df['Validation Error'])\n",
        "plt.title('Training vs. Validation Error')\n",
        "plt.xticks(range(0,21, 2))\n",
        "plt.xlabel('max_leaf_nodes')\n",
        "plt.ylabel('Prediction Error (1 - Accuracy)')\n",
        "plt.legend(['Training', 'Validation'])"
      ],
      "execution_count": 112,
      "outputs": [
        {
          "output_type": "execute_result",
          "data": {
            "text/plain": [
              "<matplotlib.legend.Legend at 0x7fe32ec1e110>"
            ]
          },
          "metadata": {},
          "execution_count": 112
        },
        {
          "output_type": "display_data",
          "data": {
            "image/png": "[encoded data removed]",
            "text/plain": [
              "<Figure size 432x288 with 1 Axes>"
            ]
          },
          "metadata": {
            "needs_background": "light"
          }
        }
      ]
    },
    {
      "cell_type": "markdown",
      "metadata": {
        "id": "wc2ZJ0LTQDf0"
      },
      "source": [
        "**Looking at the two graphs, it is evident that there is no overfitting occuring in the model.** "
      ]
    },
    {
      "cell_type": "markdown",
      "metadata": {
        "id": "lAonJsmnU3CT"
      },
      "source": [
        "**It is hence evident that the Decision tree model with defaultly set parameters is the best model for this given dataset.**"
      ]
    }
  ]
}