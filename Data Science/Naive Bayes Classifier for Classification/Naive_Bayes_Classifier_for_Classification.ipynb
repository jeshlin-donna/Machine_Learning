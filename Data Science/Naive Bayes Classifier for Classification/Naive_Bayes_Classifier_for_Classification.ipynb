{
  "nbformat": 4,
  "nbformat_minor": 0,
  "metadata": {
    "colab": {
      "name": "Naive Bayes Classifier for Classification",
      "provenance": []
    },
    "kernelspec": {
      "name": "python3",
      "display_name": "Python 3"
    },
    "language_info": {
      "name": "python"
    }
  },
  "cells": [
    {
      "cell_type": "markdown",
      "metadata": {
        "id": "WqZRBE9VcdWa"
      },
      "source": [
        "#**Naive Bayes Classifier for Classification**\n",
        "\n",
        "The data considered was extracted from the 1994 Census bureau database by Ronny Kohavi and Barry\n",
        "Becker (Data Mining and Visualization, Silicon Graphics). \n",
        "\n",
        "The key task is to determine whether\n",
        "a person makes over $50K a year. The file adult.csv contains the dataset required to solve the task.\n"
      ]
    },
    {
      "cell_type": "code",
      "metadata": {
        "id": "JwRcMhhycVQg"
      },
      "source": [
        "#importing the basic required libraries\n",
        "import numpy as np\n",
        "import pandas as pd"
      ],
      "execution_count": 1,
      "outputs": []
    },
    {
      "cell_type": "markdown",
      "metadata": {
        "id": "gwxeK9rFdKas"
      },
      "source": [
        "##**Reading data from the given data format(csv file):**"
      ]
    },
    {
      "cell_type": "code",
      "metadata": {
        "colab": {
          "resources": {
            "http://localhost:8080/nbextensions/google.colab/files.js": {
              "data": "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",
              "ok": true,
              "headers": [
                [
                  "content-type",
                  "application/javascript"
                ]
              ],
              "status": 200,
              "status_text": ""
            }
          },
          "base_uri": "https://localhost:8080/",
          "height": 73
        },
        "id": "Vrv7dFXMdQdV",
        "outputId": "bc8dd60e-4e91-453b-f91d-7f58f7c8ed8a"
      },
      "source": [
        "from google.colab import files \n",
        "uploaded= files.upload() #uploading the files"
      ],
      "execution_count": 2,
      "outputs": [
        {
          "output_type": "display_data",
          "data": {
            "text/html": [
              "\n",
              "     <input type=\"file\" id=\"files-579c3441-c647-424b-9c1d-cce1817f8a09\" name=\"files[]\" multiple disabled\n",
              "        style=\"border:none\" />\n",
              "     <output id=\"result-579c3441-c647-424b-9c1d-cce1817f8a09\">\n",
              "      Upload widget is only available when the cell has been executed in the\n",
              "      current browser session. Please rerun this cell to enable.\n",
              "      </output>\n",
              "      <script src=\"/nbextensions/google.colab/files.js\"></script> "
            ],
            "text/plain": [
              "<IPython.core.display.HTML object>"
            ]
          },
          "metadata": {}
        },
        {
          "output_type": "stream",
          "name": "stdout",
          "text": [
            "Saving adult.csv to adult.csv\n"
          ]
        }
      ]
    },
    {
      "cell_type": "code",
      "metadata": {
        "id": "pfjxaJdddZ18"
      },
      "source": [
        "import io\n",
        "#creating dataframes from the csv file\n",
        "df=pd.read_csv(io.BytesIO(uploaded['adult.csv'])) "
      ],
      "execution_count": 3,
      "outputs": []
    },
    {
      "cell_type": "markdown",
      "metadata": {
        "id": "VV1wzEWseU_B"
      },
      "source": [
        "##**Cleaning and Preparing the Data:**"
      ]
    },
    {
      "cell_type": "code",
      "metadata": {
        "colab": {
          "base_uri": "https://localhost:8080/",
          "height": 203
        },
        "id": "bQV52A2NeFzd",
        "outputId": "bfbdafb8-c631-4a94-e42f-0f5021c9ab50"
      },
      "source": [
        "df.head()"
      ],
      "execution_count": 4,
      "outputs": [
        {
          "output_type": "execute_result",
          "data": {
            "text/html": [
              "<div>\n",
              "<style scoped>\n",
              "    .dataframe tbody tr th:only-of-type {\n",
              "        vertical-align: middle;\n",
              "    }\n",
              "\n",
              "    .dataframe tbody tr th {\n",
              "        vertical-align: top;\n",
              "    }\n",
              "\n",
              "    .dataframe thead th {\n",
              "        text-align: right;\n",
              "    }\n",
              "</style>\n",
              "<table border=\"1\" class=\"dataframe\">\n",
              "  <thead>\n",
              "    <tr style=\"text-align: right;\">\n",
              "      <th></th>\n",
              "      <th>39</th>\n",
              "      <th>State-gov</th>\n",
              "      <th>77516</th>\n",
              "      <th>Bachelors</th>\n",
              "      <th>13</th>\n",
              "      <th>Never-married</th>\n",
              "      <th>Adm-clerical</th>\n",
              "      <th>Not-in-family</th>\n",
              "      <th>White</th>\n",
              "      <th>Male</th>\n",
              "      <th>2174</th>\n",
              "      <th>0</th>\n",
              "      <th>40</th>\n",
              "      <th>United-States</th>\n",
              "      <th>&lt;=50K</th>\n",
              "    </tr>\n",
              "  </thead>\n",
              "  <tbody>\n",
              "    <tr>\n",
              "      <th>0</th>\n",
              "      <td>50</td>\n",
              "      <td>Self-emp-not-inc</td>\n",
              "      <td>83311</td>\n",
              "      <td>Bachelors</td>\n",
              "      <td>13</td>\n",
              "      <td>Married-civ-spouse</td>\n",
              "      <td>Exec-managerial</td>\n",
              "      <td>Husband</td>\n",
              "      <td>White</td>\n",
              "      <td>Male</td>\n",
              "      <td>0</td>\n",
              "      <td>0</td>\n",
              "      <td>13</td>\n",
              "      <td>United-States</td>\n",
              "      <td>&lt;=50K</td>\n",
              "    </tr>\n",
              "    <tr>\n",
              "      <th>1</th>\n",
              "      <td>38</td>\n",
              "      <td>Private</td>\n",
              "      <td>215646</td>\n",
              "      <td>HS-grad</td>\n",
              "      <td>9</td>\n",
              "      <td>Divorced</td>\n",
              "      <td>Handlers-cleaners</td>\n",
              "      <td>Not-in-family</td>\n",
              "      <td>White</td>\n",
              "      <td>Male</td>\n",
              "      <td>0</td>\n",
              "      <td>0</td>\n",
              "      <td>40</td>\n",
              "      <td>United-States</td>\n",
              "      <td>&lt;=50K</td>\n",
              "    </tr>\n",
              "    <tr>\n",
              "      <th>2</th>\n",
              "      <td>53</td>\n",
              "      <td>Private</td>\n",
              "      <td>234721</td>\n",
              "      <td>11th</td>\n",
              "      <td>7</td>\n",
              "      <td>Married-civ-spouse</td>\n",
              "      <td>Handlers-cleaners</td>\n",
              "      <td>Husband</td>\n",
              "      <td>Black</td>\n",
              "      <td>Male</td>\n",
              "      <td>0</td>\n",
              "      <td>0</td>\n",
              "      <td>40</td>\n",
              "      <td>United-States</td>\n",
              "      <td>&lt;=50K</td>\n",
              "    </tr>\n",
              "    <tr>\n",
              "      <th>3</th>\n",
              "      <td>28</td>\n",
              "      <td>Private</td>\n",
              "      <td>338409</td>\n",
              "      <td>Bachelors</td>\n",
              "      <td>13</td>\n",
              "      <td>Married-civ-spouse</td>\n",
              "      <td>Prof-specialty</td>\n",
              "      <td>Wife</td>\n",
              "      <td>Black</td>\n",
              "      <td>Female</td>\n",
              "      <td>0</td>\n",
              "      <td>0</td>\n",
              "      <td>40</td>\n",
              "      <td>Cuba</td>\n",
              "      <td>&lt;=50K</td>\n",
              "    </tr>\n",
              "    <tr>\n",
              "      <th>4</th>\n",
              "      <td>37</td>\n",
              "      <td>Private</td>\n",
              "      <td>284582</td>\n",
              "      <td>Masters</td>\n",
              "      <td>14</td>\n",
              "      <td>Married-civ-spouse</td>\n",
              "      <td>Exec-managerial</td>\n",
              "      <td>Wife</td>\n",
              "      <td>White</td>\n",
              "      <td>Female</td>\n",
              "      <td>0</td>\n",
              "      <td>0</td>\n",
              "      <td>40</td>\n",
              "      <td>United-States</td>\n",
              "      <td>&lt;=50K</td>\n",
              "    </tr>\n",
              "  </tbody>\n",
              "</table>\n",
              "</div>"
            ],
            "text/plain": [
              "   39          State-gov   77516   Bachelors  ...  0  40   United-States   <=50K\n",
              "0  50   Self-emp-not-inc   83311   Bachelors  ...  0  13   United-States   <=50K\n",
              "1  38            Private  215646     HS-grad  ...  0  40   United-States   <=50K\n",
              "2  53            Private  234721        11th  ...  0  40   United-States   <=50K\n",
              "3  28            Private  338409   Bachelors  ...  0  40            Cuba   <=50K\n",
              "4  37            Private  284582     Masters  ...  0  40   United-States   <=50K\n",
              "\n",
              "[5 rows x 15 columns]"
            ]
          },
          "metadata": {},
          "execution_count": 4
        }
      ]
    },
    {
      "cell_type": "code",
      "metadata": {
        "colab": {
          "base_uri": "https://localhost:8080/"
        },
        "id": "zC3p3WPTeMip",
        "outputId": "b5ef54df-110e-4de4-acff-71a8d7c3ff64"
      },
      "source": [
        "df.columns"
      ],
      "execution_count": 5,
      "outputs": [
        {
          "output_type": "execute_result",
          "data": {
            "text/plain": [
              "Index(['39', ' State-gov', '77516', ' Bachelors', '13', ' Never-married',\n",
              "       ' Adm-clerical', ' Not-in-family', ' White', ' Male', '2174', '0', '40',\n",
              "       ' United-States', ' <=50K'],\n",
              "      dtype='object')"
            ]
          },
          "metadata": {},
          "execution_count": 5
        }
      ]
    },
    {
      "cell_type": "markdown",
      "metadata": {
        "id": "GEv9iGlRlo0l"
      },
      "source": [
        "###**Renaming the columns/variables  with meaningful column/variable names:**"
      ]
    },
    {
      "cell_type": "code",
      "metadata": {
        "id": "cIsWZFBD-y7K"
      },
      "source": [
        "df.rename(columns={\"39\":\"Age\"},inplace=True)\n",
        "df.rename(columns={\"77516\":\"fnlwgt\"},inplace=True) \n",
        "df.rename(columns={\"13\":\"Years of education\"},inplace=True)\n",
        "df.rename(columns={\" Male\":\"Sex\"},inplace=True)\n",
        "df.rename(columns={\" White\":\"Race\"},inplace=True)\n",
        "df.rename(columns={\"2174\":\"Capital gain\"},inplace=True)\n",
        "df.rename(columns={\"0\":\"Capital loss\"},inplace=True)\n",
        "df.rename(columns={\"40\":\"Working hours per week\"},inplace=True)\n",
        "df.rename(columns={\" Bachelors\":\"Education\"},inplace=True)\n",
        "df.rename(columns={\" State-gov\":\"Work Class\"},inplace=True)\n",
        "df.rename(columns={' Never-married':\"Marital status\"},inplace=True)\n",
        "df.rename(columns={' Adm-clerical':\"Occupation\"},inplace=True)\n",
        "df.rename(columns={' Not-in-family':\"Relationship\"},inplace=True)\n",
        "df.rename(columns={' United-States':\"Native Country\"},inplace=True)"
      ],
      "execution_count": 6,
      "outputs": []
    },
    {
      "cell_type": "markdown",
      "metadata": {
        "id": "uO5mqhHwlWn4"
      },
      "source": [
        "###**Mapping the categorical variable ' <=50K' to numerical values to create a new variable '>50K' :**"
      ]
    },
    {
      "cell_type": "code",
      "metadata": {
        "id": "bwxCKZdsAQKJ"
      },
      "source": [
        "df['>50K'] = df[' <=50K'].map({' <=50K':0, ' >50K':1}) "
      ],
      "execution_count": 7,
      "outputs": []
    },
    {
      "cell_type": "code",
      "metadata": {
        "id": "hHloDN8zk4F7"
      },
      "source": [
        "df=df.drop([' <=50K'],axis=1) #dropping the now redundant ' <=50K' variable"
      ],
      "execution_count": 8,
      "outputs": []
    },
    {
      "cell_type": "markdown",
      "metadata": {
        "id": "53Og47qLl0C6"
      },
      "source": [
        "###**Dealing with incomplete/meaningless data in a few rows:**\n",
        "Few rows were found to be containing the string value ' ?' which had no meaningful inferance/data. Hence, these rows have been removed from our final dataframe."
      ]
    },
    {
      "cell_type": "code",
      "metadata": {
        "id": "NWGDrc1IKQAN"
      },
      "source": [
        "for i in range(0,len(df)):\n",
        "  for variable in df.columns:\n",
        "    try:\n",
        "      if df.loc[i,variable]==' ?':\n",
        "         df.drop(i,axis=0,inplace=True)\n",
        "    except:\n",
        "      pass"
      ],
      "execution_count": 9,
      "outputs": []
    },
    {
      "cell_type": "markdown",
      "metadata": {
        "id": "kUS7REqRlKLc"
      },
      "source": [
        "###**Checking for Missing values in the data:**"
      ]
    },
    {
      "cell_type": "code",
      "metadata": {
        "colab": {
          "base_uri": "https://localhost:8080/",
          "height": 718
        },
        "id": "scq6TxtyeYdt",
        "outputId": "841a62d3-a4f7-4349-c567-fd810e681b6d"
      },
      "source": [
        "import missingno as msno \n",
        "msno.matrix(df) #visualizing the missing data/NaN values in the dataframe"
      ],
      "execution_count": 10,
      "outputs": [
        {
          "output_type": "execute_result",
          "data": {
            "text/plain": [
              "<matplotlib.axes._subplots.AxesSubplot at 0x7f84ac7fa710>"
            ]
          },
          "metadata": {},
          "execution_count": 10
        },
        {
          "output_type": "display_data",
          "data": {
            "image/png": "[encoded data removed]",
            "text/plain": [
              "<Figure size 1800x720 with 2 Axes>"
            ]
          },
          "metadata": {
            "needs_background": "light"
          }
        }
      ]
    },
    {
      "cell_type": "markdown",
      "metadata": {
        "id": "RhbSFLAFeg1r"
      },
      "source": [
        "**Inferance:**\n",
        "* There are no NaN/missing values in the data"
      ]
    },
    {
      "cell_type": "markdown",
      "metadata": {
        "id": "hGaAaUpiaBRG"
      },
      "source": [
        "##**Feature Engineering:**"
      ]
    },
    {
      "cell_type": "code",
      "metadata": {
        "id": "9EyPgN7uxVGZ"
      },
      "source": [
        "import os\n",
        "import torch\n",
        "import torchvision\n",
        "from torch.utils.data import random_split\n",
        "import pandas as pd\n",
        "import matplotlib.pyplot as plt\n",
        "import seaborn as sns\n",
        "%matplotlib inline"
      ],
      "execution_count": 11,
      "outputs": []
    },
    {
      "cell_type": "code",
      "metadata": {
        "id": "qE3Cg6OGN5fk"
      },
      "source": [
        "l=np.array(['Age', 'Years of education',\n",
        "       'Capital gain', 'Capital loss', 'Working hours per week']) #variables contatining quantitative non-categorical data"
      ],
      "execution_count": 12,
      "outputs": []
    },
    {
      "cell_type": "code",
      "metadata": {
        "colab": {
          "base_uri": "https://localhost:8080/",
          "height": 149
        },
        "id": "-JEvXajMNAiT",
        "outputId": "51a1c45e-957a-4765-e163-e8ddd2531cb9"
      },
      "source": [
        "# Plotting a box plot to show the distribution of quantitative data\n",
        "\n",
        "plt.figure(figsize=(500,30))\n",
        "number_of_columns=39\n",
        "number_of_rows = len(l)-1/number_of_columns\n",
        "for i in range(0,len(l)):\n",
        "    plt.subplot(number_of_rows + 1,number_of_columns,i+1)\n",
        "    sns.set_style('whitegrid')\n",
        "    sns.boxplot(x=df[l[i]],y=None,color='green')"
      ],
      "execution_count": 13,
      "outputs": [
        {
          "output_type": "display_data",
          "data": {
            "image/png": "[encoded data removed]",
            "text/plain": [
              "<Figure size 36000x2160 with 5 Axes>"
            ]
          },
          "metadata": {
            "needs_background": "light"
          }
        }
      ]
    },
    {
      "cell_type": "markdown",
      "metadata": {
        "id": "Dpi3duq9nAtD"
      },
      "source": [
        "**Key Inferance usuful for our analysis:**\n",
        "* There are a significant number of outliers found in each column/variable.\n",
        "* From the the box plot of the variable “Working hours per week”, we see that the mean number of working hours per week is around 40 and more than 50% of the people taking part in the survey, work between 40 and 45 hours per week.\n",
        "* From the the box plot of the variable \"Capital gain\" and \"Capital loss\", we see that more than 50% of the variables \"Capital gain\" and \"Capital loss\" are zeros.\n",
        "\n"
      ]
    },
    {
      "cell_type": "markdown",
      "metadata": {
        "id": "-B8QjVeUf-VC"
      },
      "source": [
        "###**1. Creating a new variable called “Working hour level”:**"
      ]
    },
    {
      "cell_type": "markdown",
      "metadata": {
        "id": "WKPCk_7FZSME"
      },
      "source": [
        "From the the box plot of the variable “Working hours per week”, we see that the mean number of working hours per week is around 40 and at least 50% of the people taking part in the survey, work between 40 and 45 hours per week.\n",
        "\n",
        "Therefore, we will group the working hours in 5 categories which we consider relevant:\n",
        "\n",
        "* less than 40 hours per week\n",
        "* between 40 and 45 hours per week\n",
        "* between 45 and 60 hours per week\n",
        "* between 60 and 80 hours per week, and\n",
        "* more than 80 hours per week,\n",
        "\n",
        "and we will create a new factor variable called “Working hour level” with 5 levels corresponding to these 5 categories:"
      ]
    },
    {
      "cell_type": "markdown",
      "metadata": {
        "id": "3ta4Zm3ZbMe_"
      },
      "source": [
        "**Creating a categorical variable “Working hour level” from the variable 'Working hours per week':**\n",
        "\n",
        "And since the categories have a naturally increasing order, they can be converted to numbers (e.g. 1, 2, 3, 4, 5) preserving the order. These are called ordinals."
      ]
    },
    {
      "cell_type": "code",
      "metadata": {
        "id": "We2uivM8Zpgy"
      },
      "source": [
        "for i in df.index:\n",
        "  if df.loc[i,'Working hours per week']<40:\n",
        "    x=1\n",
        "  if df.loc[i,'Working hours per week']>=40 and df.loc[i,'Working hours per week']<=45: # we create the category \" between_40_and_45\" with greater than or equal and less than or equal sign, because we want the range of this category to correspond to the span of the data points between the first and the third quartile.\n",
        "    x=2\n",
        "  if df.loc[i,'Working hours per week']>45 and df.loc[i,'Working hours per week']<=60:\n",
        "    x=3\n",
        "  if df.loc[i,'Working hours per week']>60 and df.loc[i,'Working hours per week']<=80:\n",
        "    x=4\n",
        "  if df.loc[i,'Working hours per week']>80:\n",
        "    x=5\n",
        "\n",
        "  df.loc[i,'Working hour level']=x\n"
      ],
      "execution_count": 14,
      "outputs": []
    },
    {
      "cell_type": "markdown",
      "metadata": {
        "id": "dVhC4cpigK5I"
      },
      "source": [
        "###**2. Creating a new variable called “Native Region”:**"
      ]
    },
    {
      "cell_type": "code",
      "metadata": {
        "colab": {
          "base_uri": "https://localhost:8080/"
        },
        "id": "m1TBVn-RgVj4",
        "outputId": "1aa8d71a-6053-403c-ca26-a0fe7fd5c974"
      },
      "source": [
        "df['Native Country'].nunique()"
      ],
      "execution_count": 15,
      "outputs": [
        {
          "output_type": "execute_result",
          "data": {
            "text/plain": [
              "41"
            ]
          },
          "metadata": {},
          "execution_count": 15
        }
      ]
    },
    {
      "cell_type": "markdown",
      "metadata": {
        "id": "8MEwTUJFgQgM"
      },
      "source": [
        "We can see that the factor variable “Native Country” has 41 different categories. If we build a predictive model with “Native Country” as a covariate, we will end up with 41 additional degrees of freedom due to this categorical variable. This will complicate unnecessarily the analysis and might lead to overfitting. Hence, it is better to group the native countries into several global regions. This coarsening of the data also makes the interpretation of the results easier to comprehend."
      ]
    },
    {
      "cell_type": "markdown",
      "metadata": {
        "id": "qrX2nex2hRID"
      },
      "source": [
        "Below we create the new variable “native_region”, where we group the countries by global regions. We first define the regions:\n",
        "\n",
        "**Asia_East** <- (\" Cambodia\", \" China\", \" Hong\", \" Laos\", \" Thailand\",\n",
        "               \" Japan\", \" Taiwan\", \" Vietnam\")\n",
        "\n",
        "**Asia_Central** <- (\" India\", \" Iran\")\n",
        "\n",
        "**Central_America** <- (\" Cuba\", \" Guatemala\", \" Jamaica\", \" Nicaragua\", \n",
        "                     \" Puerto-Rico\",  \" Dominican-Republic\", \" El-Salvador\", \n",
        "                     \" Haiti\", \" Honduras\", \" Mexico\", \" Trinadad&Tobago\")\n",
        "\n",
        "**South_America** <- (\" Ecuador\", \" Peru\", \" Columbia\")\n",
        "\n",
        "\n",
        "**Europe_West** <- (\" England\", \" Germany\", \" Holand-Netherlands\", \" Ireland\", \n",
        "                 \" France\", \" Greece\", \" Italy\", \" Portugal\", \" Scotland\")\n",
        "\n",
        "**Europe_East** <- (\" Poland\", \" Yugoslavia\", \" Hungary\")"
      ]
    },
    {
      "cell_type": "markdown",
      "metadata": {
        "id": "jgeulEQWg1o-"
      },
      "source": [
        "**Creating a categorical variable “Native Region” from the categorical variable “Native Country”:**"
      ]
    },
    {
      "cell_type": "code",
      "metadata": {
        "id": "fIOCFddZhtA6"
      },
      "source": [
        "Asia_East= (\"Asia_East\",\" Cambodia\", \" China\", \" Hong\", \" Laos\", \" Thailand\", \" Japan\", \" Taiwan\", \" Vietnam\",' Philippines')\n",
        "Asia_Central= (\"Asia_Central\",\" India\", \" Iran\")\n",
        "North_America= (\"North_America\",' United-States',' Outlying-US(Guam-USVI-etc)',' Canada',' United-States',\" Cuba\", \" Guatemala\", \" Jamaica\", \" Nicaragua\", \" Puerto-Rico\", \" Dominican-Republic\", \" El-Salvador\", \" Haiti\", \" Honduras\", \" Mexico\", \" Trinadad&Tobago\")\n",
        "South_America= (\"South_America\",' South',\" Ecuador\", \" Peru\", \" Columbia\")\n",
        "Europe_West= (\"Europe_West\",\" England\", \" Germany\", \" Holand-Netherlands\", \" Ireland\", \" France\", \" Greece\", \" Italy\", \" Portugal\", \" Scotland\")\n",
        "Europe_East= (\"Europe_East\",\" Poland\", \" Yugoslavia\", \" Hungary\")\n",
        "\n",
        "Regions=[Asia_East,Asia_Central,North_America,South_America,Europe_West,Europe_East]"
      ],
      "execution_count": 16,
      "outputs": []
    },
    {
      "cell_type": "code",
      "metadata": {
        "id": "K6lns_g3hMOe"
      },
      "source": [
        "for i in df.index:\n",
        "  for region in Regions:\n",
        "       if df.loc[i,'Native Country'] in region :\n",
        "           df.loc[i,'Native Region']= region[0]"
      ],
      "execution_count": 17,
      "outputs": []
    },
    {
      "cell_type": "code",
      "metadata": {
        "colab": {
          "base_uri": "https://localhost:8080/"
        },
        "id": "jwwyInBejS3c",
        "outputId": "fcce48c2-2e60-4114-a12f-91ad28c56177"
      },
      "source": [
        "df['Native Region'].unique()"
      ],
      "execution_count": 18,
      "outputs": [
        {
          "output_type": "execute_result",
          "data": {
            "text/plain": [
              "array(['North_America', 'Asia_Central', 'Europe_West', 'Asia_East',\n",
              "       'Europe_East', 'South_America'], dtype=object)"
            ]
          },
          "metadata": {},
          "execution_count": 18
        }
      ]
    },
    {
      "cell_type": "code",
      "metadata": {
        "id": "tJRpo9GHqw0S"
      },
      "source": [
        "df.drop(['Native Country'],axis=1,inplace=True) #dropping the now assumably insignificant 'Native Country' variable"
      ],
      "execution_count": 19,
      "outputs": []
    },
    {
      "cell_type": "markdown",
      "metadata": {
        "id": "OPhbqGJ8JS5i"
      },
      "source": [
        "###**3. Creating new variables called \"capital_gain\" and \"capital_loss\":**"
      ]
    },
    {
      "cell_type": "code",
      "metadata": {
        "colab": {
          "base_uri": "https://localhost:8080/"
        },
        "id": "ePvJTriwK_dm",
        "outputId": "a6ab3755-781d-49b8-ad81-f74838bffdb1"
      },
      "source": [
        "len(df[df['Capital gain']==0])/len(df)"
      ],
      "execution_count": 20,
      "outputs": [
        {
          "output_type": "execute_result",
          "data": {
            "text/plain": [
              "0.9158847518318358"
            ]
          },
          "metadata": {},
          "execution_count": 20
        }
      ]
    },
    {
      "cell_type": "code",
      "metadata": {
        "colab": {
          "base_uri": "https://localhost:8080/"
        },
        "id": "wcq5Tw-3L-C2",
        "outputId": "19de4a55-834b-49af-f086-39eb3dd3e612"
      },
      "source": [
        "len(df[df['Capital loss']==0])/len(df)"
      ],
      "execution_count": 21,
      "outputs": [
        {
          "output_type": "execute_result",
          "data": {
            "text/plain": [
              "0.9526872451178674"
            ]
          },
          "metadata": {},
          "execution_count": 21
        }
      ]
    },
    {
      "cell_type": "markdown",
      "metadata": {
        "id": "ICBFVZLzLAFR"
      },
      "source": [
        "* The percentage of zeros in \"Capital gain\" is very big (i.e. approx 91.59%)\n",
        "* and the percentage of zeros in \"Capital loss\" is also very high (i.e. approx 95.27%)"
      ]
    },
    {
      "cell_type": "markdown",
      "metadata": {
        "id": "8711uf36JZ4l"
      },
      "source": [
        "We are going to create two new categorical variables – “cap_gain” and “cap_loss”. We generate the new variables by grouping the existing variables \"Capital gain\" and \"Capital loss\" into three categories. We do this because there are too many zeros in the variables \"Capital gain\" and \"Capital loss\" and this can seriously disrupt the analysis.\n"
      ]
    },
    {
      "cell_type": "code",
      "metadata": {
        "id": "i1Sdl3ldMpFw"
      },
      "source": [
        "nonzero_capital_gain_df= df[df[\"Capital gain\"]!=0]\n",
        "nonzero_capital_loss_df= df[df[\"Capital loss\"]!=0]"
      ],
      "execution_count": 22,
      "outputs": []
    },
    {
      "cell_type": "code",
      "metadata": {
        "colab": {
          "base_uri": "https://localhost:8080/",
          "height": 296
        },
        "id": "BkWh6ctDMpOV",
        "outputId": "c8668eab-e3d0-4e36-f955-f3ebe2201517"
      },
      "source": [
        "sns.set_style('whitegrid')\n",
        "sns.boxplot(x=nonzero_capital_gain_df[\"Capital gain\"],y=None,color='green')"
      ],
      "execution_count": 23,
      "outputs": [
        {
          "output_type": "execute_result",
          "data": {
            "text/plain": [
              "<matplotlib.axes._subplots.AxesSubplot at 0x7f83ae716710>"
            ]
          },
          "metadata": {},
          "execution_count": 23
        },
        {
          "output_type": "display_data",
          "data": {
            "image/png": "[encoded data removed]",
            "text/plain": [
              "<Figure size 432x288 with 1 Axes>"
            ]
          },
          "metadata": {}
        }
      ]
    },
    {
      "cell_type": "markdown",
      "metadata": {
        "id": "8oKSW7hCN_f5"
      },
      "source": [
        "From the box plot we see that, indeed, the bulk of the data is between 3,000 and 15,000 dollars"
      ]
    },
    {
      "cell_type": "code",
      "metadata": {
        "colab": {
          "base_uri": "https://localhost:8080/",
          "height": 297
        },
        "id": "lnEtIBLqMpYD",
        "outputId": "7e9b36fa-2a06-44e0-aedc-ad78e46ca345"
      },
      "source": [
        "sns.histplot(data=nonzero_capital_gain_df, x=\"Capital gain\")"
      ],
      "execution_count": 24,
      "outputs": [
        {
          "output_type": "execute_result",
          "data": {
            "text/plain": [
              "<matplotlib.axes._subplots.AxesSubplot at 0x7f83ae7dab10>"
            ]
          },
          "metadata": {},
          "execution_count": 24
        },
        {
          "output_type": "display_data",
          "data": {
            "image/png": "[encoded data removed]",
            "text/plain": [
              "<Figure size 432x288 with 1 Axes>"
            ]
          },
          "metadata": {}
        }
      ]
    },
    {
      "cell_type": "markdown",
      "metadata": {
        "id": "fqT1URJnOY_O"
      },
      "source": [
        "The histogram confirms once more what we have already established, namely, that the majority of people with positive capital gain have a capital gain between 0 and 25,000 dollars, and there are also about 150 people with capital gain of around 100,000 dollars. We also note that the biggest number of people with positive capital gain are those with about 5,000 dollars."
      ]
    },
    {
      "cell_type": "code",
      "metadata": {
        "colab": {
          "base_uri": "https://localhost:8080/",
          "height": 296
        },
        "id": "_OtIgk7QMpgt",
        "outputId": "296ed2f7-73a0-4bc0-a959-77f1c4ff8560"
      },
      "source": [
        "sns.set_style('whitegrid')\n",
        "sns.boxplot(x=nonzero_capital_loss_df[\"Capital loss\"],y=None,color='green')"
      ],
      "execution_count": 25,
      "outputs": [
        {
          "output_type": "execute_result",
          "data": {
            "text/plain": [
              "<matplotlib.axes._subplots.AxesSubplot at 0x7f83b11da7d0>"
            ]
          },
          "metadata": {},
          "execution_count": 25
        },
        {
          "output_type": "display_data",
          "data": {
            "image/png": "[encoded data removed]",
            "text/plain": [
              "<Figure size 432x288 with 1 Axes>"
            ]
          },
          "metadata": {}
        }
      ]
    },
    {
      "cell_type": "markdown",
      "metadata": {
        "id": "Z-k6owRPOnJP"
      },
      "source": [
        "From the box plot we observe that most values are between 1,700 and 2,000 dollars (as already stated), and there are a lot of outliers represented by the filled black dots. "
      ]
    },
    {
      "cell_type": "code",
      "metadata": {
        "colab": {
          "base_uri": "https://localhost:8080/",
          "height": 296
        },
        "id": "7qs9zMobOmpl",
        "outputId": "499fad44-d9b8-4a19-b77d-04a6c0a348b4"
      },
      "source": [
        "sns.histplot(data=nonzero_capital_loss_df, x=\"Capital loss\")"
      ],
      "execution_count": 26,
      "outputs": [
        {
          "output_type": "execute_result",
          "data": {
            "text/plain": [
              "<matplotlib.axes._subplots.AxesSubplot at 0x7f83ae88c490>"
            ]
          },
          "metadata": {},
          "execution_count": 26
        },
        {
          "output_type": "display_data",
          "data": {
            "image/png": "[encoded data removed]",
            "text/plain": [
              "<Figure size 432x288 with 1 Axes>"
            ]
          },
          "metadata": {}
        }
      ]
    },
    {
      "cell_type": "markdown",
      "metadata": {
        "id": "gOCa9w9KOnpY"
      },
      "source": [
        "From the histogram we also see that the biggest number of people have a capital loss of about 1,875 dollars."
      ]
    },
    {
      "cell_type": "markdown",
      "metadata": {
        "id": "xdWNTnvsMduJ"
      },
      "source": [
        "The box plots and histograms illustrate visually the results of the summary statistics for the nonzero capital gain and capital loss. Based on these results, we will group the values of the variables “capital_loss” and “capital gain” into categories and we will create two new factor variables called “cap_gain” and “cap_loss”. We do the grouping in the following way:\n",
        "\n",
        "Capital gain:\n",
        "\n",
        "* We mark all values of “capital_gain” which are less than the first quartile of the nonzero capital gain (which is equal to 3464) as “Low”; \n",
        "* all values that are between the first and third quartile (between 3464 and 14080) - as “Medium”; \n",
        "* and all values greater than or equal to the third quartile are marked as “High”.\n",
        "\n",
        "Capital loss:\n",
        "\n",
        "* We mark all values of “capital_loss” which are less than the first quartile of the nonzero capital gain (which is equal to 1672) as “Low”; \n",
        "* all values that are between the first and third quartile (between 1672 and 1977) - as “Medium”; \n",
        "* and all values greater than or equal to the third quartile are marked as “High”."
      ]
    },
    {
      "cell_type": "code",
      "metadata": {
        "id": "vu5pN9yPO957"
      },
      "source": [
        "for i in df.index:\n",
        "  if df.loc[i,'Capital gain']<3464:\n",
        "    x=\"low\"\n",
        "  if df.loc[i,'Capital gain']>=3464 and df.loc[i,'Capital gain']<14080:\n",
        "    x=\"medium\"\n",
        "  if df.loc[i,'Capital gain']>=14080:\n",
        "    x=\"high\"\n",
        "\n",
        "  df.loc[i,'capital_gain']=x"
      ],
      "execution_count": 27,
      "outputs": []
    },
    {
      "cell_type": "code",
      "metadata": {
        "id": "RBs6khTWPwja"
      },
      "source": [
        "for i in df.index:\n",
        "  if df.loc[i,'Capital loss']<1672:\n",
        "    x=\"low\"\n",
        "  if df.loc[i,'Capital loss']>=1672 and df.loc[i,'Capital loss']<1977:\n",
        "    x=\"medium\"\n",
        "  if df.loc[i,'Capital loss']>=1977:\n",
        "    x=\"high\"\n",
        "\n",
        "  df.loc[i,'capital_loss']=x"
      ],
      "execution_count": 28,
      "outputs": []
    },
    {
      "cell_type": "code",
      "metadata": {
        "id": "e12fyq52QDdB"
      },
      "source": [
        "df.drop(['Capital gain','Capital loss'],axis=1,inplace=True)"
      ],
      "execution_count": 29,
      "outputs": []
    },
    {
      "cell_type": "markdown",
      "metadata": {
        "id": "1_ZScjsTmFF8"
      },
      "source": [
        "##**Exploratory Data Analysis and Visualization:**"
      ]
    },
    {
      "cell_type": "markdown",
      "metadata": {
        "id": "VfKV7GAhpxpd"
      },
      "source": [
        "**Background Research:** \n",
        "* If two samples have the same(or similar) fnlwgt they have similar characteristics, demographically speaking.\n",
        "* Incorporated self employment: Refers to people who work for themselves in corporate entities. Unincorporated self employment: Refers to people who work for themselves in other legal entities."
      ]
    },
    {
      "cell_type": "code",
      "metadata": {
        "id": "x8JnpdsurVGt"
      },
      "source": [
        "#importing the libraries required for visualization\n",
        "import os\n",
        "import torch\n",
        "import torchvision\n",
        "from torch.utils.data import random_split\n",
        "import pandas as pd\n",
        "import matplotlib.pyplot as plt\n",
        "import seaborn as sns\n",
        "%matplotlib inline"
      ],
      "execution_count": 46,
      "outputs": []
    },
    {
      "cell_type": "code",
      "metadata": {
        "id": "V9LY5A--TNRM"
      },
      "source": [
        "l=np.array(['Age', 'Years of education', 'Working hours per week']) "
      ],
      "execution_count": 31,
      "outputs": []
    },
    {
      "cell_type": "code",
      "metadata": {
        "colab": {
          "base_uri": "https://localhost:8080/",
          "height": 360
        },
        "id": "kyGRo2bsNm2w",
        "outputId": "c42a7bcd-437e-4f89-a38a-f352fc84efa3"
      },
      "source": [
        "#Using Kernel density estimate (kde) for plotting the shape of distributions to check the linearity of variables and look for skewness of features\n",
        "plt.figure(figsize=(500,30))\n",
        "\n",
        "for i in range(0,len(l)):\n",
        "    plt.subplot(number_of_rows + 1,number_of_columns,i+1)\n",
        "    sns.distplot(df[l[i]],kde=True)"
      ],
      "execution_count": 32,
      "outputs": [
        {
          "output_type": "stream",
          "name": "stderr",
          "text": [
            "/usr/local/lib/python3.7/dist-packages/seaborn/distributions.py:2619: FutureWarning: `distplot` is a deprecated function and will be removed in a future version. Please adapt your code to use either `displot` (a figure-level function with similar flexibility) or `histplot` (an axes-level function for histograms).\n",
            "  warnings.warn(msg, FutureWarning)\n",
            "/usr/local/lib/python3.7/dist-packages/seaborn/distributions.py:2619: FutureWarning: `distplot` is a deprecated function and will be removed in a future version. Please adapt your code to use either `displot` (a figure-level function with similar flexibility) or `histplot` (an axes-level function for histograms).\n",
            "  warnings.warn(msg, FutureWarning)\n",
            "/usr/local/lib/python3.7/dist-packages/seaborn/distributions.py:2619: FutureWarning: `distplot` is a deprecated function and will be removed in a future version. Please adapt your code to use either `displot` (a figure-level function with similar flexibility) or `histplot` (an axes-level function for histograms).\n",
            "  warnings.warn(msg, FutureWarning)\n"
          ]
        },
        {
          "output_type": "display_data",
          "data": {
            "image/png": "[encoded data removed]",
            "text/plain": [
              "<Figure size 36000x2160 with 3 Axes>"
            ]
          },
          "metadata": {
            "needs_background": "light"
          }
        }
      ]
    },
    {
      "cell_type": "markdown",
      "metadata": {
        "id": "8fj0p8e3Ag1_"
      },
      "source": [
        "**Inferance:**\n",
        "* Most people in the given dataset are in the age group 20 to 60 years of age.\n",
        "* Most people in the given dataset have about 8.5 years of education.\n",
        "* Most people in the given dataset work about 40 hours per week."
      ]
    },
    {
      "cell_type": "code",
      "metadata": {
        "colab": {
          "base_uri": "https://localhost:8080/",
          "height": 372
        },
        "id": "21g-NTNZDzXC",
        "outputId": "c502c378-5d12-4c21-f6ed-7c40c286cc63"
      },
      "source": [
        "x=df[['Work Class', '>50K']].groupby('Work Class').mean()\n",
        "plt= x.plot(kind='bar')\n",
        "\n",
        "plt.set_xlabel('Work Class')\n",
        "plt.set_ylabel('Probability of making >50k') "
      ],
      "execution_count": 33,
      "outputs": [
        {
          "output_type": "execute_result",
          "data": {
            "text/plain": [
              "Text(0, 0.5, 'Probability of making >50k')"
            ]
          },
          "metadata": {},
          "execution_count": 33
        },
        {
          "output_type": "display_data",
          "data": {
            "image/png": "[encoded data removed]",
            "text/plain": [
              "<Figure size 432x288 with 1 Axes>"
            ]
          },
          "metadata": {
            "needs_background": "light"
          }
        }
      ]
    },
    {
      "cell_type": "markdown",
      "metadata": {
        "id": "j-ZIJelCpZhe"
      },
      "source": [
        "**Inferance:**\n",
        "* People who are employed under 'Incorporated self employment' have the highest probability of making >50K followed by those who's work class is 'Fedral Government'.\n",
        "* People who are employed under the 'Private' work class have the least probability of making >50k. "
      ]
    },
    {
      "cell_type": "code",
      "metadata": {
        "colab": {
          "base_uri": "https://localhost:8080/",
          "height": 357
        },
        "id": "w8v4dtjidF7Z",
        "outputId": "988542ca-921d-48a9-a22c-916a7a2ab331"
      },
      "source": [
        "x=df[['Education', '>50K']].groupby('Education').mean()\n",
        "plt= x.plot(kind='bar')\n",
        "\n",
        "plt.set_xlabel('Education')\n",
        "plt.set_ylabel('Probability of making >50k') "
      ],
      "execution_count": 34,
      "outputs": [
        {
          "output_type": "execute_result",
          "data": {
            "text/plain": [
              "Text(0, 0.5, 'Probability of making >50k')"
            ]
          },
          "metadata": {},
          "execution_count": 34
        },
        {
          "output_type": "display_data",
          "data": {
            "image/png": "[encoded data removed]",
            "text/plain": [
              "<Figure size 432x288 with 1 Axes>"
            ]
          },
          "metadata": {
            "needs_background": "light"
          }
        }
      ]
    },
    {
      "cell_type": "markdown",
      "metadata": {
        "id": "18VsncTlrMrO"
      },
      "source": [
        "**Inferance:**\n",
        "* People who had completed their education upto a Professor-School, Doctorate or Masters degree(in the decreasing order of mention) had a higher probaibility of earning well.\n",
        "* Whereas people who had only completed their education upto the schooling level are expected to make significantly less when compared to the others."
      ]
    },
    {
      "cell_type": "code",
      "metadata": {
        "colab": {
          "base_uri": "https://localhost:8080/",
          "height": 302
        },
        "id": "_CTU7PLFJnoX",
        "outputId": "d2cc0c06-52dd-4a6a-f155-290de4dd79db"
      },
      "source": [
        "x=df[['Working hour level', '>50K']].groupby('Working hour level').mean()\n",
        "plt= x.plot(kind='bar')\n",
        "\n",
        "plt.set_xlabel('Working hour level')\n",
        "plt.set_ylabel('Probability of making >50k') "
      ],
      "execution_count": 35,
      "outputs": [
        {
          "output_type": "execute_result",
          "data": {
            "text/plain": [
              "Text(0, 0.5, 'Probability of making >50k')"
            ]
          },
          "metadata": {},
          "execution_count": 35
        },
        {
          "output_type": "display_data",
          "data": {
            "image/png": "[encoded data removed]",
            "text/plain": [
              "<Figure size 432x288 with 1 Axes>"
            ]
          },
          "metadata": {
            "needs_background": "light"
          }
        }
      ]
    },
    {
      "cell_type": "markdown",
      "metadata": {
        "id": "ZIrbnGlcdZMf"
      },
      "source": [
        "**Inferance:**\n",
        "* People who worked between 45-60(45 not included) hours per week(working hour level 3) had highest probability of making >50k, followed by those who worked between 60-80(60 not included) hours per week(working hour level 4).\n",
        "* Higher working hours does not accurately mean higher payoffs. (i.e. working hour level 5 has lesser probability of paying off well when compared to level 3 and 4)."
      ]
    },
    {
      "cell_type": "code",
      "metadata": {
        "colab": {
          "base_uri": "https://localhost:8080/",
          "height": 408
        },
        "id": "4Cb0MwSkJxYf",
        "outputId": "2e9c0b08-7e0f-4861-8936-678e7e2e69f1"
      },
      "source": [
        "x=df[['Marital status', '>50K']].groupby('Marital status').mean()\n",
        "plt= x.plot(kind='bar')\n",
        "\n",
        "plt.set_xlabel('Marital status')\n",
        "plt.set_ylabel('Probability of making >50k') "
      ],
      "execution_count": 36,
      "outputs": [
        {
          "output_type": "execute_result",
          "data": {
            "text/plain": [
              "Text(0, 0.5, 'Probability of making >50k')"
            ]
          },
          "metadata": {},
          "execution_count": 36
        },
        {
          "output_type": "display_data",
          "data": {
            "image/png": "[encoded data removed]",
            "text/plain": [
              "<Figure size 432x288 with 1 Axes>"
            ]
          },
          "metadata": {
            "needs_background": "light"
          }
        }
      ]
    },
    {
      "cell_type": "markdown",
      "metadata": {
        "id": "CVCvIfq4ruld"
      },
      "source": [
        "**Inferance:**\n",
        "* People who were married to a spouse in the Armed Forces or a civilian spouse had a higher probability of making >50k.\n",
        "* People who were never married had the least of probability."
      ]
    },
    {
      "cell_type": "code",
      "metadata": {
        "colab": {
          "base_uri": "https://localhost:8080/",
          "height": 265
        },
        "id": "dbLZhIA0spd9",
        "outputId": "0ffa69ab-c779-40c7-d133-dcfdd76436a0"
      },
      "source": [
        "df[['Relationship', '>50K']].groupby('Relationship').mean()"
      ],
      "execution_count": 37,
      "outputs": [
        {
          "output_type": "execute_result",
          "data": {
            "text/html": [
              "<div>\n",
              "<style scoped>\n",
              "    .dataframe tbody tr th:only-of-type {\n",
              "        vertical-align: middle;\n",
              "    }\n",
              "\n",
              "    .dataframe tbody tr th {\n",
              "        vertical-align: top;\n",
              "    }\n",
              "\n",
              "    .dataframe thead th {\n",
              "        text-align: right;\n",
              "    }\n",
              "</style>\n",
              "<table border=\"1\" class=\"dataframe\">\n",
              "  <thead>\n",
              "    <tr style=\"text-align: right;\">\n",
              "      <th></th>\n",
              "      <th>&gt;50K</th>\n",
              "    </tr>\n",
              "    <tr>\n",
              "      <th>Relationship</th>\n",
              "      <th></th>\n",
              "    </tr>\n",
              "  </thead>\n",
              "  <tbody>\n",
              "    <tr>\n",
              "      <th>Husband</th>\n",
              "      <td>0.455669</td>\n",
              "    </tr>\n",
              "    <tr>\n",
              "      <th>Not-in-family</th>\n",
              "      <td>0.106537</td>\n",
              "    </tr>\n",
              "    <tr>\n",
              "      <th>Other-relative</th>\n",
              "      <td>0.039370</td>\n",
              "    </tr>\n",
              "    <tr>\n",
              "      <th>Own-child</th>\n",
              "      <td>0.014330</td>\n",
              "    </tr>\n",
              "    <tr>\n",
              "      <th>Unmarried</th>\n",
              "      <td>0.066314</td>\n",
              "    </tr>\n",
              "    <tr>\n",
              "      <th>Wife</th>\n",
              "      <td>0.493599</td>\n",
              "    </tr>\n",
              "  </tbody>\n",
              "</table>\n",
              "</div>"
            ],
            "text/plain": [
              "                     >50K\n",
              "Relationship             \n",
              " Husband         0.455669\n",
              " Not-in-family   0.106537\n",
              " Other-relative  0.039370\n",
              " Own-child       0.014330\n",
              " Unmarried       0.066314\n",
              " Wife            0.493599"
            ]
          },
          "metadata": {},
          "execution_count": 37
        }
      ]
    },
    {
      "cell_type": "code",
      "metadata": {
        "colab": {
          "base_uri": "https://localhost:8080/",
          "height": 358
        },
        "id": "VMZIRIWZM1lh",
        "outputId": "a6d981c4-d490-4e9a-db02-fd4f265a12e9"
      },
      "source": [
        "x=df[['Relationship', '>50K']].groupby('Relationship').mean()\n",
        "plt= x.plot(kind='bar')\n",
        "\n",
        "plt.set_xlabel('Relationship')\n",
        "plt.set_ylabel('Probability of making >50k') "
      ],
      "execution_count": 38,
      "outputs": [
        {
          "output_type": "execute_result",
          "data": {
            "text/plain": [
              "Text(0, 0.5, 'Probability of making >50k')"
            ]
          },
          "metadata": {},
          "execution_count": 38
        },
        {
          "output_type": "display_data",
          "data": {
            "image/png": "[encoded data removed]",
            "text/plain": [
              "<Figure size 432x288 with 1 Axes>"
            ]
          },
          "metadata": {
            "needs_background": "light"
          }
        }
      ]
    },
    {
      "cell_type": "markdown",
      "metadata": {
        "id": "12oFQlSCsdQ3"
      },
      "source": [
        "**Inferance:**\n",
        "* "
      ]
    },
    {
      "cell_type": "code",
      "metadata": {
        "colab": {
          "base_uri": "https://localhost:8080/",
          "height": 381
        },
        "id": "ECDOQoMbJ8C7",
        "outputId": "b255f920-5949-4c1e-bfa7-89c84b6bd718"
      },
      "source": [
        "x=df[['Occupation', '>50K']].groupby('Occupation').mean()\n",
        "plt= x.plot(kind='bar')\n",
        "\n",
        "plt.set_xlabel('Occupation')\n",
        "plt.set_ylabel('Probability of making >50k') "
      ],
      "execution_count": 39,
      "outputs": [
        {
          "output_type": "execute_result",
          "data": {
            "text/plain": [
              "Text(0, 0.5, 'Probability of making >50k')"
            ]
          },
          "metadata": {},
          "execution_count": 39
        },
        {
          "output_type": "display_data",
          "data": {
            "image/png": "[encoded data removed]",
            "text/plain": [
              "<Figure size 432x288 with 1 Axes>"
            ]
          },
          "metadata": {
            "needs_background": "light"
          }
        }
      ]
    },
    {
      "cell_type": "markdown",
      "metadata": {
        "id": "_d5GuXLkDKNz"
      },
      "source": [
        "**Inferance:**\n",
        "* People who were employed as executive managers, professional speciality and protective services made considerably more than the others.\n",
        "* People employed under private house services, machine operations, farmimg, fishing and cleaning services made significantly lesser than the rest."
      ]
    },
    {
      "cell_type": "code",
      "metadata": {
        "colab": {
          "base_uri": "https://localhost:8080/",
          "height": 326
        },
        "id": "2qyv8TNBKXp8",
        "outputId": "eaba2b18-38ca-43a7-a67c-a8f4a879748a"
      },
      "source": [
        "x=df[['Sex', '>50K']].groupby('Sex').mean()\n",
        "plt= x.plot(kind='bar')\n",
        "\n",
        "plt.set_xlabel('Sex')\n",
        "plt.set_ylabel('Probability of making >50k') "
      ],
      "execution_count": 40,
      "outputs": [
        {
          "output_type": "execute_result",
          "data": {
            "text/plain": [
              "Text(0, 0.5, 'Probability of making >50k')"
            ]
          },
          "metadata": {},
          "execution_count": 40
        },
        {
          "output_type": "display_data",
          "data": {
            "image/png": "[encoded data removed]",
            "text/plain": [
              "<Figure size 432x288 with 1 Axes>"
            ]
          },
          "metadata": {
            "needs_background": "light"
          }
        }
      ]
    },
    {
      "cell_type": "markdown",
      "metadata": {
        "id": "QXXKlKh-EikP"
      },
      "source": [
        "**Inferance:**\n",
        "* The probability of men making >50k is found to be much higher than that of female. \n",
        "* This might be due to the fact that in the 1900's women were barely allowed to work, and even if they did they were neither given work in the positions of higher order nor paid equally well as their male counterparts."
      ]
    },
    {
      "cell_type": "code",
      "metadata": {
        "colab": {
          "base_uri": "https://localhost:8080/",
          "height": 390
        },
        "id": "TQNXQdXEKYB-",
        "outputId": "3db9b1e9-3c0e-493b-8d3d-66862f9936ca"
      },
      "source": [
        "x=df[['Race', '>50K']].groupby('Race').mean()\n",
        "plt= x.plot(kind='bar')\n",
        "\n",
        "plt.set_xlabel('Race')\n",
        "plt.set_ylabel('Probability of making >50k') "
      ],
      "execution_count": 41,
      "outputs": [
        {
          "output_type": "execute_result",
          "data": {
            "text/plain": [
              "Text(0, 0.5, 'Probability of making >50k')"
            ]
          },
          "metadata": {},
          "execution_count": 41
        },
        {
          "output_type": "display_data",
          "data": {
            "image/png": "[encoded data removed]",
            "text/plain": [
              "<Figure size 432x288 with 1 Axes>"
            ]
          },
          "metadata": {
            "needs_background": "light"
          }
        }
      ]
    },
    {
      "cell_type": "markdown",
      "metadata": {
        "id": "KY23DoRwJbPK"
      },
      "source": [
        "**Inferance:**\n",
        "* We see that the people belonging to the race 'Asian Pacific Islander' and 'White' have a higher probability of making >50k when compared to the 'Black', 'Indian-American', 'Eskimo' or other groups."
      ]
    },
    {
      "cell_type": "code",
      "metadata": {
        "colab": {
          "base_uri": "https://localhost:8080/",
          "height": 361
        },
        "id": "NqFmgJWXpm5A",
        "outputId": "fb591b5d-939d-4dd6-fc83-bbcd38c00909"
      },
      "source": [
        "x=df[['Native Region', '>50K']].groupby('Native Region').mean()\n",
        "plt= x.plot(kind='bar')\n",
        "\n",
        "plt.set_xlabel('Native Region')\n",
        "plt.set_ylabel('Probability of making >50k') "
      ],
      "execution_count": 42,
      "outputs": [
        {
          "output_type": "execute_result",
          "data": {
            "text/plain": [
              "Text(0, 0.5, 'Probability of making >50k')"
            ]
          },
          "metadata": {},
          "execution_count": 42
        },
        {
          "output_type": "display_data",
          "data": {
            "image/png": "[encoded data removed]",
            "text/plain": [
              "<Figure size 432x288 with 1 Axes>"
            ]
          },
          "metadata": {
            "needs_background": "light"
          }
        }
      ]
    },
    {
      "cell_type": "markdown",
      "metadata": {
        "id": "Bi1YFIApp05V"
      },
      "source": [
        "**Inferance:**\n",
        "* We see that the people natively belonging to Central Asia and Western Europe have the highest probability of making >50k.\n",
        "* Whereas those who's nativity is from Southern America have the least probability of making >50k."
      ]
    },
    {
      "cell_type": "code",
      "metadata": {
        "colab": {
          "base_uri": "https://localhost:8080/",
          "height": 328
        },
        "id": "16Jd4TJ_QWZu",
        "outputId": "66acf475-5634-40c6-9800-b0ce712a90d5"
      },
      "source": [
        "# A capital loss is the loss incurred when a capital asset, such as an investment or real estate, decreases in value. \n",
        "# This loss is not realized until the asset is sold for a price that is lower than the original purchase price.\n",
        "x=df[['capital_loss', '>50K']].groupby('capital_loss').mean()\n",
        "plt= x.plot(kind='bar')\n",
        "\n",
        "plt.set_xlabel('capital_loss')\n",
        "plt.set_ylabel('Probability of making >50k') "
      ],
      "execution_count": 43,
      "outputs": [
        {
          "output_type": "execute_result",
          "data": {
            "text/plain": [
              "Text(0, 0.5, 'Probability of making >50k')"
            ]
          },
          "metadata": {},
          "execution_count": 43
        },
        {
          "output_type": "display_data",
          "data": {
            "image/png": "[encoded data removed]",
            "text/plain": [
              "<Figure size 432x288 with 1 Axes>"
            ]
          },
          "metadata": {
            "needs_background": "light"
          }
        }
      ]
    },
    {
      "cell_type": "code",
      "metadata": {
        "colab": {
          "base_uri": "https://localhost:8080/",
          "height": 328
        },
        "id": "XZ1DsBY5QVrE",
        "outputId": "2717809b-44db-48b0-a9ea-97a42f8198e6"
      },
      "source": [
        "#A capital gain is an increase in the value of an asset or investment resulting from the price appreciation of the asset or investment.\n",
        "x=df[['capital_gain', '>50K']].groupby('capital_gain').mean()\n",
        "plt= x.plot(kind='bar')\n",
        "\n",
        "plt.set_xlabel('capital_gain')\n",
        "plt.set_ylabel('Probability of making >50k') "
      ],
      "execution_count": 44,
      "outputs": [
        {
          "output_type": "execute_result",
          "data": {
            "text/plain": [
              "Text(0, 0.5, 'Probability of making >50k')"
            ]
          },
          "metadata": {},
          "execution_count": 44
        },
        {
          "output_type": "display_data",
          "data": {
            "image/png": "[encoded data removed]",
            "text/plain": [
              "<Figure size 432x288 with 1 Axes>"
            ]
          },
          "metadata": {
            "needs_background": "light"
          }
        }
      ]
    },
    {
      "cell_type": "markdown",
      "metadata": {
        "id": "MTk2fVYAc7tw"
      },
      "source": [
        "**Inferance:**\n",
        "* Those people with a higher capital gain are generally more likely to make >$50k."
      ]
    },
    {
      "cell_type": "code",
      "metadata": {
        "colab": {
          "base_uri": "https://localhost:8080/",
          "height": 295
        },
        "id": "KWKavPrI-Yh6",
        "outputId": "9c0a3c55-6ed6-4dea-939c-9ddf1b4d6efc"
      },
      "source": [
        "ax = sns.kdeplot(df[\"Age\"][df['>50K'] == 1], color=\"darkturquoise\", shade=True)\n",
        "sns.kdeplot(df[\"Age\"][df['>50K'] == 0], color=\"lightcoral\", shade=True)\n",
        "plt.legend(['>50K', '<=50k'])\n",
        "plt.title('Density Plot of Age for people who make over $50K a year and people who do not')\n",
        "ax.set(xlabel='Age')\n",
        "plt.xlim(-10,85)\n",
        "plt.show()"
      ],
      "execution_count": 47,
      "outputs": [
        {
          "output_type": "display_data",
          "data": {
            "image/png": "[encoded data removed]",
            "text/plain": [
              "<Figure size 432x288 with 1 Axes>"
            ]
          },
          "metadata": {
            "needs_background": "light"
          }
        }
      ]
    },
    {
      "cell_type": "markdown",
      "metadata": {
        "id": "DYgsstwdBKpu"
      },
      "source": [
        "**Inferance:**\n",
        "* It can be said to be a general inferance that people who make >50k tend to have older age than those who make <50k."
      ]
    },
    {
      "cell_type": "code",
      "metadata": {
        "colab": {
          "base_uri": "https://localhost:8080/",
          "height": 295
        },
        "id": "fLBoEyC7CP8F",
        "outputId": "04e0c753-f1ee-4606-b1ae-73f1b7ed145b"
      },
      "source": [
        "ax = sns.kdeplot(df['Working hours per week'][df['>50K'] == 1], color=\"darkturquoise\", shade=True)\n",
        "sns.kdeplot(df['Working hours per week'][df['>50K'] == 0], color=\"lightcoral\", shade=True)\n",
        "plt.legend(['>50K', '<=50k'])\n",
        "plt.title('Density Plot of Working hours per week for people who make over $50K a year and people who do not')\n",
        "ax.set(xlabel='Working hours per week')\n",
        "plt.xlim(-10,85)\n",
        "plt.show()"
      ],
      "execution_count": 48,
      "outputs": [
        {
          "output_type": "display_data",
          "data": {
            "image/png": "[encoded data removed]",
            "text/plain": [
              "<Figure size 432x288 with 1 Axes>"
            ]
          },
          "metadata": {
            "needs_background": "light"
          }
        }
      ]
    },
    {
      "cell_type": "code",
      "metadata": {
        "colab": {
          "base_uri": "https://localhost:8080/",
          "height": 295
        },
        "id": "1_n53XAQB1lK",
        "outputId": "d5e515a2-3c12-4c6b-cf1b-2aaf28f3431b"
      },
      "source": [
        "ax = sns.kdeplot(df['Years of education'][df['>50K'] == 1], color=\"darkturquoise\", shade=True)\n",
        "sns.kdeplot(df['Years of education'][df['>50K'] == 0], color=\"lightcoral\", shade=True)\n",
        "plt.legend(['>50K', '<=50k'])\n",
        "plt.title('Density Plot of Years of education for people who make over $50K a year and people who do not')\n",
        "ax.set(xlabel='Years of education')\n",
        "plt.xlim(-10,85)\n",
        "plt.show()"
      ],
      "execution_count": 49,
      "outputs": [
        {
          "output_type": "display_data",
          "data": {
            "image/png": "[encoded data removed]",
            "text/plain": [
              "<Figure size 432x288 with 1 Axes>"
            ]
          },
          "metadata": {
            "needs_background": "light"
          }
        }
      ]
    },
    {
      "cell_type": "markdown",
      "metadata": {
        "id": "LRJ3hcaZB3lN"
      },
      "source": [
        "**Inferance:**\n",
        "* It is a general inferance from the above density plot that those who make >50k have greater number of years of education when compared to those who make <50k."
      ]
    },
    {
      "cell_type": "code",
      "metadata": {
        "colab": {
          "base_uri": "https://localhost:8080/",
          "height": 234
        },
        "id": "h2AL2bnHj40q",
        "outputId": "ca0bf540-2abd-4114-abcc-deb64fc19ba6"
      },
      "source": [
        "corr_matrix = df.corr()\n",
        "corr_matrix"
      ],
      "execution_count": 50,
      "outputs": [
        {
          "output_type": "execute_result",
          "data": {
            "text/html": [
              "<div>\n",
              "<style scoped>\n",
              "    .dataframe tbody tr th:only-of-type {\n",
              "        vertical-align: middle;\n",
              "    }\n",
              "\n",
              "    .dataframe tbody tr th {\n",
              "        vertical-align: top;\n",
              "    }\n",
              "\n",
              "    .dataframe thead th {\n",
              "        text-align: right;\n",
              "    }\n",
              "</style>\n",
              "<table border=\"1\" class=\"dataframe\">\n",
              "  <thead>\n",
              "    <tr style=\"text-align: right;\">\n",
              "      <th></th>\n",
              "      <th>Age</th>\n",
              "      <th>fnlwgt</th>\n",
              "      <th>Years of education</th>\n",
              "      <th>Working hours per week</th>\n",
              "      <th>&gt;50K</th>\n",
              "      <th>Working hour level</th>\n",
              "    </tr>\n",
              "  </thead>\n",
              "  <tbody>\n",
              "    <tr>\n",
              "      <th>Age</th>\n",
              "      <td>1.000000</td>\n",
              "      <td>-0.076511</td>\n",
              "      <td>0.043525</td>\n",
              "      <td>0.101599</td>\n",
              "      <td>0.242000</td>\n",
              "      <td>0.100333</td>\n",
              "    </tr>\n",
              "    <tr>\n",
              "      <th>fnlwgt</th>\n",
              "      <td>-0.076511</td>\n",
              "      <td>1.000000</td>\n",
              "      <td>-0.044954</td>\n",
              "      <td>-0.022889</td>\n",
              "      <td>-0.008978</td>\n",
              "      <td>-0.022610</td>\n",
              "    </tr>\n",
              "    <tr>\n",
              "      <th>Years of education</th>\n",
              "      <td>0.043525</td>\n",
              "      <td>-0.044954</td>\n",
              "      <td>1.000000</td>\n",
              "      <td>0.152528</td>\n",
              "      <td>0.335317</td>\n",
              "      <td>0.145181</td>\n",
              "    </tr>\n",
              "    <tr>\n",
              "      <th>Working hours per week</th>\n",
              "      <td>0.101599</td>\n",
              "      <td>-0.022889</td>\n",
              "      <td>0.152528</td>\n",
              "      <td>1.000000</td>\n",
              "      <td>0.229480</td>\n",
              "      <td>0.905854</td>\n",
              "    </tr>\n",
              "    <tr>\n",
              "      <th>&gt;50K</th>\n",
              "      <td>0.242000</td>\n",
              "      <td>-0.008978</td>\n",
              "      <td>0.335317</td>\n",
              "      <td>0.229480</td>\n",
              "      <td>1.000000</td>\n",
              "      <td>0.234696</td>\n",
              "    </tr>\n",
              "    <tr>\n",
              "      <th>Working hour level</th>\n",
              "      <td>0.100333</td>\n",
              "      <td>-0.022610</td>\n",
              "      <td>0.145181</td>\n",
              "      <td>0.905854</td>\n",
              "      <td>0.234696</td>\n",
              "      <td>1.000000</td>\n",
              "    </tr>\n",
              "  </tbody>\n",
              "</table>\n",
              "</div>"
            ],
            "text/plain": [
              "                             Age    fnlwgt  ...      >50K  Working hour level\n",
              "Age                     1.000000 -0.076511  ...  0.242000            0.100333\n",
              "fnlwgt                 -0.076511  1.000000  ... -0.008978           -0.022610\n",
              "Years of education      0.043525 -0.044954  ...  0.335317            0.145181\n",
              "Working hours per week  0.101599 -0.022889  ...  0.229480            0.905854\n",
              ">50K                    0.242000 -0.008978  ...  1.000000            0.234696\n",
              "Working hour level      0.100333 -0.022610  ...  0.234696            1.000000\n",
              "\n",
              "[6 rows x 6 columns]"
            ]
          },
          "metadata": {},
          "execution_count": 50
        }
      ]
    },
    {
      "cell_type": "code",
      "metadata": {
        "colab": {
          "base_uri": "https://localhost:8080/",
          "height": 397
        },
        "id": "zIHlFRkkj8Sj",
        "outputId": "32746982-20f9-43c6-8d26-cc232c941db5"
      },
      "source": [
        "#Visualizing the correlation matrix using a heatmap in seaborn\n",
        "plt.figure(figsize=(8,4))\n",
        "sns.heatmap(corr_matrix, cmap='YlGnBu',annot=True)"
      ],
      "execution_count": 51,
      "outputs": [
        {
          "output_type": "execute_result",
          "data": {
            "text/plain": [
              "<matplotlib.axes._subplots.AxesSubplot at 0x7f83aad53490>"
            ]
          },
          "metadata": {},
          "execution_count": 51
        },
        {
          "output_type": "display_data",
          "data": {
            "image/png": "[encoded data removed]",
            "text/plain": [
              "<Figure size 576x288 with 2 Axes>"
            ]
          },
          "metadata": {
            "needs_background": "light"
          }
        }
      ]
    },
    {
      "cell_type": "markdown",
      "metadata": {
        "id": "wVeb4kidC3RV"
      },
      "source": [
        "We observe that the correlation between the \"Working hours per week\" and \"Working hour level\" is very high. Hence we remove the former variable to remove redundancy."
      ]
    },
    {
      "cell_type": "code",
      "metadata": {
        "id": "5KYi6XSnC2ld"
      },
      "source": [
        "df.drop('Working hours per week', axis=1,inplace=True)"
      ],
      "execution_count": 52,
      "outputs": []
    },
    {
      "cell_type": "markdown",
      "metadata": {
        "id": "vWNlKrdFeuLA"
      },
      "source": [
        "##**Preprocessing the Data for Analysis:**"
      ]
    },
    {
      "cell_type": "code",
      "metadata": {
        "id": "Yo-ljagzeo1Z"
      },
      "source": [
        "#Identifying the numerical and categorical columns\n",
        "numeric_cols = df.select_dtypes(include=np.number).columns.tolist()\n",
        "categorical_cols = df.select_dtypes('object').columns.tolist()"
      ],
      "execution_count": 53,
      "outputs": []
    },
    {
      "cell_type": "code",
      "metadata": {
        "id": "f9Xfje7Miyey",
        "colab": {
          "base_uri": "https://localhost:8080/"
        },
        "outputId": "a689a9f2-1760-4a2a-9ced-a7079c8a853a"
      },
      "source": [
        "categorical_cols"
      ],
      "execution_count": 54,
      "outputs": [
        {
          "output_type": "execute_result",
          "data": {
            "text/plain": [
              "['Work Class',\n",
              " 'Education',\n",
              " 'Marital status',\n",
              " 'Occupation',\n",
              " 'Relationship',\n",
              " 'Race',\n",
              " 'Sex',\n",
              " 'Native Region',\n",
              " 'capital_gain',\n",
              " 'capital_loss']"
            ]
          },
          "metadata": {},
          "execution_count": 54
        }
      ]
    },
    {
      "cell_type": "markdown",
      "metadata": {
        "id": "tKEYNXBvhTH9"
      },
      "source": [
        "####**Scaling Numeric Features**\n",
        "A good practice is to scale numeric features to a small range of values e.g. \n",
        "(\n",
        "0\n",
        ",\n",
        "1\n",
        ")\n",
        " or \n",
        "(\n",
        "−\n",
        "1\n",
        ",\n",
        "1\n",
        ")\n",
        ". Scaling numeric features ensures that no particular feature has a disproportionate impact on the model's loss. Optimization algorithms also work better in practice with smaller numbers.\n",
        "\n",
        "The numeric columns in our dataset have varying ranges."
      ]
    },
    {
      "cell_type": "code",
      "metadata": {
        "id": "-ckZsNcwhAnE",
        "colab": {
          "base_uri": "https://localhost:8080/",
          "height": 295
        },
        "outputId": "f1e6725f-e23e-445a-ef3e-304c9eb986c5"
      },
      "source": [
        "df[numeric_cols].describe()"
      ],
      "execution_count": 55,
      "outputs": [
        {
          "output_type": "execute_result",
          "data": {
            "text/html": [
              "<div>\n",
              "<style scoped>\n",
              "    .dataframe tbody tr th:only-of-type {\n",
              "        vertical-align: middle;\n",
              "    }\n",
              "\n",
              "    .dataframe tbody tr th {\n",
              "        vertical-align: top;\n",
              "    }\n",
              "\n",
              "    .dataframe thead th {\n",
              "        text-align: right;\n",
              "    }\n",
              "</style>\n",
              "<table border=\"1\" class=\"dataframe\">\n",
              "  <thead>\n",
              "    <tr style=\"text-align: right;\">\n",
              "      <th></th>\n",
              "      <th>Age</th>\n",
              "      <th>fnlwgt</th>\n",
              "      <th>Years of education</th>\n",
              "      <th>&gt;50K</th>\n",
              "      <th>Working hour level</th>\n",
              "    </tr>\n",
              "  </thead>\n",
              "  <tbody>\n",
              "    <tr>\n",
              "      <th>count</th>\n",
              "      <td>30161.000000</td>\n",
              "      <td>3.016100e+04</td>\n",
              "      <td>30161.000000</td>\n",
              "      <td>30161.000000</td>\n",
              "      <td>30161.000000</td>\n",
              "    </tr>\n",
              "    <tr>\n",
              "      <th>mean</th>\n",
              "      <td>38.437883</td>\n",
              "      <td>1.897976e+05</td>\n",
              "      <td>10.121216</td>\n",
              "      <td>0.248931</td>\n",
              "      <td>2.045589</td>\n",
              "    </tr>\n",
              "    <tr>\n",
              "      <th>std</th>\n",
              "      <td>13.134882</td>\n",
              "      <td>1.056527e+05</td>\n",
              "      <td>2.549983</td>\n",
              "      <td>0.432401</td>\n",
              "      <td>0.764435</td>\n",
              "    </tr>\n",
              "    <tr>\n",
              "      <th>min</th>\n",
              "      <td>17.000000</td>\n",
              "      <td>1.376900e+04</td>\n",
              "      <td>1.000000</td>\n",
              "      <td>0.000000</td>\n",
              "      <td>1.000000</td>\n",
              "    </tr>\n",
              "    <tr>\n",
              "      <th>25%</th>\n",
              "      <td>28.000000</td>\n",
              "      <td>1.176280e+05</td>\n",
              "      <td>9.000000</td>\n",
              "      <td>0.000000</td>\n",
              "      <td>2.000000</td>\n",
              "    </tr>\n",
              "    <tr>\n",
              "      <th>50%</th>\n",
              "      <td>37.000000</td>\n",
              "      <td>1.784290e+05</td>\n",
              "      <td>10.000000</td>\n",
              "      <td>0.000000</td>\n",
              "      <td>2.000000</td>\n",
              "    </tr>\n",
              "    <tr>\n",
              "      <th>75%</th>\n",
              "      <td>47.000000</td>\n",
              "      <td>2.376300e+05</td>\n",
              "      <td>13.000000</td>\n",
              "      <td>0.000000</td>\n",
              "      <td>2.000000</td>\n",
              "    </tr>\n",
              "    <tr>\n",
              "      <th>max</th>\n",
              "      <td>90.000000</td>\n",
              "      <td>1.484705e+06</td>\n",
              "      <td>16.000000</td>\n",
              "      <td>1.000000</td>\n",
              "      <td>5.000000</td>\n",
              "    </tr>\n",
              "  </tbody>\n",
              "</table>\n",
              "</div>"
            ],
            "text/plain": [
              "                Age        fnlwgt  ...          >50K  Working hour level\n",
              "count  30161.000000  3.016100e+04  ...  30161.000000        30161.000000\n",
              "mean      38.437883  1.897976e+05  ...      0.248931            2.045589\n",
              "std       13.134882  1.056527e+05  ...      0.432401            0.764435\n",
              "min       17.000000  1.376900e+04  ...      0.000000            1.000000\n",
              "25%       28.000000  1.176280e+05  ...      0.000000            2.000000\n",
              "50%       37.000000  1.784290e+05  ...      0.000000            2.000000\n",
              "75%       47.000000  2.376300e+05  ...      0.000000            2.000000\n",
              "max       90.000000  1.484705e+06  ...      1.000000            5.000000\n",
              "\n",
              "[8 rows x 5 columns]"
            ]
          },
          "metadata": {},
          "execution_count": 55
        }
      ]
    },
    {
      "cell_type": "code",
      "metadata": {
        "id": "qzcXOdp6hnia"
      },
      "source": [
        "from sklearn.preprocessing import MinMaxScaler\n",
        "scaler = MinMaxScaler()\n",
        "\n",
        "scaler.fit(df[numeric_cols])\n",
        "\n",
        "df[numeric_cols] = scaler.transform(df[numeric_cols])"
      ],
      "execution_count": 56,
      "outputs": []
    },
    {
      "cell_type": "code",
      "metadata": {
        "id": "SEu77ntVh3h6",
        "colab": {
          "base_uri": "https://localhost:8080/",
          "height": 295
        },
        "outputId": "8f935e4d-a8e3-4ccd-8afb-57b682a73169"
      },
      "source": [
        "df[numeric_cols].describe()"
      ],
      "execution_count": 57,
      "outputs": [
        {
          "output_type": "execute_result",
          "data": {
            "text/html": [
              "<div>\n",
              "<style scoped>\n",
              "    .dataframe tbody tr th:only-of-type {\n",
              "        vertical-align: middle;\n",
              "    }\n",
              "\n",
              "    .dataframe tbody tr th {\n",
              "        vertical-align: top;\n",
              "    }\n",
              "\n",
              "    .dataframe thead th {\n",
              "        text-align: right;\n",
              "    }\n",
              "</style>\n",
              "<table border=\"1\" class=\"dataframe\">\n",
              "  <thead>\n",
              "    <tr style=\"text-align: right;\">\n",
              "      <th></th>\n",
              "      <th>Age</th>\n",
              "      <th>fnlwgt</th>\n",
              "      <th>Years of education</th>\n",
              "      <th>&gt;50K</th>\n",
              "      <th>Working hour level</th>\n",
              "    </tr>\n",
              "  </thead>\n",
              "  <tbody>\n",
              "    <tr>\n",
              "      <th>count</th>\n",
              "      <td>30161.000000</td>\n",
              "      <td>30161.000000</td>\n",
              "      <td>30161.000000</td>\n",
              "      <td>30161.000000</td>\n",
              "      <td>30161.000000</td>\n",
              "    </tr>\n",
              "    <tr>\n",
              "      <th>mean</th>\n",
              "      <td>0.293670</td>\n",
              "      <td>0.119671</td>\n",
              "      <td>0.608081</td>\n",
              "      <td>0.248931</td>\n",
              "      <td>0.261397</td>\n",
              "    </tr>\n",
              "    <tr>\n",
              "      <th>std</th>\n",
              "      <td>0.179930</td>\n",
              "      <td>0.071827</td>\n",
              "      <td>0.169999</td>\n",
              "      <td>0.432401</td>\n",
              "      <td>0.191109</td>\n",
              "    </tr>\n",
              "    <tr>\n",
              "      <th>min</th>\n",
              "      <td>0.000000</td>\n",
              "      <td>0.000000</td>\n",
              "      <td>0.000000</td>\n",
              "      <td>0.000000</td>\n",
              "      <td>0.000000</td>\n",
              "    </tr>\n",
              "    <tr>\n",
              "      <th>25%</th>\n",
              "      <td>0.150685</td>\n",
              "      <td>0.070607</td>\n",
              "      <td>0.533333</td>\n",
              "      <td>0.000000</td>\n",
              "      <td>0.250000</td>\n",
              "    </tr>\n",
              "    <tr>\n",
              "      <th>50%</th>\n",
              "      <td>0.273973</td>\n",
              "      <td>0.111942</td>\n",
              "      <td>0.600000</td>\n",
              "      <td>0.000000</td>\n",
              "      <td>0.250000</td>\n",
              "    </tr>\n",
              "    <tr>\n",
              "      <th>75%</th>\n",
              "      <td>0.410959</td>\n",
              "      <td>0.152189</td>\n",
              "      <td>0.800000</td>\n",
              "      <td>0.000000</td>\n",
              "      <td>0.250000</td>\n",
              "    </tr>\n",
              "    <tr>\n",
              "      <th>max</th>\n",
              "      <td>1.000000</td>\n",
              "      <td>1.000000</td>\n",
              "      <td>1.000000</td>\n",
              "      <td>1.000000</td>\n",
              "      <td>1.000000</td>\n",
              "    </tr>\n",
              "  </tbody>\n",
              "</table>\n",
              "</div>"
            ],
            "text/plain": [
              "                Age        fnlwgt  ...          >50K  Working hour level\n",
              "count  30161.000000  30161.000000  ...  30161.000000        30161.000000\n",
              "mean       0.293670      0.119671  ...      0.248931            0.261397\n",
              "std        0.179930      0.071827  ...      0.432401            0.191109\n",
              "min        0.000000      0.000000  ...      0.000000            0.000000\n",
              "25%        0.150685      0.070607  ...      0.000000            0.250000\n",
              "50%        0.273973      0.111942  ...      0.000000            0.250000\n",
              "75%        0.410959      0.152189  ...      0.000000            0.250000\n",
              "max        1.000000      1.000000  ...      1.000000            1.000000\n",
              "\n",
              "[8 rows x 5 columns]"
            ]
          },
          "metadata": {},
          "execution_count": 57
        }
      ]
    },
    {
      "cell_type": "markdown",
      "metadata": {
        "id": "vN99mz82h-kV"
      },
      "source": [
        "####**Encoding Categorical Data**\n",
        "Since machine learning models can only be trained with numeric data, we need to convert categorical data to numbers. A common technique is to use one-hot encoding for categorical columns.\n",
        "\n",
        "One hot encoding involves adding a new binary (0/1) column for each unique category of a categorical column."
      ]
    },
    {
      "cell_type": "code",
      "metadata": {
        "id": "7YPgF3hXhGjE",
        "colab": {
          "base_uri": "https://localhost:8080/"
        },
        "outputId": "31157893-d3dc-481e-fe08-2acb6b9b879f"
      },
      "source": [
        "df[categorical_cols].nunique()"
      ],
      "execution_count": 58,
      "outputs": [
        {
          "output_type": "execute_result",
          "data": {
            "text/plain": [
              "Work Class         7\n",
              "Education         16\n",
              "Marital status     7\n",
              "Occupation        14\n",
              "Relationship       6\n",
              "Race               5\n",
              "Sex                2\n",
              "Native Region      6\n",
              "capital_gain       3\n",
              "capital_loss       3\n",
              "dtype: int64"
            ]
          },
          "metadata": {},
          "execution_count": 58
        }
      ]
    },
    {
      "cell_type": "code",
      "metadata": {
        "id": "_PFdsK_UiEJY",
        "colab": {
          "base_uri": "https://localhost:8080/"
        },
        "outputId": "84c7e60e-fc17-4cd5-d8c1-ac75bce1378a"
      },
      "source": [
        "from sklearn.preprocessing import OneHotEncoder\n",
        "\n",
        "encoder = OneHotEncoder(sparse=False, handle_unknown='ignore')\n",
        "\n",
        "encoder.fit(df[categorical_cols])"
      ],
      "execution_count": 59,
      "outputs": [
        {
          "output_type": "execute_result",
          "data": {
            "text/plain": [
              "OneHotEncoder(categories='auto', drop=None, dtype=<class 'numpy.float64'>,\n",
              "              handle_unknown='ignore', sparse=False)"
            ]
          },
          "metadata": {},
          "execution_count": 59
        }
      ]
    },
    {
      "cell_type": "code",
      "metadata": {
        "id": "fTaLs9UciNxD",
        "colab": {
          "base_uri": "https://localhost:8080/"
        },
        "outputId": "7ed4f9a4-fce5-4df6-bc15-1c86b5092cee"
      },
      "source": [
        "encoder.categories_"
      ],
      "execution_count": 60,
      "outputs": [
        {
          "output_type": "execute_result",
          "data": {
            "text/plain": [
              "[array([' Federal-gov', ' Local-gov', ' Private', ' Self-emp-inc',\n",
              "        ' Self-emp-not-inc', ' State-gov', ' Without-pay'], dtype=object),\n",
              " array([' 10th', ' 11th', ' 12th', ' 1st-4th', ' 5th-6th', ' 7th-8th',\n",
              "        ' 9th', ' Assoc-acdm', ' Assoc-voc', ' Bachelors', ' Doctorate',\n",
              "        ' HS-grad', ' Masters', ' Preschool', ' Prof-school',\n",
              "        ' Some-college'], dtype=object),\n",
              " array([' Divorced', ' Married-AF-spouse', ' Married-civ-spouse',\n",
              "        ' Married-spouse-absent', ' Never-married', ' Separated',\n",
              "        ' Widowed'], dtype=object),\n",
              " array([' Adm-clerical', ' Armed-Forces', ' Craft-repair',\n",
              "        ' Exec-managerial', ' Farming-fishing', ' Handlers-cleaners',\n",
              "        ' Machine-op-inspct', ' Other-service', ' Priv-house-serv',\n",
              "        ' Prof-specialty', ' Protective-serv', ' Sales', ' Tech-support',\n",
              "        ' Transport-moving'], dtype=object),\n",
              " array([' Husband', ' Not-in-family', ' Other-relative', ' Own-child',\n",
              "        ' Unmarried', ' Wife'], dtype=object),\n",
              " array([' Amer-Indian-Eskimo', ' Asian-Pac-Islander', ' Black', ' Other',\n",
              "        ' White'], dtype=object),\n",
              " array([' Female', ' Male'], dtype=object),\n",
              " array(['Asia_Central', 'Asia_East', 'Europe_East', 'Europe_West',\n",
              "        'North_America', 'South_America'], dtype=object),\n",
              " array(['high', 'low', 'medium'], dtype=object),\n",
              " array(['high', 'low', 'medium'], dtype=object)]"
            ]
          },
          "metadata": {},
          "execution_count": 60
        }
      ]
    },
    {
      "cell_type": "code",
      "metadata": {
        "id": "-igApmixiST-",
        "colab": {
          "base_uri": "https://localhost:8080/"
        },
        "outputId": "517418a5-2bba-4b26-d094-745f5470c83a"
      },
      "source": [
        "encoded_cols = list(encoder.get_feature_names(categorical_cols))\n",
        "print(encoded_cols)"
      ],
      "execution_count": 61,
      "outputs": [
        {
          "output_type": "stream",
          "name": "stdout",
          "text": [
            "['Work Class_ Federal-gov', 'Work Class_ Local-gov', 'Work Class_ Private', 'Work Class_ Self-emp-inc', 'Work Class_ Self-emp-not-inc', 'Work Class_ State-gov', 'Work Class_ Without-pay', 'Education_ 10th', 'Education_ 11th', 'Education_ 12th', 'Education_ 1st-4th', 'Education_ 5th-6th', 'Education_ 7th-8th', 'Education_ 9th', 'Education_ Assoc-acdm', 'Education_ Assoc-voc', 'Education_ Bachelors', 'Education_ Doctorate', 'Education_ HS-grad', 'Education_ Masters', 'Education_ Preschool', 'Education_ Prof-school', 'Education_ Some-college', 'Marital status_ Divorced', 'Marital status_ Married-AF-spouse', 'Marital status_ Married-civ-spouse', 'Marital status_ Married-spouse-absent', 'Marital status_ Never-married', 'Marital status_ Separated', 'Marital status_ Widowed', 'Occupation_ Adm-clerical', 'Occupation_ Armed-Forces', 'Occupation_ Craft-repair', 'Occupation_ Exec-managerial', 'Occupation_ Farming-fishing', 'Occupation_ Handlers-cleaners', 'Occupation_ Machine-op-inspct', 'Occupation_ Other-service', 'Occupation_ Priv-house-serv', 'Occupation_ Prof-specialty', 'Occupation_ Protective-serv', 'Occupation_ Sales', 'Occupation_ Tech-support', 'Occupation_ Transport-moving', 'Relationship_ Husband', 'Relationship_ Not-in-family', 'Relationship_ Other-relative', 'Relationship_ Own-child', 'Relationship_ Unmarried', 'Relationship_ Wife', 'Race_ Amer-Indian-Eskimo', 'Race_ Asian-Pac-Islander', 'Race_ Black', 'Race_ Other', 'Race_ White', 'Sex_ Female', 'Sex_ Male', 'Native Region_Asia_Central', 'Native Region_Asia_East', 'Native Region_Europe_East', 'Native Region_Europe_West', 'Native Region_North_America', 'Native Region_South_America', 'capital_gain_high', 'capital_gain_low', 'capital_gain_medium', 'capital_loss_high', 'capital_loss_low', 'capital_loss_medium']\n"
          ]
        }
      ]
    },
    {
      "cell_type": "code",
      "metadata": {
        "id": "ZqduiPQDiYHQ"
      },
      "source": [
        "df[encoded_cols] = encoder.transform(df[categorical_cols])"
      ],
      "execution_count": 62,
      "outputs": []
    },
    {
      "cell_type": "code",
      "metadata": {
        "id": "KLHBl94mocIA",
        "colab": {
          "base_uri": "https://localhost:8080/"
        },
        "outputId": "f8df7d39-8dfa-4b58-df01-71867bfa1f28"
      },
      "source": [
        "df.columns"
      ],
      "execution_count": 63,
      "outputs": [
        {
          "output_type": "execute_result",
          "data": {
            "text/plain": [
              "Index(['Age', 'Work Class', 'fnlwgt', 'Education', 'Years of education',\n",
              "       'Marital status', 'Occupation', 'Relationship', 'Race', 'Sex', '>50K',\n",
              "       'Working hour level', 'Native Region', 'capital_gain', 'capital_loss',\n",
              "       'Work Class_ Federal-gov', 'Work Class_ Local-gov',\n",
              "       'Work Class_ Private', 'Work Class_ Self-emp-inc',\n",
              "       'Work Class_ Self-emp-not-inc', 'Work Class_ State-gov',\n",
              "       'Work Class_ Without-pay', 'Education_ 10th', 'Education_ 11th',\n",
              "       'Education_ 12th', 'Education_ 1st-4th', 'Education_ 5th-6th',\n",
              "       'Education_ 7th-8th', 'Education_ 9th', 'Education_ Assoc-acdm',\n",
              "       'Education_ Assoc-voc', 'Education_ Bachelors', 'Education_ Doctorate',\n",
              "       'Education_ HS-grad', 'Education_ Masters', 'Education_ Preschool',\n",
              "       'Education_ Prof-school', 'Education_ Some-college',\n",
              "       'Marital status_ Divorced', 'Marital status_ Married-AF-spouse',\n",
              "       'Marital status_ Married-civ-spouse',\n",
              "       'Marital status_ Married-spouse-absent',\n",
              "       'Marital status_ Never-married', 'Marital status_ Separated',\n",
              "       'Marital status_ Widowed', 'Occupation_ Adm-clerical',\n",
              "       'Occupation_ Armed-Forces', 'Occupation_ Craft-repair',\n",
              "       'Occupation_ Exec-managerial', 'Occupation_ Farming-fishing',\n",
              "       'Occupation_ Handlers-cleaners', 'Occupation_ Machine-op-inspct',\n",
              "       'Occupation_ Other-service', 'Occupation_ Priv-house-serv',\n",
              "       'Occupation_ Prof-specialty', 'Occupation_ Protective-serv',\n",
              "       'Occupation_ Sales', 'Occupation_ Tech-support',\n",
              "       'Occupation_ Transport-moving', 'Relationship_ Husband',\n",
              "       'Relationship_ Not-in-family', 'Relationship_ Other-relative',\n",
              "       'Relationship_ Own-child', 'Relationship_ Unmarried',\n",
              "       'Relationship_ Wife', 'Race_ Amer-Indian-Eskimo',\n",
              "       'Race_ Asian-Pac-Islander', 'Race_ Black', 'Race_ Other', 'Race_ White',\n",
              "       'Sex_ Female', 'Sex_ Male', 'Native Region_Asia_Central',\n",
              "       'Native Region_Asia_East', 'Native Region_Europe_East',\n",
              "       'Native Region_Europe_West', 'Native Region_North_America',\n",
              "       'Native Region_South_America', 'capital_gain_high', 'capital_gain_low',\n",
              "       'capital_gain_medium', 'capital_loss_high', 'capital_loss_low',\n",
              "       'capital_loss_medium'],\n",
              "      dtype='object')"
            ]
          },
          "metadata": {},
          "execution_count": 63
        }
      ]
    },
    {
      "cell_type": "code",
      "metadata": {
        "id": "ZnJyPv_aijXE"
      },
      "source": [
        "df=df.drop(categorical_cols, axis = 1)"
      ],
      "execution_count": 64,
      "outputs": []
    },
    {
      "cell_type": "code",
      "metadata": {
        "id": "b5cngQhgiby-",
        "colab": {
          "base_uri": "https://localhost:8080/",
          "height": 307
        },
        "outputId": "7221f776-2dca-475d-99f3-15cd516c3b87"
      },
      "source": [
        "df.head()"
      ],
      "execution_count": 65,
      "outputs": [
        {
          "output_type": "execute_result",
          "data": {
            "text/html": [
              "<div>\n",
              "<style scoped>\n",
              "    .dataframe tbody tr th:only-of-type {\n",
              "        vertical-align: middle;\n",
              "    }\n",
              "\n",
              "    .dataframe tbody tr th {\n",
              "        vertical-align: top;\n",
              "    }\n",
              "\n",
              "    .dataframe thead th {\n",
              "        text-align: right;\n",
              "    }\n",
              "</style>\n",
              "<table border=\"1\" class=\"dataframe\">\n",
              "  <thead>\n",
              "    <tr style=\"text-align: right;\">\n",
              "      <th></th>\n",
              "      <th>Age</th>\n",
              "      <th>fnlwgt</th>\n",
              "      <th>Years of education</th>\n",
              "      <th>&gt;50K</th>\n",
              "      <th>Working hour level</th>\n",
              "      <th>Work Class_ Federal-gov</th>\n",
              "      <th>Work Class_ Local-gov</th>\n",
              "      <th>Work Class_ Private</th>\n",
              "      <th>Work Class_ Self-emp-inc</th>\n",
              "      <th>Work Class_ Self-emp-not-inc</th>\n",
              "      <th>Work Class_ State-gov</th>\n",
              "      <th>Work Class_ Without-pay</th>\n",
              "      <th>Education_ 10th</th>\n",
              "      <th>Education_ 11th</th>\n",
              "      <th>Education_ 12th</th>\n",
              "      <th>Education_ 1st-4th</th>\n",
              "      <th>Education_ 5th-6th</th>\n",
              "      <th>Education_ 7th-8th</th>\n",
              "      <th>Education_ 9th</th>\n",
              "      <th>Education_ Assoc-acdm</th>\n",
              "      <th>Education_ Assoc-voc</th>\n",
              "      <th>Education_ Bachelors</th>\n",
              "      <th>Education_ Doctorate</th>\n",
              "      <th>Education_ HS-grad</th>\n",
              "      <th>Education_ Masters</th>\n",
              "      <th>Education_ Preschool</th>\n",
              "      <th>Education_ Prof-school</th>\n",
              "      <th>Education_ Some-college</th>\n",
              "      <th>Marital status_ Divorced</th>\n",
              "      <th>Marital status_ Married-AF-spouse</th>\n",
              "      <th>Marital status_ Married-civ-spouse</th>\n",
              "      <th>Marital status_ Married-spouse-absent</th>\n",
              "      <th>Marital status_ Never-married</th>\n",
              "      <th>Marital status_ Separated</th>\n",
              "      <th>Marital status_ Widowed</th>\n",
              "      <th>Occupation_ Adm-clerical</th>\n",
              "      <th>Occupation_ Armed-Forces</th>\n",
              "      <th>Occupation_ Craft-repair</th>\n",
              "      <th>Occupation_ Exec-managerial</th>\n",
              "      <th>Occupation_ Farming-fishing</th>\n",
              "      <th>Occupation_ Handlers-cleaners</th>\n",
              "      <th>Occupation_ Machine-op-inspct</th>\n",
              "      <th>Occupation_ Other-service</th>\n",
              "      <th>Occupation_ Priv-house-serv</th>\n",
              "      <th>Occupation_ Prof-specialty</th>\n",
              "      <th>Occupation_ Protective-serv</th>\n",
              "      <th>Occupation_ Sales</th>\n",
              "      <th>Occupation_ Tech-support</th>\n",
              "      <th>Occupation_ Transport-moving</th>\n",
              "      <th>Relationship_ Husband</th>\n",
              "      <th>Relationship_ Not-in-family</th>\n",
              "      <th>Relationship_ Other-relative</th>\n",
              "      <th>Relationship_ Own-child</th>\n",
              "      <th>Relationship_ Unmarried</th>\n",
              "      <th>Relationship_ Wife</th>\n",
              "      <th>Race_ Amer-Indian-Eskimo</th>\n",
              "      <th>Race_ Asian-Pac-Islander</th>\n",
              "      <th>Race_ Black</th>\n",
              "      <th>Race_ Other</th>\n",
              "      <th>Race_ White</th>\n",
              "      <th>Sex_ Female</th>\n",
              "      <th>Sex_ Male</th>\n",
              "      <th>Native Region_Asia_Central</th>\n",
              "      <th>Native Region_Asia_East</th>\n",
              "      <th>Native Region_Europe_East</th>\n",
              "      <th>Native Region_Europe_West</th>\n",
              "      <th>Native Region_North_America</th>\n",
              "      <th>Native Region_South_America</th>\n",
              "      <th>capital_gain_high</th>\n",
              "      <th>capital_gain_low</th>\n",
              "      <th>capital_gain_medium</th>\n",
              "      <th>capital_loss_high</th>\n",
              "      <th>capital_loss_low</th>\n",
              "      <th>capital_loss_medium</th>\n",
              "    </tr>\n",
              "  </thead>\n",
              "  <tbody>\n",
              "    <tr>\n",
              "      <th>0</th>\n",
              "      <td>0.452055</td>\n",
              "      <td>0.047277</td>\n",
              "      <td>0.800000</td>\n",
              "      <td>0.0</td>\n",
              "      <td>0.00</td>\n",
              "      <td>0.0</td>\n",
              "      <td>0.0</td>\n",
              "      <td>0.0</td>\n",
              "      <td>0.0</td>\n",
              "      <td>1.0</td>\n",
              "      <td>0.0</td>\n",
              "      <td>0.0</td>\n",
              "      <td>0.0</td>\n",
              "      <td>0.0</td>\n",
              "      <td>0.0</td>\n",
              "      <td>0.0</td>\n",
              "      <td>0.0</td>\n",
              "      <td>0.0</td>\n",
              "      <td>0.0</td>\n",
              "      <td>0.0</td>\n",
              "      <td>0.0</td>\n",
              "      <td>1.0</td>\n",
              "      <td>0.0</td>\n",
              "      <td>0.0</td>\n",
              "      <td>0.0</td>\n",
              "      <td>0.0</td>\n",
              "      <td>0.0</td>\n",
              "      <td>0.0</td>\n",
              "      <td>0.0</td>\n",
              "      <td>0.0</td>\n",
              "      <td>1.0</td>\n",
              "      <td>0.0</td>\n",
              "      <td>0.0</td>\n",
              "      <td>0.0</td>\n",
              "      <td>0.0</td>\n",
              "      <td>0.0</td>\n",
              "      <td>0.0</td>\n",
              "      <td>0.0</td>\n",
              "      <td>1.0</td>\n",
              "      <td>0.0</td>\n",
              "      <td>0.0</td>\n",
              "      <td>0.0</td>\n",
              "      <td>0.0</td>\n",
              "      <td>0.0</td>\n",
              "      <td>0.0</td>\n",
              "      <td>0.0</td>\n",
              "      <td>0.0</td>\n",
              "      <td>0.0</td>\n",
              "      <td>0.0</td>\n",
              "      <td>1.0</td>\n",
              "      <td>0.0</td>\n",
              "      <td>0.0</td>\n",
              "      <td>0.0</td>\n",
              "      <td>0.0</td>\n",
              "      <td>0.0</td>\n",
              "      <td>0.0</td>\n",
              "      <td>0.0</td>\n",
              "      <td>0.0</td>\n",
              "      <td>0.0</td>\n",
              "      <td>1.0</td>\n",
              "      <td>0.0</td>\n",
              "      <td>1.0</td>\n",
              "      <td>0.0</td>\n",
              "      <td>0.0</td>\n",
              "      <td>0.0</td>\n",
              "      <td>0.0</td>\n",
              "      <td>1.0</td>\n",
              "      <td>0.0</td>\n",
              "      <td>0.0</td>\n",
              "      <td>1.0</td>\n",
              "      <td>0.0</td>\n",
              "      <td>0.0</td>\n",
              "      <td>1.0</td>\n",
              "      <td>0.0</td>\n",
              "    </tr>\n",
              "    <tr>\n",
              "      <th>1</th>\n",
              "      <td>0.287671</td>\n",
              "      <td>0.137244</td>\n",
              "      <td>0.533333</td>\n",
              "      <td>0.0</td>\n",
              "      <td>0.25</td>\n",
              "      <td>0.0</td>\n",
              "      <td>0.0</td>\n",
              "      <td>1.0</td>\n",
              "      <td>0.0</td>\n",
              "      <td>0.0</td>\n",
              "      <td>0.0</td>\n",
              "      <td>0.0</td>\n",
              "      <td>0.0</td>\n",
              "      <td>0.0</td>\n",
              "      <td>0.0</td>\n",
              "      <td>0.0</td>\n",
              "      <td>0.0</td>\n",
              "      <td>0.0</td>\n",
              "      <td>0.0</td>\n",
              "      <td>0.0</td>\n",
              "      <td>0.0</td>\n",
              "      <td>0.0</td>\n",
              "      <td>0.0</td>\n",
              "      <td>1.0</td>\n",
              "      <td>0.0</td>\n",
              "      <td>0.0</td>\n",
              "      <td>0.0</td>\n",
              "      <td>0.0</td>\n",
              "      <td>1.0</td>\n",
              "      <td>0.0</td>\n",
              "      <td>0.0</td>\n",
              "      <td>0.0</td>\n",
              "      <td>0.0</td>\n",
              "      <td>0.0</td>\n",
              "      <td>0.0</td>\n",
              "      <td>0.0</td>\n",
              "      <td>0.0</td>\n",
              "      <td>0.0</td>\n",
              "      <td>0.0</td>\n",
              "      <td>0.0</td>\n",
              "      <td>1.0</td>\n",
              "      <td>0.0</td>\n",
              "      <td>0.0</td>\n",
              "      <td>0.0</td>\n",
              "      <td>0.0</td>\n",
              "      <td>0.0</td>\n",
              "      <td>0.0</td>\n",
              "      <td>0.0</td>\n",
              "      <td>0.0</td>\n",
              "      <td>0.0</td>\n",
              "      <td>1.0</td>\n",
              "      <td>0.0</td>\n",
              "      <td>0.0</td>\n",
              "      <td>0.0</td>\n",
              "      <td>0.0</td>\n",
              "      <td>0.0</td>\n",
              "      <td>0.0</td>\n",
              "      <td>0.0</td>\n",
              "      <td>0.0</td>\n",
              "      <td>1.0</td>\n",
              "      <td>0.0</td>\n",
              "      <td>1.0</td>\n",
              "      <td>0.0</td>\n",
              "      <td>0.0</td>\n",
              "      <td>0.0</td>\n",
              "      <td>0.0</td>\n",
              "      <td>1.0</td>\n",
              "      <td>0.0</td>\n",
              "      <td>0.0</td>\n",
              "      <td>1.0</td>\n",
              "      <td>0.0</td>\n",
              "      <td>0.0</td>\n",
              "      <td>1.0</td>\n",
              "      <td>0.0</td>\n",
              "    </tr>\n",
              "    <tr>\n",
              "      <th>2</th>\n",
              "      <td>0.493151</td>\n",
              "      <td>0.150212</td>\n",
              "      <td>0.400000</td>\n",
              "      <td>0.0</td>\n",
              "      <td>0.25</td>\n",
              "      <td>0.0</td>\n",
              "      <td>0.0</td>\n",
              "      <td>1.0</td>\n",
              "      <td>0.0</td>\n",
              "      <td>0.0</td>\n",
              "      <td>0.0</td>\n",
              "      <td>0.0</td>\n",
              "      <td>0.0</td>\n",
              "      <td>1.0</td>\n",
              "      <td>0.0</td>\n",
              "      <td>0.0</td>\n",
              "      <td>0.0</td>\n",
              "      <td>0.0</td>\n",
              "      <td>0.0</td>\n",
              "      <td>0.0</td>\n",
              "      <td>0.0</td>\n",
              "      <td>0.0</td>\n",
              "      <td>0.0</td>\n",
              "      <td>0.0</td>\n",
              "      <td>0.0</td>\n",
              "      <td>0.0</td>\n",
              "      <td>0.0</td>\n",
              "      <td>0.0</td>\n",
              "      <td>0.0</td>\n",
              "      <td>0.0</td>\n",
              "      <td>1.0</td>\n",
              "      <td>0.0</td>\n",
              "      <td>0.0</td>\n",
              "      <td>0.0</td>\n",
              "      <td>0.0</td>\n",
              "      <td>0.0</td>\n",
              "      <td>0.0</td>\n",
              "      <td>0.0</td>\n",
              "      <td>0.0</td>\n",
              "      <td>0.0</td>\n",
              "      <td>1.0</td>\n",
              "      <td>0.0</td>\n",
              "      <td>0.0</td>\n",
              "      <td>0.0</td>\n",
              "      <td>0.0</td>\n",
              "      <td>0.0</td>\n",
              "      <td>0.0</td>\n",
              "      <td>0.0</td>\n",
              "      <td>0.0</td>\n",
              "      <td>1.0</td>\n",
              "      <td>0.0</td>\n",
              "      <td>0.0</td>\n",
              "      <td>0.0</td>\n",
              "      <td>0.0</td>\n",
              "      <td>0.0</td>\n",
              "      <td>0.0</td>\n",
              "      <td>0.0</td>\n",
              "      <td>1.0</td>\n",
              "      <td>0.0</td>\n",
              "      <td>0.0</td>\n",
              "      <td>0.0</td>\n",
              "      <td>1.0</td>\n",
              "      <td>0.0</td>\n",
              "      <td>0.0</td>\n",
              "      <td>0.0</td>\n",
              "      <td>0.0</td>\n",
              "      <td>1.0</td>\n",
              "      <td>0.0</td>\n",
              "      <td>0.0</td>\n",
              "      <td>1.0</td>\n",
              "      <td>0.0</td>\n",
              "      <td>0.0</td>\n",
              "      <td>1.0</td>\n",
              "      <td>0.0</td>\n",
              "    </tr>\n",
              "    <tr>\n",
              "      <th>3</th>\n",
              "      <td>0.150685</td>\n",
              "      <td>0.220703</td>\n",
              "      <td>0.800000</td>\n",
              "      <td>0.0</td>\n",
              "      <td>0.25</td>\n",
              "      <td>0.0</td>\n",
              "      <td>0.0</td>\n",
              "      <td>1.0</td>\n",
              "      <td>0.0</td>\n",
              "      <td>0.0</td>\n",
              "      <td>0.0</td>\n",
              "      <td>0.0</td>\n",
              "      <td>0.0</td>\n",
              "      <td>0.0</td>\n",
              "      <td>0.0</td>\n",
              "      <td>0.0</td>\n",
              "      <td>0.0</td>\n",
              "      <td>0.0</td>\n",
              "      <td>0.0</td>\n",
              "      <td>0.0</td>\n",
              "      <td>0.0</td>\n",
              "      <td>1.0</td>\n",
              "      <td>0.0</td>\n",
              "      <td>0.0</td>\n",
              "      <td>0.0</td>\n",
              "      <td>0.0</td>\n",
              "      <td>0.0</td>\n",
              "      <td>0.0</td>\n",
              "      <td>0.0</td>\n",
              "      <td>0.0</td>\n",
              "      <td>1.0</td>\n",
              "      <td>0.0</td>\n",
              "      <td>0.0</td>\n",
              "      <td>0.0</td>\n",
              "      <td>0.0</td>\n",
              "      <td>0.0</td>\n",
              "      <td>0.0</td>\n",
              "      <td>0.0</td>\n",
              "      <td>0.0</td>\n",
              "      <td>0.0</td>\n",
              "      <td>0.0</td>\n",
              "      <td>0.0</td>\n",
              "      <td>0.0</td>\n",
              "      <td>0.0</td>\n",
              "      <td>1.0</td>\n",
              "      <td>0.0</td>\n",
              "      <td>0.0</td>\n",
              "      <td>0.0</td>\n",
              "      <td>0.0</td>\n",
              "      <td>0.0</td>\n",
              "      <td>0.0</td>\n",
              "      <td>0.0</td>\n",
              "      <td>0.0</td>\n",
              "      <td>0.0</td>\n",
              "      <td>1.0</td>\n",
              "      <td>0.0</td>\n",
              "      <td>0.0</td>\n",
              "      <td>1.0</td>\n",
              "      <td>0.0</td>\n",
              "      <td>0.0</td>\n",
              "      <td>1.0</td>\n",
              "      <td>0.0</td>\n",
              "      <td>0.0</td>\n",
              "      <td>0.0</td>\n",
              "      <td>0.0</td>\n",
              "      <td>0.0</td>\n",
              "      <td>1.0</td>\n",
              "      <td>0.0</td>\n",
              "      <td>0.0</td>\n",
              "      <td>1.0</td>\n",
              "      <td>0.0</td>\n",
              "      <td>0.0</td>\n",
              "      <td>1.0</td>\n",
              "      <td>0.0</td>\n",
              "    </tr>\n",
              "    <tr>\n",
              "      <th>4</th>\n",
              "      <td>0.273973</td>\n",
              "      <td>0.184109</td>\n",
              "      <td>0.866667</td>\n",
              "      <td>0.0</td>\n",
              "      <td>0.25</td>\n",
              "      <td>0.0</td>\n",
              "      <td>0.0</td>\n",
              "      <td>1.0</td>\n",
              "      <td>0.0</td>\n",
              "      <td>0.0</td>\n",
              "      <td>0.0</td>\n",
              "      <td>0.0</td>\n",
              "      <td>0.0</td>\n",
              "      <td>0.0</td>\n",
              "      <td>0.0</td>\n",
              "      <td>0.0</td>\n",
              "      <td>0.0</td>\n",
              "      <td>0.0</td>\n",
              "      <td>0.0</td>\n",
              "      <td>0.0</td>\n",
              "      <td>0.0</td>\n",
              "      <td>0.0</td>\n",
              "      <td>0.0</td>\n",
              "      <td>0.0</td>\n",
              "      <td>1.0</td>\n",
              "      <td>0.0</td>\n",
              "      <td>0.0</td>\n",
              "      <td>0.0</td>\n",
              "      <td>0.0</td>\n",
              "      <td>0.0</td>\n",
              "      <td>1.0</td>\n",
              "      <td>0.0</td>\n",
              "      <td>0.0</td>\n",
              "      <td>0.0</td>\n",
              "      <td>0.0</td>\n",
              "      <td>0.0</td>\n",
              "      <td>0.0</td>\n",
              "      <td>0.0</td>\n",
              "      <td>1.0</td>\n",
              "      <td>0.0</td>\n",
              "      <td>0.0</td>\n",
              "      <td>0.0</td>\n",
              "      <td>0.0</td>\n",
              "      <td>0.0</td>\n",
              "      <td>0.0</td>\n",
              "      <td>0.0</td>\n",
              "      <td>0.0</td>\n",
              "      <td>0.0</td>\n",
              "      <td>0.0</td>\n",
              "      <td>0.0</td>\n",
              "      <td>0.0</td>\n",
              "      <td>0.0</td>\n",
              "      <td>0.0</td>\n",
              "      <td>0.0</td>\n",
              "      <td>1.0</td>\n",
              "      <td>0.0</td>\n",
              "      <td>0.0</td>\n",
              "      <td>0.0</td>\n",
              "      <td>0.0</td>\n",
              "      <td>1.0</td>\n",
              "      <td>1.0</td>\n",
              "      <td>0.0</td>\n",
              "      <td>0.0</td>\n",
              "      <td>0.0</td>\n",
              "      <td>0.0</td>\n",
              "      <td>0.0</td>\n",
              "      <td>1.0</td>\n",
              "      <td>0.0</td>\n",
              "      <td>0.0</td>\n",
              "      <td>1.0</td>\n",
              "      <td>0.0</td>\n",
              "      <td>0.0</td>\n",
              "      <td>1.0</td>\n",
              "      <td>0.0</td>\n",
              "    </tr>\n",
              "  </tbody>\n",
              "</table>\n",
              "</div>"
            ],
            "text/plain": [
              "        Age    fnlwgt  ...  capital_loss_low  capital_loss_medium\n",
              "0  0.452055  0.047277  ...               1.0                  0.0\n",
              "1  0.287671  0.137244  ...               1.0                  0.0\n",
              "2  0.493151  0.150212  ...               1.0                  0.0\n",
              "3  0.150685  0.220703  ...               1.0                  0.0\n",
              "4  0.273973  0.184109  ...               1.0                  0.0\n",
              "\n",
              "[5 rows x 74 columns]"
            ]
          },
          "metadata": {},
          "execution_count": 65
        }
      ]
    },
    {
      "cell_type": "markdown",
      "metadata": {
        "id": "zQDMnewumH3C"
      },
      "source": [
        "##**Using the Naive Bayes Classifier Model for Classification:**"
      ]
    },
    {
      "cell_type": "markdown",
      "metadata": {
        "id": "k_DcWg1xmaNC"
      },
      "source": [
        "###**Making the Training, Validation and Test Sets**\n",
        "While building real-world machine learning models, it is quite common to split the dataset into three parts:\n",
        "\n",
        "**Training set** - used to train the model, i.e., compute the loss and adjust the model's weights using an optimization technique.\n",
        "\n",
        "**Validation set** - used to evaluate the model during training, tune model hyperparameters (optimization technique, regularization etc.), and pick the best version of the model. Picking a good validation set is essential for training models that generalize well. Learn more here.\n",
        "\n",
        "**Test set** - used to compare different models or approaches and report the model's final accuracy. For many datasets, test sets are provided separately. The test set should reflect the kind of data the model will encounter in the real-world, as closely as feasible.\n",
        "\n",
        "\n",
        "As a general rule of thumb you can use around 60% of the data for the training set, 20% for the validation set and 20% for the test set. If a separate test set is already provided, you can use a 75%-25% training-validation split."
      ]
    },
    {
      "cell_type": "code",
      "metadata": {
        "id": "R26TnY8LmPv1"
      },
      "source": [
        "from sklearn.model_selection import train_test_split"
      ],
      "execution_count": 66,
      "outputs": []
    },
    {
      "cell_type": "code",
      "metadata": {
        "id": "pXRcqz_gm8_i"
      },
      "source": [
        "train_df, val_df = train_test_split(df, test_size=0.05, random_state=42)"
      ],
      "execution_count": 67,
      "outputs": []
    },
    {
      "cell_type": "code",
      "metadata": {
        "id": "W59lTOMJnC1X",
        "colab": {
          "base_uri": "https://localhost:8080/"
        },
        "outputId": "590eea73-b8a7-4545-e217-2ce24fce69ad"
      },
      "source": [
        "print('train_df.shape :', train_df.shape)\n",
        "print('val_df.shape :', val_df.shape)"
      ],
      "execution_count": 68,
      "outputs": [
        {
          "output_type": "stream",
          "name": "stdout",
          "text": [
            "train_df.shape : (28652, 74)\n",
            "val_df.shape : (1509, 74)\n"
          ]
        }
      ]
    },
    {
      "cell_type": "markdown",
      "metadata": {
        "id": "SVOcYVuNnJpW"
      },
      "source": [
        "###**Identifying Input and Target Columns**\n",
        "Often, not all the columns in a dataset are useful for training a model. In the current dataset, we can ignore the Date column, since we only want to weather conditions to make a prediction about whether it will rain the next day.\n",
        "\n",
        "Let's create a list of input columns, and also identify the target column."
      ]
    },
    {
      "cell_type": "code",
      "metadata": {
        "id": "x7LFL07Gnm-1",
        "colab": {
          "base_uri": "https://localhost:8080/"
        },
        "outputId": "362f38ac-1f8c-487b-bbd6-43580e387362"
      },
      "source": [
        "df.columns"
      ],
      "execution_count": 69,
      "outputs": [
        {
          "output_type": "execute_result",
          "data": {
            "text/plain": [
              "Index(['Age', 'fnlwgt', 'Years of education', '>50K', 'Working hour level',\n",
              "       'Work Class_ Federal-gov', 'Work Class_ Local-gov',\n",
              "       'Work Class_ Private', 'Work Class_ Self-emp-inc',\n",
              "       'Work Class_ Self-emp-not-inc', 'Work Class_ State-gov',\n",
              "       'Work Class_ Without-pay', 'Education_ 10th', 'Education_ 11th',\n",
              "       'Education_ 12th', 'Education_ 1st-4th', 'Education_ 5th-6th',\n",
              "       'Education_ 7th-8th', 'Education_ 9th', 'Education_ Assoc-acdm',\n",
              "       'Education_ Assoc-voc', 'Education_ Bachelors', 'Education_ Doctorate',\n",
              "       'Education_ HS-grad', 'Education_ Masters', 'Education_ Preschool',\n",
              "       'Education_ Prof-school', 'Education_ Some-college',\n",
              "       'Marital status_ Divorced', 'Marital status_ Married-AF-spouse',\n",
              "       'Marital status_ Married-civ-spouse',\n",
              "       'Marital status_ Married-spouse-absent',\n",
              "       'Marital status_ Never-married', 'Marital status_ Separated',\n",
              "       'Marital status_ Widowed', 'Occupation_ Adm-clerical',\n",
              "       'Occupation_ Armed-Forces', 'Occupation_ Craft-repair',\n",
              "       'Occupation_ Exec-managerial', 'Occupation_ Farming-fishing',\n",
              "       'Occupation_ Handlers-cleaners', 'Occupation_ Machine-op-inspct',\n",
              "       'Occupation_ Other-service', 'Occupation_ Priv-house-serv',\n",
              "       'Occupation_ Prof-specialty', 'Occupation_ Protective-serv',\n",
              "       'Occupation_ Sales', 'Occupation_ Tech-support',\n",
              "       'Occupation_ Transport-moving', 'Relationship_ Husband',\n",
              "       'Relationship_ Not-in-family', 'Relationship_ Other-relative',\n",
              "       'Relationship_ Own-child', 'Relationship_ Unmarried',\n",
              "       'Relationship_ Wife', 'Race_ Amer-Indian-Eskimo',\n",
              "       'Race_ Asian-Pac-Islander', 'Race_ Black', 'Race_ Other', 'Race_ White',\n",
              "       'Sex_ Female', 'Sex_ Male', 'Native Region_Asia_Central',\n",
              "       'Native Region_Asia_East', 'Native Region_Europe_East',\n",
              "       'Native Region_Europe_West', 'Native Region_North_America',\n",
              "       'Native Region_South_America', 'capital_gain_high', 'capital_gain_low',\n",
              "       'capital_gain_medium', 'capital_loss_high', 'capital_loss_low',\n",
              "       'capital_loss_medium'],\n",
              "      dtype='object')"
            ]
          },
          "metadata": {},
          "execution_count": 69
        }
      ]
    },
    {
      "cell_type": "code",
      "metadata": {
        "id": "JydS_WI2nTfb"
      },
      "source": [
        "input_cols = ['Age', 'fnlwgt', 'Years of education', 'Working hour level', 'Work Class_ Federal-gov',\n",
        "       'Work Class_ Local-gov', 'Work Class_ Private',\n",
        "       'Work Class_ Self-emp-inc', 'Work Class_ Self-emp-not-inc',\n",
        "       'Work Class_ State-gov', 'Work Class_ Without-pay', 'Education_ 10th',\n",
        "       'Education_ 11th', 'Education_ 12th', 'Education_ 1st-4th',\n",
        "       'Education_ 5th-6th', 'Education_ 7th-8th', 'Education_ 9th',\n",
        "       'Education_ Assoc-acdm', 'Education_ Assoc-voc', 'Education_ Bachelors',\n",
        "       'Education_ Doctorate', 'Education_ HS-grad', 'Education_ Masters',\n",
        "       'Education_ Preschool', 'Education_ Prof-school',\n",
        "       'Education_ Some-college', 'Marital status_ Divorced',\n",
        "       'Marital status_ Married-AF-spouse',\n",
        "       'Marital status_ Married-civ-spouse',\n",
        "       'Marital status_ Married-spouse-absent',\n",
        "       'Marital status_ Never-married', 'Marital status_ Separated',\n",
        "       'Marital status_ Widowed', 'Occupation_ Adm-clerical',\n",
        "       'Occupation_ Armed-Forces', 'Occupation_ Craft-repair',\n",
        "       'Occupation_ Exec-managerial', 'Occupation_ Farming-fishing',\n",
        "       'Occupation_ Handlers-cleaners', 'Occupation_ Machine-op-inspct',\n",
        "       'Occupation_ Other-service', 'Occupation_ Priv-house-serv',\n",
        "       'Occupation_ Prof-specialty', 'Occupation_ Protective-serv',\n",
        "       'Occupation_ Sales', 'Occupation_ Tech-support',\n",
        "       'Occupation_ Transport-moving', 'Relationship_ Husband',\n",
        "       'Relationship_ Not-in-family', 'Relationship_ Other-relative',\n",
        "       'Relationship_ Own-child', 'Relationship_ Unmarried',\n",
        "       'Relationship_ Wife', 'Race_ Amer-Indian-Eskimo',\n",
        "       'Race_ Asian-Pac-Islander', 'Race_ Black', 'Race_ Other', 'Race_ White',\n",
        "       'Sex_ Female', 'Sex_ Male', 'Native Region_Asia_Central',\n",
        "       'Native Region_Asia_East', 'Native Region_Europe_East',\n",
        "       'Native Region_Europe_West', 'Native Region_North_America',\n",
        "       'Native Region_South_America', 'capital_gain_high', 'capital_gain_low',\n",
        "       'capital_gain_medium', 'capital_loss_high', 'capital_loss_low',\n",
        "       'capital_loss_medium']"
      ],
      "execution_count": 70,
      "outputs": []
    },
    {
      "cell_type": "code",
      "metadata": {
        "id": "w_X8Z-6DpOP7"
      },
      "source": [
        "target_col = '>50K'"
      ],
      "execution_count": 71,
      "outputs": []
    },
    {
      "cell_type": "code",
      "metadata": {
        "id": "VVKm6XmDnejS"
      },
      "source": [
        "train_inputs = train_df[input_cols]\n",
        "train_targets = train_df[target_col]\n",
        "\n",
        "val_inputs = val_df[input_cols]\n",
        "val_targets = val_df[target_col]"
      ],
      "execution_count": 72,
      "outputs": []
    },
    {
      "cell_type": "markdown",
      "metadata": {
        "id": "G4FshsBTpsGf"
      },
      "source": [
        "##**Building the Naive Bayes Classifier**"
      ]
    },
    {
      "cell_type": "code",
      "metadata": {
        "id": "an2AFtx5fWxv"
      },
      "source": [
        "#Import Gaussian Naive Bayes model\n",
        "from sklearn.naive_bayes import GaussianNB"
      ],
      "execution_count": 73,
      "outputs": []
    },
    {
      "cell_type": "code",
      "metadata": {
        "id": "Y6omiGVVpwdn"
      },
      "source": [
        "#Create a Gaussian Classifier\n",
        "model = GaussianNB()"
      ],
      "execution_count": 74,
      "outputs": []
    },
    {
      "cell_type": "code",
      "metadata": {
        "id": "tsyUXfPxfZHm",
        "colab": {
          "base_uri": "https://localhost:8080/"
        },
        "outputId": "9e3649dd-d2be-4d84-a99d-92336403058b"
      },
      "source": [
        "# Train the model using the training sets\n",
        "model.fit(train_inputs,train_targets)"
      ],
      "execution_count": 75,
      "outputs": [
        {
          "output_type": "execute_result",
          "data": {
            "text/plain": [
              "GaussianNB(priors=None, var_smoothing=1e-09)"
            ]
          },
          "metadata": {},
          "execution_count": 75
        }
      ]
    },
    {
      "cell_type": "markdown",
      "metadata": {
        "id": "aSSTxIt3fKma"
      },
      "source": [
        "##**Making predictions using the Naive Bayes Classifier**"
      ]
    },
    {
      "cell_type": "code",
      "metadata": {
        "colab": {
          "base_uri": "https://localhost:8080/"
        },
        "id": "uNqWPGZ49LVr",
        "outputId": "7b70d19f-c19a-4480-ff88-733698cdbedd"
      },
      "source": [
        "#making predictions on the train data\n",
        "\n",
        "train_preds= model.predict(train_inputs)\n",
        "train_preds"
      ],
      "execution_count": 76,
      "outputs": [
        {
          "output_type": "execute_result",
          "data": {
            "text/plain": [
              "array([0., 1., 1., ..., 1., 0., 0.])"
            ]
          },
          "metadata": {},
          "execution_count": 76
        }
      ]
    },
    {
      "cell_type": "code",
      "metadata": {
        "colab": {
          "base_uri": "https://localhost:8080/"
        },
        "id": "ahjHdZhL9Fzw",
        "outputId": "109cefe2-a44f-41fe-9f0f-d1f368502e50"
      },
      "source": [
        "from sklearn.metrics import accuracy_score #for accuracy_score\n",
        "\n",
        "print('--------------The Accuracy of the model----------------------------')\n",
        "print('The accuracy of the Naive Bayes Classifier on the Training dataset is',round(accuracy_score(train_preds,train_targets)*100,2))"
      ],
      "execution_count": 77,
      "outputs": [
        {
          "output_type": "stream",
          "name": "stdout",
          "text": [
            "--------------The Accuracy of the model----------------------------\n",
            "The accuracy of the Naive Bayes Classifier on the Training dataset is 66.4\n"
          ]
        }
      ]
    },
    {
      "cell_type": "code",
      "metadata": {
        "id": "XetQyg9ZqTfP",
        "colab": {
          "base_uri": "https://localhost:8080/"
        },
        "outputId": "4c434ad4-f57d-42a7-a276-8bfc370c3046"
      },
      "source": [
        "#making predictions on the validation data\n",
        "\n",
        "val_preds= model.predict(val_inputs)\n",
        "val_preds"
      ],
      "execution_count": 78,
      "outputs": [
        {
          "output_type": "execute_result",
          "data": {
            "text/plain": [
              "array([0., 1., 1., ..., 1., 0., 1.])"
            ]
          },
          "metadata": {},
          "execution_count": 78
        }
      ]
    },
    {
      "cell_type": "code",
      "metadata": {
        "id": "fovrbVc3rnvv",
        "colab": {
          "base_uri": "https://localhost:8080/"
        },
        "outputId": "4d107f56-0bc8-4f59-b2b4-eec38c9ff444"
      },
      "source": [
        "from sklearn.metrics import accuracy_score #for accuracy_score\n",
        "\n",
        "print('--------------The Accuracy of the model----------------------------')\n",
        "print('The accuracy of the Naive Bayes Classifier on the Validation dataset is',round(accuracy_score(val_preds,val_targets)*100,2))"
      ],
      "execution_count": 79,
      "outputs": [
        {
          "output_type": "stream",
          "name": "stdout",
          "text": [
            "--------------The Accuracy of the model----------------------------\n",
            "The accuracy of the Naive Bayes Classifier on the Validation dataset is 66.0\n"
          ]
        }
      ]
    },
    {
      "cell_type": "code",
      "metadata": {
        "id": "qPwASs8Xq5e1",
        "colab": {
          "base_uri": "https://localhost:8080/",
          "height": 298
        },
        "outputId": "24a91d5a-2990-4c74-d6a3-95c9d5d13f94"
      },
      "source": [
        "from sklearn.metrics import confusion_matrix #for confusion matrix\n",
        "\n",
        "cm = confusion_matrix(val_targets,val_preds)\n",
        "\n",
        "#visualize the confusion matrix \n",
        "sns.heatmap(cm,annot=True)\n",
        "plt.title('Confusion Matrix')"
      ],
      "execution_count": 80,
      "outputs": [
        {
          "output_type": "execute_result",
          "data": {
            "text/plain": [
              "Text(0.5, 1.0, 'Confusion Matrix')"
            ]
          },
          "metadata": {},
          "execution_count": 80
        },
        {
          "output_type": "display_data",
          "data": {
            "image/png": "[encoded data removed]",
            "text/plain": [
              "<Figure size 432x288 with 2 Axes>"
            ]
          },
          "metadata": {
            "needs_background": "light"
          }
        }
      ]
    }
  ]
}